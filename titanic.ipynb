{
 "cells": [
  {
   "cell_type": "code",
   "execution_count": 260,
   "metadata": {},
   "outputs": [],
   "source": [
    "setwd(\"C:/Users/yy/Desktop/2019-1st-ml-month-with-kakr\")"
   ]
  },
  {
   "cell_type": "code",
   "execution_count": 261,
   "metadata": {},
   "outputs": [],
   "source": [
    "train=read.csv(\"train.csv\",stringsAsFactors=FALSE)\n",
    "test=read.csv(\"test.csv\",stringsAsFactors=FALSE)"
   ]
  },
  {
   "cell_type": "code",
   "execution_count": 262,
   "metadata": {},
   "outputs": [
    {
     "data": {
      "text/html": [
       "<table>\n",
       "<thead><tr><th scope=col>PassengerId</th><th scope=col>Survived</th><th scope=col>Pclass</th><th scope=col>Name</th><th scope=col>Sex</th><th scope=col>Age</th><th scope=col>SibSp</th><th scope=col>Parch</th><th scope=col>Ticket</th><th scope=col>Fare</th><th scope=col>Cabin</th><th scope=col>Embarked</th></tr></thead>\n",
       "<tbody>\n",
       "\t<tr><td>1                                                  </td><td>0                                                  </td><td>3                                                  </td><td>Braund, Mr. Owen Harris                            </td><td>male                                               </td><td>22                                                 </td><td>1                                                  </td><td>0                                                  </td><td>A/5 21171                                          </td><td> 7.2500                                            </td><td>                                                   </td><td>S                                                  </td></tr>\n",
       "\t<tr><td>2                                                  </td><td>1                                                  </td><td>1                                                  </td><td>Cumings, Mrs. John Bradley (Florence Briggs Thayer)</td><td>female                                             </td><td>38                                                 </td><td>1                                                  </td><td>0                                                  </td><td>PC 17599                                           </td><td>71.2833                                            </td><td>C85                                                </td><td>C                                                  </td></tr>\n",
       "\t<tr><td>3                                                  </td><td>1                                                  </td><td>3                                                  </td><td>Heikkinen, Miss. Laina                             </td><td>female                                             </td><td>26                                                 </td><td>0                                                  </td><td>0                                                  </td><td>STON/O2. 3101282                                   </td><td> 7.9250                                            </td><td>                                                   </td><td>S                                                  </td></tr>\n",
       "\t<tr><td>4                                                  </td><td>1                                                  </td><td>1                                                  </td><td>Futrelle, Mrs. Jacques Heath (Lily May Peel)       </td><td>female                                             </td><td>35                                                 </td><td>1                                                  </td><td>0                                                  </td><td>113803                                             </td><td>53.1000                                            </td><td>C123                                               </td><td>S                                                  </td></tr>\n",
       "\t<tr><td>5                                                  </td><td>0                                                  </td><td>3                                                  </td><td>Allen, Mr. William Henry                           </td><td>male                                               </td><td>35                                                 </td><td>0                                                  </td><td>0                                                  </td><td>373450                                             </td><td> 8.0500                                            </td><td>                                                   </td><td>S                                                  </td></tr>\n",
       "\t<tr><td>6                                                  </td><td>0                                                  </td><td>3                                                  </td><td>Moran, Mr. James                                   </td><td>male                                               </td><td>NA                                                 </td><td>0                                                  </td><td>0                                                  </td><td>330877                                             </td><td> 8.4583                                            </td><td>                                                   </td><td>Q                                                  </td></tr>\n",
       "</tbody>\n",
       "</table>\n"
      ],
      "text/latex": [
       "\\begin{tabular}{r|llllllllllll}\n",
       " PassengerId & Survived & Pclass & Name & Sex & Age & SibSp & Parch & Ticket & Fare & Cabin & Embarked\\\\\n",
       "\\hline\n",
       "\t 1                                                   & 0                                                   & 3                                                   & Braund, Mr. Owen Harris                             & male                                                & 22                                                  & 1                                                   & 0                                                   & A/5 21171                                           &  7.2500                                             &                                                     & S                                                  \\\\\n",
       "\t 2                                                   & 1                                                   & 1                                                   & Cumings, Mrs. John Bradley (Florence Briggs Thayer) & female                                              & 38                                                  & 1                                                   & 0                                                   & PC 17599                                            & 71.2833                                             & C85                                                 & C                                                  \\\\\n",
       "\t 3                                                   & 1                                                   & 3                                                   & Heikkinen, Miss. Laina                              & female                                              & 26                                                  & 0                                                   & 0                                                   & STON/O2. 3101282                                    &  7.9250                                             &                                                     & S                                                  \\\\\n",
       "\t 4                                                   & 1                                                   & 1                                                   & Futrelle, Mrs. Jacques Heath (Lily May Peel)        & female                                              & 35                                                  & 1                                                   & 0                                                   & 113803                                              & 53.1000                                             & C123                                                & S                                                  \\\\\n",
       "\t 5                                                   & 0                                                   & 3                                                   & Allen, Mr. William Henry                            & male                                                & 35                                                  & 0                                                   & 0                                                   & 373450                                              &  8.0500                                             &                                                     & S                                                  \\\\\n",
       "\t 6                                                   & 0                                                   & 3                                                   & Moran, Mr. James                                    & male                                                & NA                                                  & 0                                                   & 0                                                   & 330877                                              &  8.4583                                             &                                                     & Q                                                  \\\\\n",
       "\\end{tabular}\n"
      ],
      "text/markdown": [
       "\n",
       "PassengerId | Survived | Pclass | Name | Sex | Age | SibSp | Parch | Ticket | Fare | Cabin | Embarked | \n",
       "|---|---|---|---|---|---|\n",
       "| 1                                                   | 0                                                   | 3                                                   | Braund, Mr. Owen Harris                             | male                                                | 22                                                  | 1                                                   | 0                                                   | A/5 21171                                           |  7.2500                                             |                                                     | S                                                   | \n",
       "| 2                                                   | 1                                                   | 1                                                   | Cumings, Mrs. John Bradley (Florence Briggs Thayer) | female                                              | 38                                                  | 1                                                   | 0                                                   | PC 17599                                            | 71.2833                                             | C85                                                 | C                                                   | \n",
       "| 3                                                   | 1                                                   | 3                                                   | Heikkinen, Miss. Laina                              | female                                              | 26                                                  | 0                                                   | 0                                                   | STON/O2. 3101282                                    |  7.9250                                             |                                                     | S                                                   | \n",
       "| 4                                                   | 1                                                   | 1                                                   | Futrelle, Mrs. Jacques Heath (Lily May Peel)        | female                                              | 35                                                  | 1                                                   | 0                                                   | 113803                                              | 53.1000                                             | C123                                                | S                                                   | \n",
       "| 5                                                   | 0                                                   | 3                                                   | Allen, Mr. William Henry                            | male                                                | 35                                                  | 0                                                   | 0                                                   | 373450                                              |  8.0500                                             |                                                     | S                                                   | \n",
       "| 6                                                   | 0                                                   | 3                                                   | Moran, Mr. James                                    | male                                                | NA                                                  | 0                                                   | 0                                                   | 330877                                              |  8.4583                                             |                                                     | Q                                                   | \n",
       "\n",
       "\n"
      ],
      "text/plain": [
       "  PassengerId Survived Pclass\n",
       "1 1           0        3     \n",
       "2 2           1        1     \n",
       "3 3           1        3     \n",
       "4 4           1        1     \n",
       "5 5           0        3     \n",
       "6 6           0        3     \n",
       "  Name                                                Sex    Age SibSp Parch\n",
       "1 Braund, Mr. Owen Harris                             male   22  1     0    \n",
       "2 Cumings, Mrs. John Bradley (Florence Briggs Thayer) female 38  1     0    \n",
       "3 Heikkinen, Miss. Laina                              female 26  0     0    \n",
       "4 Futrelle, Mrs. Jacques Heath (Lily May Peel)        female 35  1     0    \n",
       "5 Allen, Mr. William Henry                            male   35  0     0    \n",
       "6 Moran, Mr. James                                    male   NA  0     0    \n",
       "  Ticket           Fare    Cabin Embarked\n",
       "1 A/5 21171         7.2500       S       \n",
       "2 PC 17599         71.2833 C85   C       \n",
       "3 STON/O2. 3101282  7.9250       S       \n",
       "4 113803           53.1000 C123  S       \n",
       "5 373450            8.0500       S       \n",
       "6 330877            8.4583       Q       "
      ]
     },
     "metadata": {},
     "output_type": "display_data"
    }
   ],
   "source": [
    "head(train)"
   ]
  },
  {
   "cell_type": "code",
   "execution_count": 263,
   "metadata": {},
   "outputs": [
    {
     "name": "stdout",
     "output_type": "stream",
     "text": [
      "'data.frame':\t891 obs. of  12 variables:\n",
      " $ PassengerId: int  1 2 3 4 5 6 7 8 9 10 ...\n",
      " $ Survived   : int  0 1 1 1 0 0 0 0 1 1 ...\n",
      " $ Pclass     : int  3 1 3 1 3 3 1 3 3 2 ...\n",
      " $ Name       : chr  \"Braund, Mr. Owen Harris\" \"Cumings, Mrs. John Bradley (Florence Briggs Thayer)\" \"Heikkinen, Miss. Laina\" \"Futrelle, Mrs. Jacques Heath (Lily May Peel)\" ...\n",
      " $ Sex        : chr  \"male\" \"female\" \"female\" \"female\" ...\n",
      " $ Age        : num  22 38 26 35 35 NA 54 2 27 14 ...\n",
      " $ SibSp      : int  1 1 0 1 0 0 0 3 0 1 ...\n",
      " $ Parch      : int  0 0 0 0 0 0 0 1 2 0 ...\n",
      " $ Ticket     : chr  \"A/5 21171\" \"PC 17599\" \"STON/O2. 3101282\" \"113803\" ...\n",
      " $ Fare       : num  7.25 71.28 7.92 53.1 8.05 ...\n",
      " $ Cabin      : chr  \"\" \"C85\" \"\" \"C123\" ...\n",
      " $ Embarked   : chr  \"S\" \"C\" \"S\" \"S\" ...\n"
     ]
    }
   ],
   "source": [
    "str(train)"
   ]
  },
  {
   "cell_type": "code",
   "execution_count": 264,
   "metadata": {},
   "outputs": [
    {
     "data": {
      "text/html": [
       "<dl class=dl-horizontal>\n",
       "\t<dt>PassengerId</dt>\n",
       "\t\t<dd>0</dd>\n",
       "\t<dt>Survived</dt>\n",
       "\t\t<dd>0</dd>\n",
       "\t<dt>Pclass</dt>\n",
       "\t\t<dd>0</dd>\n",
       "\t<dt>Name</dt>\n",
       "\t\t<dd>0</dd>\n",
       "\t<dt>Sex</dt>\n",
       "\t\t<dd>0</dd>\n",
       "\t<dt>Age</dt>\n",
       "\t\t<dd>177</dd>\n",
       "\t<dt>SibSp</dt>\n",
       "\t\t<dd>0</dd>\n",
       "\t<dt>Parch</dt>\n",
       "\t\t<dd>0</dd>\n",
       "\t<dt>Ticket</dt>\n",
       "\t\t<dd>0</dd>\n",
       "\t<dt>Fare</dt>\n",
       "\t\t<dd>0</dd>\n",
       "\t<dt>Cabin</dt>\n",
       "\t\t<dd>0</dd>\n",
       "\t<dt>Embarked</dt>\n",
       "\t\t<dd>0</dd>\n",
       "</dl>\n"
      ],
      "text/latex": [
       "\\begin{description*}\n",
       "\\item[PassengerId] 0\n",
       "\\item[Survived] 0\n",
       "\\item[Pclass] 0\n",
       "\\item[Name] 0\n",
       "\\item[Sex] 0\n",
       "\\item[Age] 177\n",
       "\\item[SibSp] 0\n",
       "\\item[Parch] 0\n",
       "\\item[Ticket] 0\n",
       "\\item[Fare] 0\n",
       "\\item[Cabin] 0\n",
       "\\item[Embarked] 0\n",
       "\\end{description*}\n"
      ],
      "text/markdown": [
       "PassengerId\n",
       ":   0Survived\n",
       ":   0Pclass\n",
       ":   0Name\n",
       ":   0Sex\n",
       ":   0Age\n",
       ":   177SibSp\n",
       ":   0Parch\n",
       ":   0Ticket\n",
       ":   0Fare\n",
       ":   0Cabin\n",
       ":   0Embarked\n",
       ":   0\n",
       "\n"
      ],
      "text/plain": [
       "PassengerId    Survived      Pclass        Name         Sex         Age \n",
       "          0           0           0           0           0         177 \n",
       "      SibSp       Parch      Ticket        Fare       Cabin    Embarked \n",
       "          0           0           0           0           0           0 "
      ]
     },
     "metadata": {},
     "output_type": "display_data"
    }
   ],
   "source": [
    "colSums(is.na(train))"
   ]
  },
  {
   "cell_type": "code",
   "execution_count": 265,
   "metadata": {},
   "outputs": [
    {
     "data": {
      "text/html": [
       "<dl class=dl-horizontal>\n",
       "\t<dt>PassengerId</dt>\n",
       "\t\t<dd>0</dd>\n",
       "\t<dt>Pclass</dt>\n",
       "\t\t<dd>0</dd>\n",
       "\t<dt>Name</dt>\n",
       "\t\t<dd>0</dd>\n",
       "\t<dt>Sex</dt>\n",
       "\t\t<dd>0</dd>\n",
       "\t<dt>Age</dt>\n",
       "\t\t<dd>86</dd>\n",
       "\t<dt>SibSp</dt>\n",
       "\t\t<dd>0</dd>\n",
       "\t<dt>Parch</dt>\n",
       "\t\t<dd>0</dd>\n",
       "\t<dt>Ticket</dt>\n",
       "\t\t<dd>0</dd>\n",
       "\t<dt>Fare</dt>\n",
       "\t\t<dd>1</dd>\n",
       "\t<dt>Cabin</dt>\n",
       "\t\t<dd>0</dd>\n",
       "\t<dt>Embarked</dt>\n",
       "\t\t<dd>0</dd>\n",
       "</dl>\n"
      ],
      "text/latex": [
       "\\begin{description*}\n",
       "\\item[PassengerId] 0\n",
       "\\item[Pclass] 0\n",
       "\\item[Name] 0\n",
       "\\item[Sex] 0\n",
       "\\item[Age] 86\n",
       "\\item[SibSp] 0\n",
       "\\item[Parch] 0\n",
       "\\item[Ticket] 0\n",
       "\\item[Fare] 1\n",
       "\\item[Cabin] 0\n",
       "\\item[Embarked] 0\n",
       "\\end{description*}\n"
      ],
      "text/markdown": [
       "PassengerId\n",
       ":   0Pclass\n",
       ":   0Name\n",
       ":   0Sex\n",
       ":   0Age\n",
       ":   86SibSp\n",
       ":   0Parch\n",
       ":   0Ticket\n",
       ":   0Fare\n",
       ":   1Cabin\n",
       ":   0Embarked\n",
       ":   0\n",
       "\n"
      ],
      "text/plain": [
       "PassengerId      Pclass        Name         Sex         Age       SibSp \n",
       "          0           0           0           0          86           0 \n",
       "      Parch      Ticket        Fare       Cabin    Embarked \n",
       "          0           0           1           0           0 "
      ]
     },
     "metadata": {},
     "output_type": "display_data"
    }
   ],
   "source": [
    "colSums(is.na(test))"
   ]
  },
  {
   "cell_type": "code",
   "execution_count": 266,
   "metadata": {},
   "outputs": [
    {
     "data": {
      "text/plain": [
       "  PassengerId       Survived          Pclass          Name          \n",
       " Min.   :  1.0   Min.   :0.0000   Min.   :1.000   Length:891        \n",
       " 1st Qu.:223.5   1st Qu.:0.0000   1st Qu.:2.000   Class :character  \n",
       " Median :446.0   Median :0.0000   Median :3.000   Mode  :character  \n",
       " Mean   :446.0   Mean   :0.3838   Mean   :2.309                     \n",
       " 3rd Qu.:668.5   3rd Qu.:1.0000   3rd Qu.:3.000                     \n",
       " Max.   :891.0   Max.   :1.0000   Max.   :3.000                     \n",
       "                                                                    \n",
       "     Sex                 Age            SibSp           Parch       \n",
       " Length:891         Min.   : 0.42   Min.   :0.000   Min.   :0.0000  \n",
       " Class :character   1st Qu.:20.12   1st Qu.:0.000   1st Qu.:0.0000  \n",
       " Mode  :character   Median :28.00   Median :0.000   Median :0.0000  \n",
       "                    Mean   :29.70   Mean   :0.523   Mean   :0.3816  \n",
       "                    3rd Qu.:38.00   3rd Qu.:1.000   3rd Qu.:0.0000  \n",
       "                    Max.   :80.00   Max.   :8.000   Max.   :6.0000  \n",
       "                    NA's   :177                                     \n",
       "    Ticket               Fare           Cabin             Embarked        \n",
       " Length:891         Min.   :  0.00   Length:891         Length:891        \n",
       " Class :character   1st Qu.:  7.91   Class :character   Class :character  \n",
       " Mode  :character   Median : 14.45   Mode  :character   Mode  :character  \n",
       "                    Mean   : 32.20                                        \n",
       "                    3rd Qu.: 31.00                                        \n",
       "                    Max.   :512.33                                        \n",
       "                                                                          "
      ]
     },
     "metadata": {},
     "output_type": "display_data"
    }
   ],
   "source": [
    "summary(train)"
   ]
  },
  {
   "cell_type": "code",
   "execution_count": 267,
   "metadata": {},
   "outputs": [
    {
     "data": {
      "text/html": [
       "<dl class=dl-horizontal>\n",
       "\t<dt>PassengerId</dt>\n",
       "\t\t<dd>891</dd>\n",
       "\t<dt>Survived</dt>\n",
       "\t\t<dd>2</dd>\n",
       "\t<dt>Pclass</dt>\n",
       "\t\t<dd>3</dd>\n",
       "\t<dt>Name</dt>\n",
       "\t\t<dd>891</dd>\n",
       "\t<dt>Sex</dt>\n",
       "\t\t<dd>2</dd>\n",
       "\t<dt>Age</dt>\n",
       "\t\t<dd>89</dd>\n",
       "\t<dt>SibSp</dt>\n",
       "\t\t<dd>7</dd>\n",
       "\t<dt>Parch</dt>\n",
       "\t\t<dd>7</dd>\n",
       "\t<dt>Ticket</dt>\n",
       "\t\t<dd>681</dd>\n",
       "\t<dt>Fare</dt>\n",
       "\t\t<dd>248</dd>\n",
       "\t<dt>Cabin</dt>\n",
       "\t\t<dd>148</dd>\n",
       "\t<dt>Embarked</dt>\n",
       "\t\t<dd>4</dd>\n",
       "</dl>\n"
      ],
      "text/latex": [
       "\\begin{description*}\n",
       "\\item[PassengerId] 891\n",
       "\\item[Survived] 2\n",
       "\\item[Pclass] 3\n",
       "\\item[Name] 891\n",
       "\\item[Sex] 2\n",
       "\\item[Age] 89\n",
       "\\item[SibSp] 7\n",
       "\\item[Parch] 7\n",
       "\\item[Ticket] 681\n",
       "\\item[Fare] 248\n",
       "\\item[Cabin] 148\n",
       "\\item[Embarked] 4\n",
       "\\end{description*}\n"
      ],
      "text/markdown": [
       "PassengerId\n",
       ":   891Survived\n",
       ":   2Pclass\n",
       ":   3Name\n",
       ":   891Sex\n",
       ":   2Age\n",
       ":   89SibSp\n",
       ":   7Parch\n",
       ":   7Ticket\n",
       ":   681Fare\n",
       ":   248Cabin\n",
       ":   148Embarked\n",
       ":   4\n",
       "\n"
      ],
      "text/plain": [
       "PassengerId    Survived      Pclass        Name         Sex         Age \n",
       "        891           2           3         891           2          89 \n",
       "      SibSp       Parch      Ticket        Fare       Cabin    Embarked \n",
       "          7           7         681         248         148           4 "
      ]
     },
     "metadata": {},
     "output_type": "display_data"
    }
   ],
   "source": [
    "sapply(train, function(x) length(unique(x)))"
   ]
  },
  {
   "cell_type": "markdown",
   "metadata": {},
   "source": [
    "# EDA: Sex"
   ]
  },
  {
   "cell_type": "code",
   "execution_count": 268,
   "metadata": {},
   "outputs": [],
   "source": [
    "library(dplyr)"
   ]
  },
  {
   "cell_type": "code",
   "execution_count": 269,
   "metadata": {},
   "outputs": [
    {
     "data": {
      "text/plain": [
       "\n",
       "female   male \n",
       "   314    577 "
      ]
     },
     "metadata": {},
     "output_type": "display_data"
    }
   ],
   "source": [
    "table(train$Sex)"
   ]
  },
  {
   "cell_type": "code",
   "execution_count": 270,
   "metadata": {},
   "outputs": [
    {
     "data": {
      "text/html": [
       "<table>\n",
       "<thead><tr><th scope=col>Survived</th><th scope=col>Sex</th><th scope=col>freq</th></tr></thead>\n",
       "<tbody>\n",
       "\t<tr><td>0     </td><td>female</td><td> 81   </td></tr>\n",
       "\t<tr><td>0     </td><td>male  </td><td>468   </td></tr>\n",
       "\t<tr><td>1     </td><td>female</td><td>233   </td></tr>\n",
       "\t<tr><td>1     </td><td>male  </td><td>109   </td></tr>\n",
       "</tbody>\n",
       "</table>\n"
      ],
      "text/latex": [
       "\\begin{tabular}{r|lll}\n",
       " Survived & Sex & freq\\\\\n",
       "\\hline\n",
       "\t 0      & female &  81   \\\\\n",
       "\t 0      & male   & 468   \\\\\n",
       "\t 1      & female & 233   \\\\\n",
       "\t 1      & male   & 109   \\\\\n",
       "\\end{tabular}\n"
      ],
      "text/markdown": [
       "\n",
       "Survived | Sex | freq | \n",
       "|---|---|---|---|\n",
       "| 0      | female |  81    | \n",
       "| 0      | male   | 468    | \n",
       "| 1      | female | 233    | \n",
       "| 1      | male   | 109    | \n",
       "\n",
       "\n"
      ],
      "text/plain": [
       "  Survived Sex    freq\n",
       "1 0        female  81 \n",
       "2 0        male   468 \n",
       "3 1        female 233 \n",
       "4 1        male   109 "
      ]
     },
     "metadata": {},
     "output_type": "display_data"
    }
   ],
   "source": [
    "train %>% group_by(Survived, Sex) %>% summarise(freq = n())"
   ]
  },
  {
   "cell_type": "code",
   "execution_count": 271,
   "metadata": {},
   "outputs": [
    {
     "data": {
      "text/plain": [
       "        \n",
       "                 0         1\n",
       "  female 0.2579618 0.7420382\n",
       "  male   0.8110919 0.1889081"
      ]
     },
     "metadata": {},
     "output_type": "display_data"
    }
   ],
   "source": [
    "prop.table(table(train$Sex,train$Survived),1) #여자들이 생존할 확률이 높음"
   ]
  },
  {
   "cell_type": "markdown",
   "metadata": {},
   "source": [
    "# EDA: Pclass"
   ]
  },
  {
   "cell_type": "code",
   "execution_count": 272,
   "metadata": {},
   "outputs": [
    {
     "data": {
      "text/plain": [
       "\n",
       "  1   2   3 \n",
       "216 184 491 "
      ]
     },
     "metadata": {},
     "output_type": "display_data"
    }
   ],
   "source": [
    "table(train$Pclass)"
   ]
  },
  {
   "cell_type": "code",
   "execution_count": 273,
   "metadata": {},
   "outputs": [
    {
     "data": {
      "text/html": [
       "<table>\n",
       "<thead><tr><th scope=col>Survived</th><th scope=col>Pclass</th><th scope=col>freq</th></tr></thead>\n",
       "<tbody>\n",
       "\t<tr><td>0  </td><td>1  </td><td> 80</td></tr>\n",
       "\t<tr><td>0  </td><td>2  </td><td> 97</td></tr>\n",
       "\t<tr><td>0  </td><td>3  </td><td>372</td></tr>\n",
       "\t<tr><td>1  </td><td>1  </td><td>136</td></tr>\n",
       "\t<tr><td>1  </td><td>2  </td><td> 87</td></tr>\n",
       "\t<tr><td>1  </td><td>3  </td><td>119</td></tr>\n",
       "</tbody>\n",
       "</table>\n"
      ],
      "text/latex": [
       "\\begin{tabular}{r|lll}\n",
       " Survived & Pclass & freq\\\\\n",
       "\\hline\n",
       "\t 0   & 1   &  80\\\\\n",
       "\t 0   & 2   &  97\\\\\n",
       "\t 0   & 3   & 372\\\\\n",
       "\t 1   & 1   & 136\\\\\n",
       "\t 1   & 2   &  87\\\\\n",
       "\t 1   & 3   & 119\\\\\n",
       "\\end{tabular}\n"
      ],
      "text/markdown": [
       "\n",
       "Survived | Pclass | freq | \n",
       "|---|---|---|---|---|---|\n",
       "| 0   | 1   |  80 | \n",
       "| 0   | 2   |  97 | \n",
       "| 0   | 3   | 372 | \n",
       "| 1   | 1   | 136 | \n",
       "| 1   | 2   |  87 | \n",
       "| 1   | 3   | 119 | \n",
       "\n",
       "\n"
      ],
      "text/plain": [
       "  Survived Pclass freq\n",
       "1 0        1       80 \n",
       "2 0        2       97 \n",
       "3 0        3      372 \n",
       "4 1        1      136 \n",
       "5 1        2       87 \n",
       "6 1        3      119 "
      ]
     },
     "metadata": {},
     "output_type": "display_data"
    }
   ],
   "source": [
    "train %>% group_by(Survived, Pclass) %>% summarise(freq = n())"
   ]
  },
  {
   "cell_type": "code",
   "execution_count": 274,
   "metadata": {},
   "outputs": [
    {
     "data": {
      "text/plain": [
       "   \n",
       "            0         1\n",
       "  1 0.3703704 0.6296296\n",
       "  2 0.5271739 0.4728261\n",
       "  3 0.7576375 0.2423625"
      ]
     },
     "metadata": {},
     "output_type": "display_data"
    }
   ],
   "source": [
    "prop.table(table(train$Pclass,train$Survived),1) #사회적 지위가 높을수록 생존할 확률이 높음"
   ]
  },
  {
   "cell_type": "markdown",
   "metadata": {},
   "source": [
    "# EDA: SibSp"
   ]
  },
  {
   "cell_type": "code",
   "execution_count": 275,
   "metadata": {},
   "outputs": [
    {
     "data": {
      "text/plain": [
       "\n",
       "  0   1   2   3   4   5   8 \n",
       "608 209  28  16  18   5   7 "
      ]
     },
     "metadata": {},
     "output_type": "display_data"
    }
   ],
   "source": [
    "table(train$SibSp)"
   ]
  },
  {
   "cell_type": "code",
   "execution_count": 276,
   "metadata": {},
   "outputs": [
    {
     "data": {
      "text/html": [
       "<table>\n",
       "<thead><tr><th scope=col>Survived</th><th scope=col>SibSp</th><th scope=col>freq</th></tr></thead>\n",
       "<tbody>\n",
       "\t<tr><td>0  </td><td>0  </td><td>398</td></tr>\n",
       "\t<tr><td>0  </td><td>1  </td><td> 97</td></tr>\n",
       "\t<tr><td>0  </td><td>2  </td><td> 15</td></tr>\n",
       "\t<tr><td>0  </td><td>3  </td><td> 12</td></tr>\n",
       "\t<tr><td>0  </td><td>4  </td><td> 15</td></tr>\n",
       "\t<tr><td>0  </td><td>5  </td><td>  5</td></tr>\n",
       "\t<tr><td>0  </td><td>8  </td><td>  7</td></tr>\n",
       "\t<tr><td>1  </td><td>0  </td><td>210</td></tr>\n",
       "\t<tr><td>1  </td><td>1  </td><td>112</td></tr>\n",
       "\t<tr><td>1  </td><td>2  </td><td> 13</td></tr>\n",
       "\t<tr><td>1  </td><td>3  </td><td>  4</td></tr>\n",
       "\t<tr><td>1  </td><td>4  </td><td>  3</td></tr>\n",
       "</tbody>\n",
       "</table>\n"
      ],
      "text/latex": [
       "\\begin{tabular}{r|lll}\n",
       " Survived & SibSp & freq\\\\\n",
       "\\hline\n",
       "\t 0   & 0   & 398\\\\\n",
       "\t 0   & 1   &  97\\\\\n",
       "\t 0   & 2   &  15\\\\\n",
       "\t 0   & 3   &  12\\\\\n",
       "\t 0   & 4   &  15\\\\\n",
       "\t 0   & 5   &   5\\\\\n",
       "\t 0   & 8   &   7\\\\\n",
       "\t 1   & 0   & 210\\\\\n",
       "\t 1   & 1   & 112\\\\\n",
       "\t 1   & 2   &  13\\\\\n",
       "\t 1   & 3   &   4\\\\\n",
       "\t 1   & 4   &   3\\\\\n",
       "\\end{tabular}\n"
      ],
      "text/markdown": [
       "\n",
       "Survived | SibSp | freq | \n",
       "|---|---|---|---|---|---|---|---|---|---|---|---|\n",
       "| 0   | 0   | 398 | \n",
       "| 0   | 1   |  97 | \n",
       "| 0   | 2   |  15 | \n",
       "| 0   | 3   |  12 | \n",
       "| 0   | 4   |  15 | \n",
       "| 0   | 5   |   5 | \n",
       "| 0   | 8   |   7 | \n",
       "| 1   | 0   | 210 | \n",
       "| 1   | 1   | 112 | \n",
       "| 1   | 2   |  13 | \n",
       "| 1   | 3   |   4 | \n",
       "| 1   | 4   |   3 | \n",
       "\n",
       "\n"
      ],
      "text/plain": [
       "   Survived SibSp freq\n",
       "1  0        0     398 \n",
       "2  0        1      97 \n",
       "3  0        2      15 \n",
       "4  0        3      12 \n",
       "5  0        4      15 \n",
       "6  0        5       5 \n",
       "7  0        8       7 \n",
       "8  1        0     210 \n",
       "9  1        1     112 \n",
       "10 1        2      13 \n",
       "11 1        3       4 \n",
       "12 1        4       3 "
      ]
     },
     "metadata": {},
     "output_type": "display_data"
    }
   ],
   "source": [
    "train %>% group_by(Survived, SibSp) %>% summarise(freq = n())"
   ]
  },
  {
   "cell_type": "code",
   "execution_count": 277,
   "metadata": {},
   "outputs": [
    {
     "data": {
      "text/plain": [
       "   \n",
       "            0         1\n",
       "  0 0.6546053 0.3453947\n",
       "  1 0.4641148 0.5358852\n",
       "  2 0.5357143 0.4642857\n",
       "  3 0.7500000 0.2500000\n",
       "  4 0.8333333 0.1666667\n",
       "  5 1.0000000 0.0000000\n",
       "  8 1.0000000 0.0000000"
      ]
     },
     "metadata": {},
     "output_type": "display_data"
    }
   ],
   "source": [
    "prop.table(table(train$SibSp,train$Survived),1) #배우자,형제자매가 많을수록 생존률이 떨어짐"
   ]
  },
  {
   "cell_type": "markdown",
   "metadata": {},
   "source": [
    "# EDA: Parch"
   ]
  },
  {
   "cell_type": "code",
   "execution_count": 278,
   "metadata": {},
   "outputs": [
    {
     "data": {
      "text/plain": [
       "\n",
       "  0   1   2   3   4   5   6 \n",
       "678 118  80   5   4   5   1 "
      ]
     },
     "metadata": {},
     "output_type": "display_data"
    }
   ],
   "source": [
    "table(train$Parch)"
   ]
  },
  {
   "cell_type": "code",
   "execution_count": 279,
   "metadata": {},
   "outputs": [
    {
     "data": {
      "text/html": [
       "<table>\n",
       "<thead><tr><th scope=col>Survived</th><th scope=col>Parch</th><th scope=col>freq</th></tr></thead>\n",
       "<tbody>\n",
       "\t<tr><td>0  </td><td>0  </td><td>445</td></tr>\n",
       "\t<tr><td>0  </td><td>1  </td><td> 53</td></tr>\n",
       "\t<tr><td>0  </td><td>2  </td><td> 40</td></tr>\n",
       "\t<tr><td>0  </td><td>3  </td><td>  2</td></tr>\n",
       "\t<tr><td>0  </td><td>4  </td><td>  4</td></tr>\n",
       "\t<tr><td>0  </td><td>5  </td><td>  4</td></tr>\n",
       "\t<tr><td>0  </td><td>6  </td><td>  1</td></tr>\n",
       "\t<tr><td>1  </td><td>0  </td><td>233</td></tr>\n",
       "\t<tr><td>1  </td><td>1  </td><td> 65</td></tr>\n",
       "\t<tr><td>1  </td><td>2  </td><td> 40</td></tr>\n",
       "\t<tr><td>1  </td><td>3  </td><td>  3</td></tr>\n",
       "\t<tr><td>1  </td><td>5  </td><td>  1</td></tr>\n",
       "</tbody>\n",
       "</table>\n"
      ],
      "text/latex": [
       "\\begin{tabular}{r|lll}\n",
       " Survived & Parch & freq\\\\\n",
       "\\hline\n",
       "\t 0   & 0   & 445\\\\\n",
       "\t 0   & 1   &  53\\\\\n",
       "\t 0   & 2   &  40\\\\\n",
       "\t 0   & 3   &   2\\\\\n",
       "\t 0   & 4   &   4\\\\\n",
       "\t 0   & 5   &   4\\\\\n",
       "\t 0   & 6   &   1\\\\\n",
       "\t 1   & 0   & 233\\\\\n",
       "\t 1   & 1   &  65\\\\\n",
       "\t 1   & 2   &  40\\\\\n",
       "\t 1   & 3   &   3\\\\\n",
       "\t 1   & 5   &   1\\\\\n",
       "\\end{tabular}\n"
      ],
      "text/markdown": [
       "\n",
       "Survived | Parch | freq | \n",
       "|---|---|---|---|---|---|---|---|---|---|---|---|\n",
       "| 0   | 0   | 445 | \n",
       "| 0   | 1   |  53 | \n",
       "| 0   | 2   |  40 | \n",
       "| 0   | 3   |   2 | \n",
       "| 0   | 4   |   4 | \n",
       "| 0   | 5   |   4 | \n",
       "| 0   | 6   |   1 | \n",
       "| 1   | 0   | 233 | \n",
       "| 1   | 1   |  65 | \n",
       "| 1   | 2   |  40 | \n",
       "| 1   | 3   |   3 | \n",
       "| 1   | 5   |   1 | \n",
       "\n",
       "\n"
      ],
      "text/plain": [
       "   Survived Parch freq\n",
       "1  0        0     445 \n",
       "2  0        1      53 \n",
       "3  0        2      40 \n",
       "4  0        3       2 \n",
       "5  0        4       4 \n",
       "6  0        5       4 \n",
       "7  0        6       1 \n",
       "8  1        0     233 \n",
       "9  1        1      65 \n",
       "10 1        2      40 \n",
       "11 1        3       3 \n",
       "12 1        5       1 "
      ]
     },
     "metadata": {},
     "output_type": "display_data"
    }
   ],
   "source": [
    "train %>% group_by(Survived, Parch) %>% summarise(freq = n())"
   ]
  },
  {
   "cell_type": "code",
   "execution_count": 280,
   "metadata": {},
   "outputs": [
    {
     "data": {
      "text/plain": [
       "   \n",
       "            0         1\n",
       "  0 0.6563422 0.3436578\n",
       "  1 0.4491525 0.5508475\n",
       "  2 0.5000000 0.5000000\n",
       "  3 0.4000000 0.6000000\n",
       "  4 1.0000000 0.0000000\n",
       "  5 0.8000000 0.2000000\n",
       "  6 1.0000000 0.0000000"
      ]
     },
     "metadata": {},
     "output_type": "display_data"
    }
   ],
   "source": [
    "prop.table(table(train$Parch,train$Survived),1) #부모와 자녀를 1~3명 정도 동승했을 경우 생존률이 높음 "
   ]
  },
  {
   "cell_type": "markdown",
   "metadata": {},
   "source": [
    "# EDA: Embarked"
   ]
  },
  {
   "cell_type": "code",
   "execution_count": 281,
   "metadata": {},
   "outputs": [
    {
     "data": {
      "text/plain": [
       "\n",
       "      C   Q   S \n",
       "  2 168  77 644 "
      ]
     },
     "metadata": {},
     "output_type": "display_data"
    }
   ],
   "source": [
    "table(train$Embarked) #결측값 2개"
   ]
  },
  {
   "cell_type": "code",
   "execution_count": 282,
   "metadata": {},
   "outputs": [
    {
     "data": {
      "text/html": [
       "<table>\n",
       "<thead><tr><th scope=col>Survived</th><th scope=col>Embarked</th><th scope=col>freq</th></tr></thead>\n",
       "<tbody>\n",
       "\t<tr><td>0  </td><td>C  </td><td> 75</td></tr>\n",
       "\t<tr><td>0  </td><td>Q  </td><td> 47</td></tr>\n",
       "\t<tr><td>0  </td><td>S  </td><td>427</td></tr>\n",
       "\t<tr><td>1  </td><td>   </td><td>  2</td></tr>\n",
       "\t<tr><td>1  </td><td>C  </td><td> 93</td></tr>\n",
       "\t<tr><td>1  </td><td>Q  </td><td> 30</td></tr>\n",
       "\t<tr><td>1  </td><td>S  </td><td>217</td></tr>\n",
       "</tbody>\n",
       "</table>\n"
      ],
      "text/latex": [
       "\\begin{tabular}{r|lll}\n",
       " Survived & Embarked & freq\\\\\n",
       "\\hline\n",
       "\t 0   & C   &  75\\\\\n",
       "\t 0   & Q   &  47\\\\\n",
       "\t 0   & S   & 427\\\\\n",
       "\t 1   &     &   2\\\\\n",
       "\t 1   & C   &  93\\\\\n",
       "\t 1   & Q   &  30\\\\\n",
       "\t 1   & S   & 217\\\\\n",
       "\\end{tabular}\n"
      ],
      "text/markdown": [
       "\n",
       "Survived | Embarked | freq | \n",
       "|---|---|---|---|---|---|---|\n",
       "| 0   | C   |  75 | \n",
       "| 0   | Q   |  47 | \n",
       "| 0   | S   | 427 | \n",
       "| 1   |     |   2 | \n",
       "| 1   | C   |  93 | \n",
       "| 1   | Q   |  30 | \n",
       "| 1   | S   | 217 | \n",
       "\n",
       "\n"
      ],
      "text/plain": [
       "  Survived Embarked freq\n",
       "1 0        C         75 \n",
       "2 0        Q         47 \n",
       "3 0        S        427 \n",
       "4 1                   2 \n",
       "5 1        C         93 \n",
       "6 1        Q         30 \n",
       "7 1        S        217 "
      ]
     },
     "metadata": {},
     "output_type": "display_data"
    }
   ],
   "source": [
    "train %>% group_by(Survived, Embarked) %>% summarise(freq = n())"
   ]
  },
  {
   "cell_type": "code",
   "execution_count": 283,
   "metadata": {},
   "outputs": [
    {
     "data": {
      "text/plain": [
       "   \n",
       "            0         1\n",
       "    0.0000000 1.0000000\n",
       "  C 0.4464286 0.5535714\n",
       "  Q 0.6103896 0.3896104\n",
       "  S 0.6630435 0.3369565"
      ]
     },
     "metadata": {},
     "output_type": "display_data"
    }
   ],
   "source": [
    "prop.table(table(train$Embarked,train$Survived),1) #유일하게 C에서 탑승한 인원들만 생존률이 더 높다"
   ]
  },
  {
   "cell_type": "markdown",
   "metadata": {},
   "source": [
    "# Feature engineering"
   ]
  },
  {
   "cell_type": "code",
   "execution_count": 284,
   "metadata": {},
   "outputs": [],
   "source": [
    "full  <- bind_rows(train, test)"
   ]
  },
  {
   "cell_type": "code",
   "execution_count": 285,
   "metadata": {},
   "outputs": [
    {
     "data": {
      "text/html": [
       "<table>\n",
       "<thead><tr><th scope=col>PassengerId</th><th scope=col>Survived</th><th scope=col>Pclass</th><th scope=col>Name</th><th scope=col>Sex</th><th scope=col>Age</th><th scope=col>SibSp</th><th scope=col>Parch</th><th scope=col>Ticket</th><th scope=col>Fare</th><th scope=col>Cabin</th><th scope=col>Embarked</th></tr></thead>\n",
       "<tbody>\n",
       "\t<tr><td>1                                                  </td><td>0                                                  </td><td>3                                                  </td><td>Braund, Mr. Owen Harris                            </td><td>male                                               </td><td>22                                                 </td><td>1                                                  </td><td>0                                                  </td><td>A/5 21171                                          </td><td> 7.2500                                            </td><td>                                                   </td><td>S                                                  </td></tr>\n",
       "\t<tr><td>2                                                  </td><td>1                                                  </td><td>1                                                  </td><td>Cumings, Mrs. John Bradley (Florence Briggs Thayer)</td><td>female                                             </td><td>38                                                 </td><td>1                                                  </td><td>0                                                  </td><td>PC 17599                                           </td><td>71.2833                                            </td><td>C85                                                </td><td>C                                                  </td></tr>\n",
       "\t<tr><td>3                                                  </td><td>1                                                  </td><td>3                                                  </td><td>Heikkinen, Miss. Laina                             </td><td>female                                             </td><td>26                                                 </td><td>0                                                  </td><td>0                                                  </td><td>STON/O2. 3101282                                   </td><td> 7.9250                                            </td><td>                                                   </td><td>S                                                  </td></tr>\n",
       "\t<tr><td>4                                                  </td><td>1                                                  </td><td>1                                                  </td><td>Futrelle, Mrs. Jacques Heath (Lily May Peel)       </td><td>female                                             </td><td>35                                                 </td><td>1                                                  </td><td>0                                                  </td><td>113803                                             </td><td>53.1000                                            </td><td>C123                                               </td><td>S                                                  </td></tr>\n",
       "\t<tr><td>5                                                  </td><td>0                                                  </td><td>3                                                  </td><td>Allen, Mr. William Henry                           </td><td>male                                               </td><td>35                                                 </td><td>0                                                  </td><td>0                                                  </td><td>373450                                             </td><td> 8.0500                                            </td><td>                                                   </td><td>S                                                  </td></tr>\n",
       "\t<tr><td>6                                                  </td><td>0                                                  </td><td>3                                                  </td><td>Moran, Mr. James                                   </td><td>male                                               </td><td>NA                                                 </td><td>0                                                  </td><td>0                                                  </td><td>330877                                             </td><td> 8.4583                                            </td><td>                                                   </td><td>Q                                                  </td></tr>\n",
       "</tbody>\n",
       "</table>\n"
      ],
      "text/latex": [
       "\\begin{tabular}{r|llllllllllll}\n",
       " PassengerId & Survived & Pclass & Name & Sex & Age & SibSp & Parch & Ticket & Fare & Cabin & Embarked\\\\\n",
       "\\hline\n",
       "\t 1                                                   & 0                                                   & 3                                                   & Braund, Mr. Owen Harris                             & male                                                & 22                                                  & 1                                                   & 0                                                   & A/5 21171                                           &  7.2500                                             &                                                     & S                                                  \\\\\n",
       "\t 2                                                   & 1                                                   & 1                                                   & Cumings, Mrs. John Bradley (Florence Briggs Thayer) & female                                              & 38                                                  & 1                                                   & 0                                                   & PC 17599                                            & 71.2833                                             & C85                                                 & C                                                  \\\\\n",
       "\t 3                                                   & 1                                                   & 3                                                   & Heikkinen, Miss. Laina                              & female                                              & 26                                                  & 0                                                   & 0                                                   & STON/O2. 3101282                                    &  7.9250                                             &                                                     & S                                                  \\\\\n",
       "\t 4                                                   & 1                                                   & 1                                                   & Futrelle, Mrs. Jacques Heath (Lily May Peel)        & female                                              & 35                                                  & 1                                                   & 0                                                   & 113803                                              & 53.1000                                             & C123                                                & S                                                  \\\\\n",
       "\t 5                                                   & 0                                                   & 3                                                   & Allen, Mr. William Henry                            & male                                                & 35                                                  & 0                                                   & 0                                                   & 373450                                              &  8.0500                                             &                                                     & S                                                  \\\\\n",
       "\t 6                                                   & 0                                                   & 3                                                   & Moran, Mr. James                                    & male                                                & NA                                                  & 0                                                   & 0                                                   & 330877                                              &  8.4583                                             &                                                     & Q                                                  \\\\\n",
       "\\end{tabular}\n"
      ],
      "text/markdown": [
       "\n",
       "PassengerId | Survived | Pclass | Name | Sex | Age | SibSp | Parch | Ticket | Fare | Cabin | Embarked | \n",
       "|---|---|---|---|---|---|\n",
       "| 1                                                   | 0                                                   | 3                                                   | Braund, Mr. Owen Harris                             | male                                                | 22                                                  | 1                                                   | 0                                                   | A/5 21171                                           |  7.2500                                             |                                                     | S                                                   | \n",
       "| 2                                                   | 1                                                   | 1                                                   | Cumings, Mrs. John Bradley (Florence Briggs Thayer) | female                                              | 38                                                  | 1                                                   | 0                                                   | PC 17599                                            | 71.2833                                             | C85                                                 | C                                                   | \n",
       "| 3                                                   | 1                                                   | 3                                                   | Heikkinen, Miss. Laina                              | female                                              | 26                                                  | 0                                                   | 0                                                   | STON/O2. 3101282                                    |  7.9250                                             |                                                     | S                                                   | \n",
       "| 4                                                   | 1                                                   | 1                                                   | Futrelle, Mrs. Jacques Heath (Lily May Peel)        | female                                              | 35                                                  | 1                                                   | 0                                                   | 113803                                              | 53.1000                                             | C123                                                | S                                                   | \n",
       "| 5                                                   | 0                                                   | 3                                                   | Allen, Mr. William Henry                            | male                                                | 35                                                  | 0                                                   | 0                                                   | 373450                                              |  8.0500                                             |                                                     | S                                                   | \n",
       "| 6                                                   | 0                                                   | 3                                                   | Moran, Mr. James                                    | male                                                | NA                                                  | 0                                                   | 0                                                   | 330877                                              |  8.4583                                             |                                                     | Q                                                   | \n",
       "\n",
       "\n"
      ],
      "text/plain": [
       "  PassengerId Survived Pclass\n",
       "1 1           0        3     \n",
       "2 2           1        1     \n",
       "3 3           1        3     \n",
       "4 4           1        1     \n",
       "5 5           0        3     \n",
       "6 6           0        3     \n",
       "  Name                                                Sex    Age SibSp Parch\n",
       "1 Braund, Mr. Owen Harris                             male   22  1     0    \n",
       "2 Cumings, Mrs. John Bradley (Florence Briggs Thayer) female 38  1     0    \n",
       "3 Heikkinen, Miss. Laina                              female 26  0     0    \n",
       "4 Futrelle, Mrs. Jacques Heath (Lily May Peel)        female 35  1     0    \n",
       "5 Allen, Mr. William Henry                            male   35  0     0    \n",
       "6 Moran, Mr. James                                    male   NA  0     0    \n",
       "  Ticket           Fare    Cabin Embarked\n",
       "1 A/5 21171         7.2500       S       \n",
       "2 PC 17599         71.2833 C85   C       \n",
       "3 STON/O2. 3101282  7.9250       S       \n",
       "4 113803           53.1000 C123  S       \n",
       "5 373450            8.0500       S       \n",
       "6 330877            8.4583       Q       "
      ]
     },
     "metadata": {},
     "output_type": "display_data"
    }
   ],
   "source": [
    "head(full)"
   ]
  },
  {
   "cell_type": "markdown",
   "metadata": {},
   "source": [
    "Name을 보면  , Mr.와 같은 형태로 ,(공백)Mr.과 같은 형태로 구성되있다는 것을 확인\n",
    "\n",
    "- Mr : 0  \n",
    "- Miss : 1  \n",
    "- Mrs: 2  \n",
    "- Others: 3"
   ]
  },
  {
   "cell_type": "code",
   "execution_count": 286,
   "metadata": {},
   "outputs": [],
   "source": [
    "library(stringr)\n",
    "full$Title <- gsub('(.*,)|(\\\\..*)','', full$Name) \n",
    "# ','앞에 .*(모든문자)를 지워주세요\n",
    "# \\\\.(마침표) 뒤에 .*(모든문자)를 지워주세요"
   ]
  },
  {
   "cell_type": "code",
   "execution_count": 287,
   "metadata": {},
   "outputs": [
    {
     "data": {
      "text/html": [
       "<table>\n",
       "<thead><tr><th scope=col>PassengerId</th><th scope=col>Survived</th><th scope=col>Pclass</th><th scope=col>Name</th><th scope=col>Sex</th><th scope=col>Age</th><th scope=col>SibSp</th><th scope=col>Parch</th><th scope=col>Ticket</th><th scope=col>Fare</th><th scope=col>Cabin</th><th scope=col>Embarked</th><th scope=col>Title</th></tr></thead>\n",
       "<tbody>\n",
       "\t<tr><td>1                                                  </td><td>0                                                  </td><td>3                                                  </td><td>Braund, Mr. Owen Harris                            </td><td>male                                               </td><td>22                                                 </td><td>1                                                  </td><td>0                                                  </td><td>A/5 21171                                          </td><td> 7.2500                                            </td><td>                                                   </td><td>S                                                  </td><td> Mr                                                </td></tr>\n",
       "\t<tr><td>2                                                  </td><td>1                                                  </td><td>1                                                  </td><td>Cumings, Mrs. John Bradley (Florence Briggs Thayer)</td><td>female                                             </td><td>38                                                 </td><td>1                                                  </td><td>0                                                  </td><td>PC 17599                                           </td><td>71.2833                                            </td><td>C85                                                </td><td>C                                                  </td><td> Mrs                                               </td></tr>\n",
       "\t<tr><td>3                                                  </td><td>1                                                  </td><td>3                                                  </td><td>Heikkinen, Miss. Laina                             </td><td>female                                             </td><td>26                                                 </td><td>0                                                  </td><td>0                                                  </td><td>STON/O2. 3101282                                   </td><td> 7.9250                                            </td><td>                                                   </td><td>S                                                  </td><td> Miss                                              </td></tr>\n",
       "\t<tr><td>4                                                  </td><td>1                                                  </td><td>1                                                  </td><td>Futrelle, Mrs. Jacques Heath (Lily May Peel)       </td><td>female                                             </td><td>35                                                 </td><td>1                                                  </td><td>0                                                  </td><td>113803                                             </td><td>53.1000                                            </td><td>C123                                               </td><td>S                                                  </td><td> Mrs                                               </td></tr>\n",
       "\t<tr><td>5                                                  </td><td>0                                                  </td><td>3                                                  </td><td>Allen, Mr. William Henry                           </td><td>male                                               </td><td>35                                                 </td><td>0                                                  </td><td>0                                                  </td><td>373450                                             </td><td> 8.0500                                            </td><td>                                                   </td><td>S                                                  </td><td> Mr                                                </td></tr>\n",
       "\t<tr><td>6                                                  </td><td>0                                                  </td><td>3                                                  </td><td>Moran, Mr. James                                   </td><td>male                                               </td><td>NA                                                 </td><td>0                                                  </td><td>0                                                  </td><td>330877                                             </td><td> 8.4583                                            </td><td>                                                   </td><td>Q                                                  </td><td> Mr                                                </td></tr>\n",
       "</tbody>\n",
       "</table>\n"
      ],
      "text/latex": [
       "\\begin{tabular}{r|lllllllllllll}\n",
       " PassengerId & Survived & Pclass & Name & Sex & Age & SibSp & Parch & Ticket & Fare & Cabin & Embarked & Title\\\\\n",
       "\\hline\n",
       "\t 1                                                   & 0                                                   & 3                                                   & Braund, Mr. Owen Harris                             & male                                                & 22                                                  & 1                                                   & 0                                                   & A/5 21171                                           &  7.2500                                             &                                                     & S                                                   &  Mr                                                \\\\\n",
       "\t 2                                                   & 1                                                   & 1                                                   & Cumings, Mrs. John Bradley (Florence Briggs Thayer) & female                                              & 38                                                  & 1                                                   & 0                                                   & PC 17599                                            & 71.2833                                             & C85                                                 & C                                                   &  Mrs                                               \\\\\n",
       "\t 3                                                   & 1                                                   & 3                                                   & Heikkinen, Miss. Laina                              & female                                              & 26                                                  & 0                                                   & 0                                                   & STON/O2. 3101282                                    &  7.9250                                             &                                                     & S                                                   &  Miss                                              \\\\\n",
       "\t 4                                                   & 1                                                   & 1                                                   & Futrelle, Mrs. Jacques Heath (Lily May Peel)        & female                                              & 35                                                  & 1                                                   & 0                                                   & 113803                                              & 53.1000                                             & C123                                                & S                                                   &  Mrs                                               \\\\\n",
       "\t 5                                                   & 0                                                   & 3                                                   & Allen, Mr. William Henry                            & male                                                & 35                                                  & 0                                                   & 0                                                   & 373450                                              &  8.0500                                             &                                                     & S                                                   &  Mr                                                \\\\\n",
       "\t 6                                                   & 0                                                   & 3                                                   & Moran, Mr. James                                    & male                                                & NA                                                  & 0                                                   & 0                                                   & 330877                                              &  8.4583                                             &                                                     & Q                                                   &  Mr                                                \\\\\n",
       "\\end{tabular}\n"
      ],
      "text/markdown": [
       "\n",
       "PassengerId | Survived | Pclass | Name | Sex | Age | SibSp | Parch | Ticket | Fare | Cabin | Embarked | Title | \n",
       "|---|---|---|---|---|---|\n",
       "| 1                                                   | 0                                                   | 3                                                   | Braund, Mr. Owen Harris                             | male                                                | 22                                                  | 1                                                   | 0                                                   | A/5 21171                                           |  7.2500                                             |                                                     | S                                                   |  Mr                                                 | \n",
       "| 2                                                   | 1                                                   | 1                                                   | Cumings, Mrs. John Bradley (Florence Briggs Thayer) | female                                              | 38                                                  | 1                                                   | 0                                                   | PC 17599                                            | 71.2833                                             | C85                                                 | C                                                   |  Mrs                                                | \n",
       "| 3                                                   | 1                                                   | 3                                                   | Heikkinen, Miss. Laina                              | female                                              | 26                                                  | 0                                                   | 0                                                   | STON/O2. 3101282                                    |  7.9250                                             |                                                     | S                                                   |  Miss                                               | \n",
       "| 4                                                   | 1                                                   | 1                                                   | Futrelle, Mrs. Jacques Heath (Lily May Peel)        | female                                              | 35                                                  | 1                                                   | 0                                                   | 113803                                              | 53.1000                                             | C123                                                | S                                                   |  Mrs                                                | \n",
       "| 5                                                   | 0                                                   | 3                                                   | Allen, Mr. William Henry                            | male                                                | 35                                                  | 0                                                   | 0                                                   | 373450                                              |  8.0500                                             |                                                     | S                                                   |  Mr                                                 | \n",
       "| 6                                                   | 0                                                   | 3                                                   | Moran, Mr. James                                    | male                                                | NA                                                  | 0                                                   | 0                                                   | 330877                                              |  8.4583                                             |                                                     | Q                                                   |  Mr                                                 | \n",
       "\n",
       "\n"
      ],
      "text/plain": [
       "  PassengerId Survived Pclass\n",
       "1 1           0        3     \n",
       "2 2           1        1     \n",
       "3 3           1        3     \n",
       "4 4           1        1     \n",
       "5 5           0        3     \n",
       "6 6           0        3     \n",
       "  Name                                                Sex    Age SibSp Parch\n",
       "1 Braund, Mr. Owen Harris                             male   22  1     0    \n",
       "2 Cumings, Mrs. John Bradley (Florence Briggs Thayer) female 38  1     0    \n",
       "3 Heikkinen, Miss. Laina                              female 26  0     0    \n",
       "4 Futrelle, Mrs. Jacques Heath (Lily May Peel)        female 35  1     0    \n",
       "5 Allen, Mr. William Henry                            male   35  0     0    \n",
       "6 Moran, Mr. James                                    male   NA  0     0    \n",
       "  Ticket           Fare    Cabin Embarked Title\n",
       "1 A/5 21171         7.2500       S         Mr  \n",
       "2 PC 17599         71.2833 C85   C         Mrs \n",
       "3 STON/O2. 3101282  7.9250       S         Miss\n",
       "4 113803           53.1000 C123  S         Mrs \n",
       "5 373450            8.0500       S         Mr  \n",
       "6 330877            8.4583       Q         Mr  "
      ]
     },
     "metadata": {},
     "output_type": "display_data"
    }
   ],
   "source": [
    "head(full)"
   ]
  },
  {
   "cell_type": "code",
   "execution_count": 288,
   "metadata": {},
   "outputs": [
    {
     "data": {
      "text/plain": [
       "\n",
       "         Capt           Col           Don          Dona            Dr \n",
       "            1             4             1             1             8 \n",
       "     Jonkheer          Lady         Major        Master          Miss \n",
       "            1             1             2            61           260 \n",
       "         Mlle           Mme            Mr           Mrs            Ms \n",
       "            2             1           757           197             2 \n",
       "          Rev           Sir  the Countess \n",
       "            8             1             1 "
      ]
     },
     "metadata": {},
     "output_type": "display_data"
    }
   ],
   "source": [
    "table(full$Title)"
   ]
  },
  {
   "cell_type": "code",
   "execution_count": 289,
   "metadata": {},
   "outputs": [],
   "source": [
    "full$Title <- ifelse(full$Title == \" Mr\", 0, ifelse(full$Title == \" Miss\", 1, ifelse(full$Title == \" Mrs\", 2, 3)))\n",
    "\n",
    "full$Title <- as.factor(full$Title)"
   ]
  },
  {
   "cell_type": "code",
   "execution_count": 290,
   "metadata": {},
   "outputs": [
    {
     "data": {
      "text/html": [
       "<table>\n",
       "<thead><tr><th scope=col>PassengerId</th><th scope=col>Survived</th><th scope=col>Pclass</th><th scope=col>Name</th><th scope=col>Sex</th><th scope=col>Age</th><th scope=col>SibSp</th><th scope=col>Parch</th><th scope=col>Ticket</th><th scope=col>Fare</th><th scope=col>Cabin</th><th scope=col>Embarked</th><th scope=col>Title</th></tr></thead>\n",
       "<tbody>\n",
       "\t<tr><td>1                                                  </td><td>0                                                  </td><td>3                                                  </td><td>Braund, Mr. Owen Harris                            </td><td>male                                               </td><td>22                                                 </td><td>1                                                  </td><td>0                                                  </td><td>A/5 21171                                          </td><td> 7.2500                                            </td><td>                                                   </td><td>S                                                  </td><td>0                                                  </td></tr>\n",
       "\t<tr><td>2                                                  </td><td>1                                                  </td><td>1                                                  </td><td>Cumings, Mrs. John Bradley (Florence Briggs Thayer)</td><td>female                                             </td><td>38                                                 </td><td>1                                                  </td><td>0                                                  </td><td>PC 17599                                           </td><td>71.2833                                            </td><td>C85                                                </td><td>C                                                  </td><td>2                                                  </td></tr>\n",
       "\t<tr><td>3                                                  </td><td>1                                                  </td><td>3                                                  </td><td>Heikkinen, Miss. Laina                             </td><td>female                                             </td><td>26                                                 </td><td>0                                                  </td><td>0                                                  </td><td>STON/O2. 3101282                                   </td><td> 7.9250                                            </td><td>                                                   </td><td>S                                                  </td><td>1                                                  </td></tr>\n",
       "\t<tr><td>4                                                  </td><td>1                                                  </td><td>1                                                  </td><td>Futrelle, Mrs. Jacques Heath (Lily May Peel)       </td><td>female                                             </td><td>35                                                 </td><td>1                                                  </td><td>0                                                  </td><td>113803                                             </td><td>53.1000                                            </td><td>C123                                               </td><td>S                                                  </td><td>2                                                  </td></tr>\n",
       "\t<tr><td>5                                                  </td><td>0                                                  </td><td>3                                                  </td><td>Allen, Mr. William Henry                           </td><td>male                                               </td><td>35                                                 </td><td>0                                                  </td><td>0                                                  </td><td>373450                                             </td><td> 8.0500                                            </td><td>                                                   </td><td>S                                                  </td><td>0                                                  </td></tr>\n",
       "\t<tr><td>6                                                  </td><td>0                                                  </td><td>3                                                  </td><td>Moran, Mr. James                                   </td><td>male                                               </td><td>NA                                                 </td><td>0                                                  </td><td>0                                                  </td><td>330877                                             </td><td> 8.4583                                            </td><td>                                                   </td><td>Q                                                  </td><td>0                                                  </td></tr>\n",
       "</tbody>\n",
       "</table>\n"
      ],
      "text/latex": [
       "\\begin{tabular}{r|lllllllllllll}\n",
       " PassengerId & Survived & Pclass & Name & Sex & Age & SibSp & Parch & Ticket & Fare & Cabin & Embarked & Title\\\\\n",
       "\\hline\n",
       "\t 1                                                   & 0                                                   & 3                                                   & Braund, Mr. Owen Harris                             & male                                                & 22                                                  & 1                                                   & 0                                                   & A/5 21171                                           &  7.2500                                             &                                                     & S                                                   & 0                                                  \\\\\n",
       "\t 2                                                   & 1                                                   & 1                                                   & Cumings, Mrs. John Bradley (Florence Briggs Thayer) & female                                              & 38                                                  & 1                                                   & 0                                                   & PC 17599                                            & 71.2833                                             & C85                                                 & C                                                   & 2                                                  \\\\\n",
       "\t 3                                                   & 1                                                   & 3                                                   & Heikkinen, Miss. Laina                              & female                                              & 26                                                  & 0                                                   & 0                                                   & STON/O2. 3101282                                    &  7.9250                                             &                                                     & S                                                   & 1                                                  \\\\\n",
       "\t 4                                                   & 1                                                   & 1                                                   & Futrelle, Mrs. Jacques Heath (Lily May Peel)        & female                                              & 35                                                  & 1                                                   & 0                                                   & 113803                                              & 53.1000                                             & C123                                                & S                                                   & 2                                                  \\\\\n",
       "\t 5                                                   & 0                                                   & 3                                                   & Allen, Mr. William Henry                            & male                                                & 35                                                  & 0                                                   & 0                                                   & 373450                                              &  8.0500                                             &                                                     & S                                                   & 0                                                  \\\\\n",
       "\t 6                                                   & 0                                                   & 3                                                   & Moran, Mr. James                                    & male                                                & NA                                                  & 0                                                   & 0                                                   & 330877                                              &  8.4583                                             &                                                     & Q                                                   & 0                                                  \\\\\n",
       "\\end{tabular}\n"
      ],
      "text/markdown": [
       "\n",
       "PassengerId | Survived | Pclass | Name | Sex | Age | SibSp | Parch | Ticket | Fare | Cabin | Embarked | Title | \n",
       "|---|---|---|---|---|---|\n",
       "| 1                                                   | 0                                                   | 3                                                   | Braund, Mr. Owen Harris                             | male                                                | 22                                                  | 1                                                   | 0                                                   | A/5 21171                                           |  7.2500                                             |                                                     | S                                                   | 0                                                   | \n",
       "| 2                                                   | 1                                                   | 1                                                   | Cumings, Mrs. John Bradley (Florence Briggs Thayer) | female                                              | 38                                                  | 1                                                   | 0                                                   | PC 17599                                            | 71.2833                                             | C85                                                 | C                                                   | 2                                                   | \n",
       "| 3                                                   | 1                                                   | 3                                                   | Heikkinen, Miss. Laina                              | female                                              | 26                                                  | 0                                                   | 0                                                   | STON/O2. 3101282                                    |  7.9250                                             |                                                     | S                                                   | 1                                                   | \n",
       "| 4                                                   | 1                                                   | 1                                                   | Futrelle, Mrs. Jacques Heath (Lily May Peel)        | female                                              | 35                                                  | 1                                                   | 0                                                   | 113803                                              | 53.1000                                             | C123                                                | S                                                   | 2                                                   | \n",
       "| 5                                                   | 0                                                   | 3                                                   | Allen, Mr. William Henry                            | male                                                | 35                                                  | 0                                                   | 0                                                   | 373450                                              |  8.0500                                             |                                                     | S                                                   | 0                                                   | \n",
       "| 6                                                   | 0                                                   | 3                                                   | Moran, Mr. James                                    | male                                                | NA                                                  | 0                                                   | 0                                                   | 330877                                              |  8.4583                                             |                                                     | Q                                                   | 0                                                   | \n",
       "\n",
       "\n"
      ],
      "text/plain": [
       "  PassengerId Survived Pclass\n",
       "1 1           0        3     \n",
       "2 2           1        1     \n",
       "3 3           1        3     \n",
       "4 4           1        1     \n",
       "5 5           0        3     \n",
       "6 6           0        3     \n",
       "  Name                                                Sex    Age SibSp Parch\n",
       "1 Braund, Mr. Owen Harris                             male   22  1     0    \n",
       "2 Cumings, Mrs. John Bradley (Florence Briggs Thayer) female 38  1     0    \n",
       "3 Heikkinen, Miss. Laina                              female 26  0     0    \n",
       "4 Futrelle, Mrs. Jacques Heath (Lily May Peel)        female 35  1     0    \n",
       "5 Allen, Mr. William Henry                            male   35  0     0    \n",
       "6 Moran, Mr. James                                    male   NA  0     0    \n",
       "  Ticket           Fare    Cabin Embarked Title\n",
       "1 A/5 21171         7.2500       S        0    \n",
       "2 PC 17599         71.2833 C85   C        2    \n",
       "3 STON/O2. 3101282  7.9250       S        1    \n",
       "4 113803           53.1000 C123  S        2    \n",
       "5 373450            8.0500       S        0    \n",
       "6 330877            8.4583       Q        0    "
      ]
     },
     "metadata": {},
     "output_type": "display_data"
    }
   ],
   "source": [
    "head(full)"
   ]
  },
  {
   "cell_type": "code",
   "execution_count": 291,
   "metadata": {},
   "outputs": [],
   "source": [
    "#Name 변수 제거\n",
    "full <- full[, -4]"
   ]
  },
  {
   "cell_type": "markdown",
   "metadata": {},
   "source": [
    "성별 범주화"
   ]
  },
  {
   "cell_type": "code",
   "execution_count": 292,
   "metadata": {},
   "outputs": [],
   "source": [
    "full$Sex <- ifelse(full$Sex == \"male\" ,0 , 1)\n",
    "\n",
    "full$Sex <- as.factor(full$Sex)"
   ]
  },
  {
   "cell_type": "markdown",
   "metadata": {},
   "source": [
    "Fsize(가족의 수) 파생변수 생성 및 범주화"
   ]
  },
  {
   "cell_type": "code",
   "execution_count": 293,
   "metadata": {},
   "outputs": [],
   "source": [
    "full$Fsize <- full$SibSp + full$Parch + 1"
   ]
  },
  {
   "cell_type": "code",
   "execution_count": 294,
   "metadata": {},
   "outputs": [
    {
     "data": {
      "text/plain": [
       "\n",
       "  1   2   3   4   5   6   7   8  11 \n",
       "790 235 159  43  22  25  16   8  11 "
      ]
     },
     "metadata": {},
     "output_type": "display_data"
    }
   ],
   "source": [
    "table(full$Fsize)"
   ]
  },
  {
   "cell_type": "code",
   "execution_count": 295,
   "metadata": {},
   "outputs": [
    {
     "data": {},
     "metadata": {},
     "output_type": "display_data"
    },
    {
     "data": {
      "image/png": "[encoded data removed]",
      "text/plain": [
       "plot without title"
      ]
     },
     "metadata": {},
     "output_type": "display_data"
    }
   ],
   "source": [
    "ggplot(full[1:891,], aes(x = Fsize, fill = factor(Survived))) +\n",
    "  geom_bar(stat='count', position='dodge') +\n",
    "  scale_x_continuous(breaks=c(1:11)) +\n",
    "  labs(x = 'Family Size') \n",
    "# 가족의 수가 4명을 초과하면 생존이 매우 적어지는 것을 확인하였다."
   ]
  },
  {
   "cell_type": "code",
   "execution_count": 296,
   "metadata": {},
   "outputs": [],
   "source": [
    "full$Family[full$Fsize == 1] <- 'single'\n",
    "full$Family[full$Fsize < 5 & full$Fsize > 1] <- 'small'\n",
    "full$Family[full$Fsize > 4] <- 'large'\n",
    "\n",
    "full$Family <- as.factor(full$Family)"
   ]
  },
  {
   "cell_type": "code",
   "execution_count": 297,
   "metadata": {},
   "outputs": [
    {
     "data": {
      "text/plain": [
       "\n",
       " large single  small \n",
       "    82    790    437 "
      ]
     },
     "metadata": {},
     "output_type": "display_data"
    }
   ],
   "source": [
    "table(full$Family)"
   ]
  },
  {
   "cell_type": "code",
   "execution_count": 298,
   "metadata": {},
   "outputs": [
    {
     "data": {},
     "metadata": {},
     "output_type": "display_data"
    },
    {
     "data": {
      "image/png": "[encoded data removed]",
      "text/plain": [
       "plot without title"
      ]
     },
     "metadata": {},
     "output_type": "display_data"
    }
   ],
   "source": [
    "ggplot(full[1:891,], aes(x = Family, fill = factor(Survived))) +\n",
    "  geom_bar() +\n",
    "  labs(fill = 'Survived', x=\"Family\", y=\"freq\")"
   ]
  },
  {
   "cell_type": "code",
   "execution_count": 299,
   "metadata": {},
   "outputs": [],
   "source": [
    "#SibSp, Parch, Fsize 변수 제거\n",
    "full=  full  %>% select(-6,-7,-13)"
   ]
  },
  {
   "cell_type": "code",
   "execution_count": 300,
   "metadata": {},
   "outputs": [
    {
     "data": {
      "text/html": [
       "<table>\n",
       "<thead><tr><th scope=col>PassengerId</th><th scope=col>Survived</th><th scope=col>Pclass</th><th scope=col>Sex</th><th scope=col>Age</th><th scope=col>Ticket</th><th scope=col>Fare</th><th scope=col>Cabin</th><th scope=col>Embarked</th><th scope=col>Title</th><th scope=col>Family</th></tr></thead>\n",
       "<tbody>\n",
       "\t<tr><td>1               </td><td>0               </td><td>3               </td><td>0               </td><td>22              </td><td>A/5 21171       </td><td> 7.2500         </td><td>                </td><td>S               </td><td>0               </td><td>small           </td></tr>\n",
       "\t<tr><td>2               </td><td>1               </td><td>1               </td><td>1               </td><td>38              </td><td>PC 17599        </td><td>71.2833         </td><td>C85             </td><td>C               </td><td>2               </td><td>small           </td></tr>\n",
       "\t<tr><td>3               </td><td>1               </td><td>3               </td><td>1               </td><td>26              </td><td>STON/O2. 3101282</td><td> 7.9250         </td><td>                </td><td>S               </td><td>1               </td><td>single          </td></tr>\n",
       "\t<tr><td>4               </td><td>1               </td><td>1               </td><td>1               </td><td>35              </td><td>113803          </td><td>53.1000         </td><td>C123            </td><td>S               </td><td>2               </td><td>small           </td></tr>\n",
       "\t<tr><td>5               </td><td>0               </td><td>3               </td><td>0               </td><td>35              </td><td>373450          </td><td> 8.0500         </td><td>                </td><td>S               </td><td>0               </td><td>single          </td></tr>\n",
       "\t<tr><td>6               </td><td>0               </td><td>3               </td><td>0               </td><td>NA              </td><td>330877          </td><td> 8.4583         </td><td>                </td><td>Q               </td><td>0               </td><td>single          </td></tr>\n",
       "</tbody>\n",
       "</table>\n"
      ],
      "text/latex": [
       "\\begin{tabular}{r|lllllllllll}\n",
       " PassengerId & Survived & Pclass & Sex & Age & Ticket & Fare & Cabin & Embarked & Title & Family\\\\\n",
       "\\hline\n",
       "\t 1                & 0                & 3                & 0                & 22               & A/5 21171        &  7.2500          &                  & S                & 0                & small           \\\\\n",
       "\t 2                & 1                & 1                & 1                & 38               & PC 17599         & 71.2833          & C85              & C                & 2                & small           \\\\\n",
       "\t 3                & 1                & 3                & 1                & 26               & STON/O2. 3101282 &  7.9250          &                  & S                & 1                & single          \\\\\n",
       "\t 4                & 1                & 1                & 1                & 35               & 113803           & 53.1000          & C123             & S                & 2                & small           \\\\\n",
       "\t 5                & 0                & 3                & 0                & 35               & 373450           &  8.0500          &                  & S                & 0                & single          \\\\\n",
       "\t 6                & 0                & 3                & 0                & NA               & 330877           &  8.4583          &                  & Q                & 0                & single          \\\\\n",
       "\\end{tabular}\n"
      ],
      "text/markdown": [
       "\n",
       "PassengerId | Survived | Pclass | Sex | Age | Ticket | Fare | Cabin | Embarked | Title | Family | \n",
       "|---|---|---|---|---|---|\n",
       "| 1                | 0                | 3                | 0                | 22               | A/5 21171        |  7.2500          |                  | S                | 0                | small            | \n",
       "| 2                | 1                | 1                | 1                | 38               | PC 17599         | 71.2833          | C85              | C                | 2                | small            | \n",
       "| 3                | 1                | 3                | 1                | 26               | STON/O2. 3101282 |  7.9250          |                  | S                | 1                | single           | \n",
       "| 4                | 1                | 1                | 1                | 35               | 113803           | 53.1000          | C123             | S                | 2                | small            | \n",
       "| 5                | 0                | 3                | 0                | 35               | 373450           |  8.0500          |                  | S                | 0                | single           | \n",
       "| 6                | 0                | 3                | 0                | NA               | 330877           |  8.4583          |                  | Q                | 0                | single           | \n",
       "\n",
       "\n"
      ],
      "text/plain": [
       "  PassengerId Survived Pclass Sex Age Ticket           Fare    Cabin Embarked\n",
       "1 1           0        3      0   22  A/5 21171         7.2500       S       \n",
       "2 2           1        1      1   38  PC 17599         71.2833 C85   C       \n",
       "3 3           1        3      1   26  STON/O2. 3101282  7.9250       S       \n",
       "4 4           1        1      1   35  113803           53.1000 C123  S       \n",
       "5 5           0        3      0   35  373450            8.0500       S       \n",
       "6 6           0        3      0   NA  330877            8.4583       Q       \n",
       "  Title Family\n",
       "1 0     small \n",
       "2 2     small \n",
       "3 1     single\n",
       "4 2     small \n",
       "5 0     single\n",
       "6 0     single"
      ]
     },
     "metadata": {},
     "output_type": "display_data"
    }
   ],
   "source": [
    "head(full)"
   ]
  },
  {
   "cell_type": "markdown",
   "metadata": {},
   "source": [
    "Cabin(객실정보)에 따른 파생변수 생성"
   ]
  },
  {
   "cell_type": "code",
   "execution_count": 301,
   "metadata": {},
   "outputs": [
    {
     "data": {
      "text/html": [
       "<ol class=list-inline>\n",
       "\t<li>''</li>\n",
       "\t<li>'C85'</li>\n",
       "\t<li>''</li>\n",
       "\t<li>'C123'</li>\n",
       "\t<li>''</li>\n",
       "\t<li>''</li>\n",
       "\t<li>'E46'</li>\n",
       "\t<li>''</li>\n",
       "\t<li>''</li>\n",
       "\t<li>''</li>\n",
       "\t<li>'G6'</li>\n",
       "\t<li>'C103'</li>\n",
       "\t<li>''</li>\n",
       "\t<li>''</li>\n",
       "\t<li>''</li>\n",
       "\t<li>''</li>\n",
       "\t<li>''</li>\n",
       "\t<li>''</li>\n",
       "\t<li>''</li>\n",
       "\t<li>''</li>\n",
       "\t<li>''</li>\n",
       "\t<li>'D56'</li>\n",
       "\t<li>''</li>\n",
       "\t<li>'A6'</li>\n",
       "\t<li>''</li>\n",
       "\t<li>''</li>\n",
       "\t<li>''</li>\n",
       "\t<li>'C23 C25 C27'</li>\n",
       "</ol>\n"
      ],
      "text/latex": [
       "\\begin{enumerate*}\n",
       "\\item ''\n",
       "\\item 'C85'\n",
       "\\item ''\n",
       "\\item 'C123'\n",
       "\\item ''\n",
       "\\item ''\n",
       "\\item 'E46'\n",
       "\\item ''\n",
       "\\item ''\n",
       "\\item ''\n",
       "\\item 'G6'\n",
       "\\item 'C103'\n",
       "\\item ''\n",
       "\\item ''\n",
       "\\item ''\n",
       "\\item ''\n",
       "\\item ''\n",
       "\\item ''\n",
       "\\item ''\n",
       "\\item ''\n",
       "\\item ''\n",
       "\\item 'D56'\n",
       "\\item ''\n",
       "\\item 'A6'\n",
       "\\item ''\n",
       "\\item ''\n",
       "\\item ''\n",
       "\\item 'C23 C25 C27'\n",
       "\\end{enumerate*}\n"
      ],
      "text/markdown": [
       "1. ''\n",
       "2. 'C85'\n",
       "3. ''\n",
       "4. 'C123'\n",
       "5. ''\n",
       "6. ''\n",
       "7. 'E46'\n",
       "8. ''\n",
       "9. ''\n",
       "10. ''\n",
       "11. 'G6'\n",
       "12. 'C103'\n",
       "13. ''\n",
       "14. ''\n",
       "15. ''\n",
       "16. ''\n",
       "17. ''\n",
       "18. ''\n",
       "19. ''\n",
       "20. ''\n",
       "21. ''\n",
       "22. 'D56'\n",
       "23. ''\n",
       "24. 'A6'\n",
       "25. ''\n",
       "26. ''\n",
       "27. ''\n",
       "28. 'C23 C25 C27'\n",
       "\n",
       "\n"
      ],
      "text/plain": [
       " [1] \"\"            \"C85\"         \"\"            \"C123\"        \"\"           \n",
       " [6] \"\"            \"E46\"         \"\"            \"\"            \"\"           \n",
       "[11] \"G6\"          \"C103\"        \"\"            \"\"            \"\"           \n",
       "[16] \"\"            \"\"            \"\"            \"\"            \"\"           \n",
       "[21] \"\"            \"D56\"         \"\"            \"A6\"          \"\"           \n",
       "[26] \"\"            \"\"            \"C23 C25 C27\""
      ]
     },
     "metadata": {},
     "output_type": "display_data"
    }
   ],
   "source": [
    "full$Cabin[1:28]"
   ]
  },
  {
   "cell_type": "code",
   "execution_count": 302,
   "metadata": {},
   "outputs": [
    {
     "data": {
      "text/html": [
       "<ol class=list-inline>\n",
       "\t<li>'C'</li>\n",
       "\t<li>'8'</li>\n",
       "\t<li>'5'</li>\n",
       "</ol>\n"
      ],
      "text/latex": [
       "\\begin{enumerate*}\n",
       "\\item 'C'\n",
       "\\item '8'\n",
       "\\item '5'\n",
       "\\end{enumerate*}\n"
      ],
      "text/markdown": [
       "1. 'C'\n",
       "2. '8'\n",
       "3. '5'\n",
       "\n",
       "\n"
      ],
      "text/plain": [
       "[1] \"C\" \"8\" \"5\""
      ]
     },
     "metadata": {},
     "output_type": "display_data"
    }
   ],
   "source": [
    "strsplit(full$Cabin[2], NULL)[[1]]"
   ]
  },
  {
   "cell_type": "code",
   "execution_count": 303,
   "metadata": {},
   "outputs": [],
   "source": [
    "full$Deck<-factor(sapply(full$Cabin, function(x) strsplit(x, NULL)[[1]][1]))"
   ]
  },
  {
   "cell_type": "code",
   "execution_count": 304,
   "metadata": {},
   "outputs": [],
   "source": [
    "#Cabin 변수 제거\n",
    "full=full[,-8]"
   ]
  },
  {
   "cell_type": "code",
   "execution_count": 305,
   "metadata": {},
   "outputs": [
    {
     "data": {
      "text/html": [
       "<table>\n",
       "<thead><tr><th scope=col>PassengerId</th><th scope=col>Survived</th><th scope=col>Pclass</th><th scope=col>Sex</th><th scope=col>Age</th><th scope=col>Ticket</th><th scope=col>Fare</th><th scope=col>Embarked</th><th scope=col>Title</th><th scope=col>Family</th><th scope=col>Deck</th></tr></thead>\n",
       "<tbody>\n",
       "\t<tr><td>1               </td><td>0               </td><td>3               </td><td>0               </td><td>22              </td><td>A/5 21171       </td><td> 7.2500         </td><td>S               </td><td>0               </td><td>small           </td><td>NA              </td></tr>\n",
       "\t<tr><td>2               </td><td>1               </td><td>1               </td><td>1               </td><td>38              </td><td>PC 17599        </td><td>71.2833         </td><td>C               </td><td>2               </td><td>small           </td><td>C               </td></tr>\n",
       "\t<tr><td>3               </td><td>1               </td><td>3               </td><td>1               </td><td>26              </td><td>STON/O2. 3101282</td><td> 7.9250         </td><td>S               </td><td>1               </td><td>single          </td><td>NA              </td></tr>\n",
       "\t<tr><td>4               </td><td>1               </td><td>1               </td><td>1               </td><td>35              </td><td>113803          </td><td>53.1000         </td><td>S               </td><td>2               </td><td>small           </td><td>C               </td></tr>\n",
       "\t<tr><td>5               </td><td>0               </td><td>3               </td><td>0               </td><td>35              </td><td>373450          </td><td> 8.0500         </td><td>S               </td><td>0               </td><td>single          </td><td>NA              </td></tr>\n",
       "\t<tr><td>6               </td><td>0               </td><td>3               </td><td>0               </td><td>NA              </td><td>330877          </td><td> 8.4583         </td><td>Q               </td><td>0               </td><td>single          </td><td>NA              </td></tr>\n",
       "</tbody>\n",
       "</table>\n"
      ],
      "text/latex": [
       "\\begin{tabular}{r|lllllllllll}\n",
       " PassengerId & Survived & Pclass & Sex & Age & Ticket & Fare & Embarked & Title & Family & Deck\\\\\n",
       "\\hline\n",
       "\t 1                & 0                & 3                & 0                & 22               & A/5 21171        &  7.2500          & S                & 0                & small            & NA              \\\\\n",
       "\t 2                & 1                & 1                & 1                & 38               & PC 17599         & 71.2833          & C                & 2                & small            & C               \\\\\n",
       "\t 3                & 1                & 3                & 1                & 26               & STON/O2. 3101282 &  7.9250          & S                & 1                & single           & NA              \\\\\n",
       "\t 4                & 1                & 1                & 1                & 35               & 113803           & 53.1000          & S                & 2                & small            & C               \\\\\n",
       "\t 5                & 0                & 3                & 0                & 35               & 373450           &  8.0500          & S                & 0                & single           & NA              \\\\\n",
       "\t 6                & 0                & 3                & 0                & NA               & 330877           &  8.4583          & Q                & 0                & single           & NA              \\\\\n",
       "\\end{tabular}\n"
      ],
      "text/markdown": [
       "\n",
       "PassengerId | Survived | Pclass | Sex | Age | Ticket | Fare | Embarked | Title | Family | Deck | \n",
       "|---|---|---|---|---|---|\n",
       "| 1                | 0                | 3                | 0                | 22               | A/5 21171        |  7.2500          | S                | 0                | small            | NA               | \n",
       "| 2                | 1                | 1                | 1                | 38               | PC 17599         | 71.2833          | C                | 2                | small            | C                | \n",
       "| 3                | 1                | 3                | 1                | 26               | STON/O2. 3101282 |  7.9250          | S                | 1                | single           | NA               | \n",
       "| 4                | 1                | 1                | 1                | 35               | 113803           | 53.1000          | S                | 2                | small            | C                | \n",
       "| 5                | 0                | 3                | 0                | 35               | 373450           |  8.0500          | S                | 0                | single           | NA               | \n",
       "| 6                | 0                | 3                | 0                | NA               | 330877           |  8.4583          | Q                | 0                | single           | NA               | \n",
       "\n",
       "\n"
      ],
      "text/plain": [
       "  PassengerId Survived Pclass Sex Age Ticket           Fare    Embarked Title\n",
       "1 1           0        3      0   22  A/5 21171         7.2500 S        0    \n",
       "2 2           1        1      1   38  PC 17599         71.2833 C        2    \n",
       "3 3           1        3      1   26  STON/O2. 3101282  7.9250 S        1    \n",
       "4 4           1        1      1   35  113803           53.1000 S        2    \n",
       "5 5           0        3      0   35  373450            8.0500 S        0    \n",
       "6 6           0        3      0   NA  330877            8.4583 Q        0    \n",
       "  Family Deck\n",
       "1 small  NA  \n",
       "2 small  C   \n",
       "3 single NA  \n",
       "4 small  C   \n",
       "5 single NA  \n",
       "6 single NA  "
      ]
     },
     "metadata": {},
     "output_type": "display_data"
    }
   ],
   "source": [
    "head(full)"
   ]
  },
  {
   "cell_type": "markdown",
   "metadata": {},
   "source": [
    "# Missing Value"
   ]
  },
  {
   "cell_type": "code",
   "execution_count": 306,
   "metadata": {},
   "outputs": [
    {
     "data": {
      "text/html": [
       "<dl class=dl-horizontal>\n",
       "\t<dt>PassengerId</dt>\n",
       "\t\t<dd>0</dd>\n",
       "\t<dt>Survived</dt>\n",
       "\t\t<dd>418</dd>\n",
       "\t<dt>Pclass</dt>\n",
       "\t\t<dd>0</dd>\n",
       "\t<dt>Sex</dt>\n",
       "\t\t<dd>0</dd>\n",
       "\t<dt>Age</dt>\n",
       "\t\t<dd>263</dd>\n",
       "\t<dt>Ticket</dt>\n",
       "\t\t<dd>0</dd>\n",
       "\t<dt>Fare</dt>\n",
       "\t\t<dd>1</dd>\n",
       "\t<dt>Embarked</dt>\n",
       "\t\t<dd>0</dd>\n",
       "\t<dt>Title</dt>\n",
       "\t\t<dd>0</dd>\n",
       "\t<dt>Family</dt>\n",
       "\t\t<dd>0</dd>\n",
       "\t<dt>Deck</dt>\n",
       "\t\t<dd>1014</dd>\n",
       "</dl>\n"
      ],
      "text/latex": [
       "\\begin{description*}\n",
       "\\item[PassengerId] 0\n",
       "\\item[Survived] 418\n",
       "\\item[Pclass] 0\n",
       "\\item[Sex] 0\n",
       "\\item[Age] 263\n",
       "\\item[Ticket] 0\n",
       "\\item[Fare] 1\n",
       "\\item[Embarked] 0\n",
       "\\item[Title] 0\n",
       "\\item[Family] 0\n",
       "\\item[Deck] 1014\n",
       "\\end{description*}\n"
      ],
      "text/markdown": [
       "PassengerId\n",
       ":   0Survived\n",
       ":   418Pclass\n",
       ":   0Sex\n",
       ":   0Age\n",
       ":   263Ticket\n",
       ":   0Fare\n",
       ":   1Embarked\n",
       ":   0Title\n",
       ":   0Family\n",
       ":   0Deck\n",
       ":   1014\n",
       "\n"
      ],
      "text/plain": [
       "PassengerId    Survived      Pclass         Sex         Age      Ticket \n",
       "          0         418           0           0         263           0 \n",
       "       Fare    Embarked       Title      Family        Deck \n",
       "          1           0           0           0        1014 "
      ]
     },
     "metadata": {},
     "output_type": "display_data"
    }
   ],
   "source": [
    "colSums(is.na(full))"
   ]
  },
  {
   "cell_type": "markdown",
   "metadata": {},
   "source": [
    "Embarked(탑승항구) 결측치 처리"
   ]
  },
  {
   "cell_type": "code",
   "execution_count": 307,
   "metadata": {},
   "outputs": [
    {
     "data": {
      "text/html": [
       "<table>\n",
       "<thead><tr><th scope=col>PassengerId</th><th scope=col>Survived</th><th scope=col>Pclass</th><th scope=col>Sex</th><th scope=col>Age</th><th scope=col>Ticket</th><th scope=col>Fare</th><th scope=col>Embarked</th><th scope=col>Title</th><th scope=col>Family</th><th scope=col>Deck</th></tr></thead>\n",
       "<tbody>\n",
       "\t<tr><td> 62   </td><td>1     </td><td>1     </td><td>1     </td><td>38    </td><td>113572</td><td>80    </td><td>      </td><td>1     </td><td>single</td><td>B     </td></tr>\n",
       "\t<tr><td>830   </td><td>1     </td><td>1     </td><td>1     </td><td>62    </td><td>113572</td><td>80    </td><td>      </td><td>2     </td><td>single</td><td>B     </td></tr>\n",
       "</tbody>\n",
       "</table>\n"
      ],
      "text/latex": [
       "\\begin{tabular}{r|lllllllllll}\n",
       " PassengerId & Survived & Pclass & Sex & Age & Ticket & Fare & Embarked & Title & Family & Deck\\\\\n",
       "\\hline\n",
       "\t  62    & 1      & 1      & 1      & 38     & 113572 & 80     &        & 1      & single & B     \\\\\n",
       "\t 830    & 1      & 1      & 1      & 62     & 113572 & 80     &        & 2      & single & B     \\\\\n",
       "\\end{tabular}\n"
      ],
      "text/markdown": [
       "\n",
       "PassengerId | Survived | Pclass | Sex | Age | Ticket | Fare | Embarked | Title | Family | Deck | \n",
       "|---|---|\n",
       "|  62    | 1      | 1      | 1      | 38     | 113572 | 80     |        | 1      | single | B      | \n",
       "| 830    | 1      | 1      | 1      | 62     | 113572 | 80     |        | 2      | single | B      | \n",
       "\n",
       "\n"
      ],
      "text/plain": [
       "  PassengerId Survived Pclass Sex Age Ticket Fare Embarked Title Family Deck\n",
       "1  62         1        1      1   38  113572 80            1     single B   \n",
       "2 830         1        1      1   62  113572 80            2     single B   "
      ]
     },
     "metadata": {},
     "output_type": "display_data"
    }
   ],
   "source": [
    "full  %>% filter(Embarked==\"\") #두개의 관측치 모두 Fare가 80이고, Pclass가 1임"
   ]
  },
  {
   "cell_type": "code",
   "execution_count": 308,
   "metadata": {},
   "outputs": [],
   "source": [
    "embark_fare= full  %>% filter(Embarked!=\"\")"
   ]
  },
  {
   "cell_type": "code",
   "execution_count": 309,
   "metadata": {},
   "outputs": [
    {
     "name": "stderr",
     "output_type": "stream",
     "text": [
      "Warning message:\n",
      "\"Removed 1 rows containing non-finite values (stat_boxplot).\""
     ]
    },
    {
     "data": {},
     "metadata": {},
     "output_type": "display_data"
    },
    {
     "data": {
      "image/png": "[encoded data removed]",
      "text/plain": [
       "plot without title"
      ]
     },
     "metadata": {},
     "output_type": "display_data"
    }
   ],
   "source": [
    "ggplot(embark_fare, aes(x = Embarked, y = Fare, fill = factor(Pclass))) +\n",
    "  geom_boxplot() +\n",
    "  geom_hline(aes(yintercept=80), \n",
    "    colour='red', linetype='dashed', lwd=2) +\n",
    "  scale_y_continuous()\n",
    "\n",
    "#fare가 80달러이면서 Pclass가 1인 승객들의 Embark는 C임"
   ]
  },
  {
   "cell_type": "code",
   "execution_count": 310,
   "metadata": {},
   "outputs": [
    {
     "data": {
      "text/html": [
       "<table>\n",
       "<thead><tr><th></th><th scope=col>PassengerId</th><th scope=col>Survived</th><th scope=col>Pclass</th><th scope=col>Sex</th><th scope=col>Age</th><th scope=col>Ticket</th><th scope=col>Fare</th><th scope=col>Embarked</th><th scope=col>Title</th><th scope=col>Family</th><th scope=col>Deck</th></tr></thead>\n",
       "<tbody>\n",
       "\t<tr><th scope=row>62</th><td> 62   </td><td>1     </td><td>1     </td><td>1     </td><td>38    </td><td>113572</td><td>80    </td><td>C     </td><td>1     </td><td>single</td><td>B     </td></tr>\n",
       "\t<tr><th scope=row>830</th><td>830   </td><td>1     </td><td>1     </td><td>1     </td><td>62    </td><td>113572</td><td>80    </td><td>C     </td><td>2     </td><td>single</td><td>B     </td></tr>\n",
       "</tbody>\n",
       "</table>\n"
      ],
      "text/latex": [
       "\\begin{tabular}{r|lllllllllll}\n",
       "  & PassengerId & Survived & Pclass & Sex & Age & Ticket & Fare & Embarked & Title & Family & Deck\\\\\n",
       "\\hline\n",
       "\t62 &  62    & 1      & 1      & 1      & 38     & 113572 & 80     & C      & 1      & single & B     \\\\\n",
       "\t830 & 830    & 1      & 1      & 1      & 62     & 113572 & 80     & C      & 2      & single & B     \\\\\n",
       "\\end{tabular}\n"
      ],
      "text/markdown": [
       "\n",
       "| <!--/--> | PassengerId | Survived | Pclass | Sex | Age | Ticket | Fare | Embarked | Title | Family | Deck | \n",
       "|---|---|\n",
       "| 62 |  62    | 1      | 1      | 1      | 38     | 113572 | 80     | C      | 1      | single | B      | \n",
       "| 830 | 830    | 1      | 1      | 1      | 62     | 113572 | 80     | C      | 2      | single | B      | \n",
       "\n",
       "\n"
      ],
      "text/plain": [
       "    PassengerId Survived Pclass Sex Age Ticket Fare Embarked Title Family Deck\n",
       "62   62         1        1      1   38  113572 80   C        1     single B   \n",
       "830 830         1        1      1   62  113572 80   C        2     single B   "
      ]
     },
     "metadata": {},
     "output_type": "display_data"
    }
   ],
   "source": [
    "full$Embarked[c(62, 830)] <- 'C'\n",
    "\n",
    "full[c(62, 830),] "
   ]
  },
  {
   "cell_type": "markdown",
   "metadata": {},
   "source": [
    "Fare(요금) 결측치 처리"
   ]
  },
  {
   "cell_type": "code",
   "execution_count": 311,
   "metadata": {},
   "outputs": [
    {
     "data": {
      "text/html": [
       "<table>\n",
       "<thead><tr><th scope=col>PassengerId</th><th scope=col>Survived</th><th scope=col>Pclass</th><th scope=col>Sex</th><th scope=col>Age</th><th scope=col>Ticket</th><th scope=col>Fare</th><th scope=col>Embarked</th><th scope=col>Title</th><th scope=col>Family</th><th scope=col>Deck</th></tr></thead>\n",
       "<tbody>\n",
       "\t<tr><td>1044  </td><td>NA    </td><td>3     </td><td>0     </td><td>60.5  </td><td>3701  </td><td>NA    </td><td>S     </td><td>0     </td><td>single</td><td>NA    </td></tr>\n",
       "</tbody>\n",
       "</table>\n"
      ],
      "text/latex": [
       "\\begin{tabular}{r|lllllllllll}\n",
       " PassengerId & Survived & Pclass & Sex & Age & Ticket & Fare & Embarked & Title & Family & Deck\\\\\n",
       "\\hline\n",
       "\t 1044   & NA     & 3      & 0      & 60.5   & 3701   & NA     & S      & 0      & single & NA    \\\\\n",
       "\\end{tabular}\n"
      ],
      "text/markdown": [
       "\n",
       "PassengerId | Survived | Pclass | Sex | Age | Ticket | Fare | Embarked | Title | Family | Deck | \n",
       "|---|\n",
       "| 1044   | NA     | 3      | 0      | 60.5   | 3701   | NA     | S      | 0      | single | NA     | \n",
       "\n",
       "\n"
      ],
      "text/plain": [
       "  PassengerId Survived Pclass Sex Age  Ticket Fare Embarked Title Family Deck\n",
       "1 1044        NA       3      0   60.5 3701   NA   S        0     single NA  "
      ]
     },
     "metadata": {},
     "output_type": "display_data"
    }
   ],
   "source": [
    "full  %>% filter(is.na(full$Fare)) #Pclasss가 3이고, Embarked는 S임"
   ]
  },
  {
   "cell_type": "code",
   "execution_count": 312,
   "metadata": {},
   "outputs": [],
   "source": [
    "full$Fare[1044] <- median(full[full$Pclass == '3' & full$Embarked == 'S', ]$Fare, na.rm = TRUE) #중앙값으로 결측치 처리"
   ]
  },
  {
   "cell_type": "code",
   "execution_count": 313,
   "metadata": {},
   "outputs": [
    {
     "data": {
      "text/html": [
       "<table>\n",
       "<thead><tr><th></th><th scope=col>PassengerId</th><th scope=col>Survived</th><th scope=col>Pclass</th><th scope=col>Sex</th><th scope=col>Age</th><th scope=col>Ticket</th><th scope=col>Fare</th><th scope=col>Embarked</th><th scope=col>Title</th><th scope=col>Family</th><th scope=col>Deck</th></tr></thead>\n",
       "<tbody>\n",
       "\t<tr><th scope=row>1044</th><td>1044  </td><td>NA    </td><td>3     </td><td>0     </td><td>60.5  </td><td>3701  </td><td>8.05  </td><td>S     </td><td>0     </td><td>single</td><td>NA    </td></tr>\n",
       "</tbody>\n",
       "</table>\n"
      ],
      "text/latex": [
       "\\begin{tabular}{r|lllllllllll}\n",
       "  & PassengerId & Survived & Pclass & Sex & Age & Ticket & Fare & Embarked & Title & Family & Deck\\\\\n",
       "\\hline\n",
       "\t1044 & 1044   & NA     & 3      & 0      & 60.5   & 3701   & 8.05   & S      & 0      & single & NA    \\\\\n",
       "\\end{tabular}\n"
      ],
      "text/markdown": [
       "\n",
       "| <!--/--> | PassengerId | Survived | Pclass | Sex | Age | Ticket | Fare | Embarked | Title | Family | Deck | \n",
       "|---|\n",
       "| 1044 | 1044   | NA     | 3      | 0      | 60.5   | 3701   | 8.05   | S      | 0      | single | NA     | \n",
       "\n",
       "\n"
      ],
      "text/plain": [
       "     PassengerId Survived Pclass Sex Age  Ticket Fare Embarked Title Family\n",
       "1044 1044        NA       3      0   60.5 3701   8.05 S        0     single\n",
       "     Deck\n",
       "1044 NA  "
      ]
     },
     "metadata": {},
     "output_type": "display_data"
    }
   ],
   "source": [
    "full[1044,]"
   ]
  },
  {
   "cell_type": "markdown",
   "metadata": {},
   "source": [
    "Age(나이) 결측치 처리"
   ]
  },
  {
   "cell_type": "code",
   "execution_count": 314,
   "metadata": {},
   "outputs": [],
   "source": [
    "library(doBy)"
   ]
  },
  {
   "cell_type": "code",
   "execution_count": 315,
   "metadata": {},
   "outputs": [
    {
     "data": {
      "text/html": [
       "<table>\n",
       "<thead><tr><th scope=col>Title</th><th scope=col>Age.mean</th><th scope=col>Age.sd</th><th scope=col>Age.median</th></tr></thead>\n",
       "<tbody>\n",
       "\t<tr><td>0       </td><td>32.25215</td><td>12.42209</td><td>29.0    </td></tr>\n",
       "\t<tr><td>1       </td><td>21.77424</td><td>12.24908</td><td>22.0    </td></tr>\n",
       "\t<tr><td>2       </td><td>36.99412</td><td>12.90177</td><td>35.5    </td></tr>\n",
       "\t<tr><td>3       </td><td>19.47741</td><td>19.89266</td><td> 9.0    </td></tr>\n",
       "</tbody>\n",
       "</table>\n"
      ],
      "text/latex": [
       "\\begin{tabular}{r|llll}\n",
       " Title & Age.mean & Age.sd & Age.median\\\\\n",
       "\\hline\n",
       "\t 0        & 32.25215 & 12.42209 & 29.0    \\\\\n",
       "\t 1        & 21.77424 & 12.24908 & 22.0    \\\\\n",
       "\t 2        & 36.99412 & 12.90177 & 35.5    \\\\\n",
       "\t 3        & 19.47741 & 19.89266 &  9.0    \\\\\n",
       "\\end{tabular}\n"
      ],
      "text/markdown": [
       "\n",
       "Title | Age.mean | Age.sd | Age.median | \n",
       "|---|---|---|---|\n",
       "| 0        | 32.25215 | 12.42209 | 29.0     | \n",
       "| 1        | 21.77424 | 12.24908 | 22.0     | \n",
       "| 2        | 36.99412 | 12.90177 | 35.5     | \n",
       "| 3        | 19.47741 | 19.89266 |  9.0     | \n",
       "\n",
       "\n"
      ],
      "text/plain": [
       "  Title Age.mean Age.sd   Age.median\n",
       "1 0     32.25215 12.42209 29.0      \n",
       "2 1     21.77424 12.24908 22.0      \n",
       "3 2     36.99412 12.90177 35.5      \n",
       "4 3     19.47741 19.89266  9.0      "
      ]
     },
     "metadata": {},
     "output_type": "display_data"
    }
   ],
   "source": [
    "summaryBy(Age ~ Title, data=full, FUN=c(mean, sd, median), na.rm=TRUE)"
   ]
  },
  {
   "cell_type": "code",
   "execution_count": 316,
   "metadata": {},
   "outputs": [],
   "source": [
    "# Title별 Median Age를 통한 결측값 처리\n",
    "full$Age <- ifelse((is.na(full$Age) & full$Title == 0), 29, full$Age)\n",
    "full$Age <- ifelse((is.na(full$Age) & full$Title == 1), 22, full$Age)\n",
    "full$Age <- ifelse((is.na(full$Age) & full$Title == 2), 35, full$Age)\n",
    "full$Age <- ifelse((is.na(full$Age) & full$Title == 3), 9, full$Age)"
   ]
  },
  {
   "cell_type": "code",
   "execution_count": 317,
   "metadata": {},
   "outputs": [
    {
     "data": {
      "image/png": "[encoded data removed]",
      "text/plain": [
       "Plot with title \"Age\""
      ]
     },
     "metadata": {},
     "output_type": "display_data"
    }
   ],
   "source": [
    "hist(full$Age, freq=F, main='Age',col='lightgreen', ylim=c(0,0.04))"
   ]
  },
  {
   "cell_type": "markdown",
   "metadata": {},
   "source": [
    "-child: 18세 이하\n",
    "\n",
    "-adult: 19세 이상 64세 이하\n",
    "\n",
    "-senior: 65세 이상"
   ]
  },
  {
   "cell_type": "code",
   "execution_count": 318,
   "metadata": {},
   "outputs": [],
   "source": [
    "full$Age <- ifelse(full$Age <= 18, \"child\",\n",
    "                    ifelse(full$Age > 18 & full$Age <= 64, \"adult\",\"senior\"))"
   ]
  },
  {
   "cell_type": "code",
   "execution_count": 319,
   "metadata": {},
   "outputs": [
    {
     "data": {
      "text/plain": [
       "\n",
       " adult  child senior \n",
       "  1093    203     13 "
      ]
     },
     "metadata": {},
     "output_type": "display_data"
    }
   ],
   "source": [
    "table(full$Age)"
   ]
  },
  {
   "cell_type": "markdown",
   "metadata": {},
   "source": [
    "# Predict"
   ]
  },
  {
   "cell_type": "code",
   "execution_count": 320,
   "metadata": {},
   "outputs": [
    {
     "name": "stdout",
     "output_type": "stream",
     "text": [
      "'data.frame':\t1309 obs. of  11 variables:\n",
      " $ PassengerId: int  1 2 3 4 5 6 7 8 9 10 ...\n",
      " $ Survived   : int  0 1 1 1 0 0 0 0 1 1 ...\n",
      " $ Pclass     : int  3 1 3 1 3 3 1 3 3 2 ...\n",
      " $ Sex        : Factor w/ 2 levels \"0\",\"1\": 1 2 2 2 1 1 1 1 2 2 ...\n",
      " $ Age        : chr  \"adult\" \"adult\" \"adult\" \"adult\" ...\n",
      " $ Ticket     : chr  \"A/5 21171\" \"PC 17599\" \"STON/O2. 3101282\" \"113803\" ...\n",
      " $ Fare       : num  7.25 71.28 7.92 53.1 8.05 ...\n",
      " $ Embarked   : chr  \"S\" \"C\" \"S\" \"S\" ...\n",
      " $ Title      : Factor w/ 4 levels \"0\",\"1\",\"2\",\"3\": 1 3 2 3 1 1 1 4 3 3 ...\n",
      " $ Family     : Factor w/ 3 levels \"large\",\"single\",..: 3 3 2 3 2 2 2 1 3 3 ...\n",
      " $ Deck       : Factor w/ 8 levels \"A\",\"B\",\"C\",\"D\",..: NA 3 NA 3 NA NA 5 NA NA NA ...\n"
     ]
    }
   ],
   "source": [
    "str(full)"
   ]
  },
  {
   "cell_type": "code",
   "execution_count": 321,
   "metadata": {},
   "outputs": [],
   "source": [
    "factor_vars <- c('PassengerId','Survived','Pclass','Age','Embarked')\n",
    "\n",
    "full[factor_vars] <- lapply(full[factor_vars], function(x) as.factor(x))"
   ]
  },
  {
   "cell_type": "code",
   "execution_count": 322,
   "metadata": {},
   "outputs": [
    {
     "name": "stdout",
     "output_type": "stream",
     "text": [
      "'data.frame':\t1309 obs. of  11 variables:\n",
      " $ PassengerId: Factor w/ 1309 levels \"1\",\"2\",\"3\",\"4\",..: 1 2 3 4 5 6 7 8 9 10 ...\n",
      " $ Survived   : Factor w/ 2 levels \"0\",\"1\": 1 2 2 2 1 1 1 1 2 2 ...\n",
      " $ Pclass     : Factor w/ 3 levels \"1\",\"2\",\"3\": 3 1 3 1 3 3 1 3 3 2 ...\n",
      " $ Sex        : Factor w/ 2 levels \"0\",\"1\": 1 2 2 2 1 1 1 1 2 2 ...\n",
      " $ Age        : Factor w/ 3 levels \"adult\",\"child\",..: 1 1 1 1 1 1 1 2 1 2 ...\n",
      " $ Ticket     : chr  \"A/5 21171\" \"PC 17599\" \"STON/O2. 3101282\" \"113803\" ...\n",
      " $ Fare       : num  7.25 71.28 7.92 53.1 8.05 ...\n",
      " $ Embarked   : Factor w/ 3 levels \"C\",\"Q\",\"S\": 3 1 3 3 3 2 3 3 3 1 ...\n",
      " $ Title      : Factor w/ 4 levels \"0\",\"1\",\"2\",\"3\": 1 3 2 3 1 1 1 4 3 3 ...\n",
      " $ Family     : Factor w/ 3 levels \"large\",\"single\",..: 3 3 2 3 2 2 2 1 3 3 ...\n",
      " $ Deck       : Factor w/ 8 levels \"A\",\"B\",\"C\",\"D\",..: NA 3 NA 3 NA NA 5 NA NA NA ...\n"
     ]
    }
   ],
   "source": [
    "str(full)"
   ]
  },
  {
   "cell_type": "code",
   "execution_count": 323,
   "metadata": {},
   "outputs": [],
   "source": [
    "train <- full[1:891,]\n",
    "test <- full[892:1309,]"
   ]
  },
  {
   "cell_type": "code",
   "execution_count": 324,
   "metadata": {},
   "outputs": [],
   "source": [
    "library(randomForest)"
   ]
  },
  {
   "cell_type": "code",
   "execution_count": 325,
   "metadata": {},
   "outputs": [],
   "source": [
    "set.seed(123)\n",
    "\n",
    "# Build the model (note: not all possible variables are used)\n",
    "rf_model <- randomForest(factor(Survived) ~ Pclass + Sex + Age + \n",
    "                                            Fare + Embarked + Title + \n",
    "                                            Family,\n",
    "                                            data = train)"
   ]
  },
  {
   "cell_type": "code",
   "execution_count": 326,
   "metadata": {},
   "outputs": [
    {
     "data": {
      "image/png": "[encoded data removed]",
      "text/plain": [
       "Plot with title \"rf_model\""
      ]
     },
     "metadata": {},
     "output_type": "display_data"
    }
   ],
   "source": [
    "plot(rf_model, ylim=c(0,0.36))\n",
    "legend('topright', colnames(rf_model$err.rate), col=1:3, fill=1:3)"
   ]
  },
  {
   "cell_type": "code",
   "execution_count": 327,
   "metadata": {},
   "outputs": [
    {
     "data": {},
     "metadata": {},
     "output_type": "display_data"
    },
    {
     "data": {
      "image/png": "[encoded data removed]",
      "text/plain": [
       "plot without title"
      ]
     },
     "metadata": {},
     "output_type": "display_data"
    }
   ],
   "source": [
    "#변수 중요도\n",
    "importance    <- importance(rf_model)\n",
    "varImportance <- data.frame(Variables = row.names(importance), \n",
    "                            Importance = round(importance[ ,'MeanDecreaseGini'],2))\n",
    "\n",
    "rankImportance <- varImportance %>%\n",
    "  mutate(Rank = paste0('#',dense_rank(desc(Importance))))\n",
    "\n",
    "ggplot(rankImportance, aes(x = reorder(Variables, Importance), \n",
    "    y = Importance, fill = Importance)) +\n",
    "  geom_bar(stat='identity') + \n",
    "  geom_text(aes(x = Variables, y = 0.5, label = Rank),\n",
    "    hjust=0, vjust=0.55, size = 4, colour = 'red') +\n",
    "  labs(x = 'Variables') +\n",
    "  coord_flip()"
   ]
  },
  {
   "cell_type": "code",
   "execution_count": 328,
   "metadata": {},
   "outputs": [],
   "source": [
    "prediction <- predict(rf_model, test)\n",
    "\n",
    "solution <- data.frame(PassengerID = test$PassengerId, Survived = prediction)\n",
    "\n",
    "write.csv(solution, file = 'rf_mod_Solution.csv', row.names = F)"
   ]
  },
  {
   "cell_type": "code",
   "execution_count": 329,
   "metadata": {},
   "outputs": [
    {
     "data": {
      "text/plain": [
       "\n",
       "Call:\n",
       " randomForest(formula = factor(Survived) ~ Pclass + Sex + Age +      Fare + Embarked + Title + Family, data = train) \n",
       "               Type of random forest: classification\n",
       "                     Number of trees: 500\n",
       "No. of variables tried at each split: 2\n",
       "\n",
       "        OOB estimate of  error rate: 17.4%\n",
       "Confusion matrix:\n",
       "    0   1 class.error\n",
       "0 498  51  0.09289617\n",
       "1 104 238  0.30409357"
      ]
     },
     "metadata": {},
     "output_type": "display_data"
    }
   ],
   "source": [
    "rf_model"
   ]
  },
  {
   "cell_type": "code",
   "execution_count": 330,
   "metadata": {},
   "outputs": [
    {
     "data": {
      "image/png": "[encoded data removed]",
      "text/plain": [
       "Plot with title \"rf_model\""
      ]
     },
     "metadata": {},
     "output_type": "display_data"
    }
   ],
   "source": [
    "opar <- par(mfrow=c(1,2))\n",
    "plot(rf_model)\n",
    "varImpPlot(rf_model)"
   ]
  }
 ],
 "metadata": {
  "kernelspec": {
   "display_name": "R",
   "language": "R",
   "name": "ir"
  },
  "language_info": {
   "codemirror_mode": "r",
   "file_extension": ".r",
   "mimetype": "text/x-r-source",
   "name": "R",
   "pygments_lexer": "r",
   "version": "3.5.1"
  }
 },
 "nbformat": 4,
 "nbformat_minor": 2
}
