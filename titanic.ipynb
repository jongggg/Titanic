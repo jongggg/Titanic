{
 "cells": [
  {
   "cell_type": "markdown",
   "metadata": {},
   "source": [
    "# Import Data"
   ]
  },
  {
   "cell_type": "code",
   "execution_count": 287,
   "metadata": {},
   "outputs": [],
   "source": [
    "library(readr)\n",
    "library(stringr) # 문자열 처리 패키지\n",
    "library(doBy)\n",
    "library(ggplot2)\n",
    "library(scales)\n",
    "library(RColorBrewer)\n",
    "library(corrplot)\n",
    "library(doBy)\n",
    "library(dplyr) # 전처리\n",
    "library(randomForest)\n",
    "library(gridExtra)"
   ]
  },
  {
   "cell_type": "code",
   "execution_count": 288,
   "metadata": {},
   "outputs": [],
   "source": [
    "setwd(\"C:/Users/yy/Desktop/2019-1st-ml-month-with-kakr\")"
   ]
  },
  {
   "cell_type": "code",
   "execution_count": 289,
   "metadata": {},
   "outputs": [],
   "source": [
    "train=read.csv(\"train.csv\",stringsAsFactors=FALSE)\n",
    "test=read.csv(\"test.csv\",stringsAsFactors=FALSE)"
   ]
  },
  {
   "cell_type": "code",
   "execution_count": 290,
   "metadata": {},
   "outputs": [
    {
     "data": {
      "text/html": [
       "<table>\n",
       "<thead><tr><th scope=col>PassengerId</th><th scope=col>Survived</th><th scope=col>Pclass</th><th scope=col>Name</th><th scope=col>Sex</th><th scope=col>Age</th><th scope=col>SibSp</th><th scope=col>Parch</th><th scope=col>Ticket</th><th scope=col>Fare</th><th scope=col>Cabin</th><th scope=col>Embarked</th></tr></thead>\n",
       "<tbody>\n",
       "\t<tr><td>1                                                  </td><td>0                                                  </td><td>3                                                  </td><td>Braund, Mr. Owen Harris                            </td><td>male                                               </td><td>22                                                 </td><td>1                                                  </td><td>0                                                  </td><td>A/5 21171                                          </td><td> 7.2500                                            </td><td>                                                   </td><td>S                                                  </td></tr>\n",
       "\t<tr><td>2                                                  </td><td>1                                                  </td><td>1                                                  </td><td>Cumings, Mrs. John Bradley (Florence Briggs Thayer)</td><td>female                                             </td><td>38                                                 </td><td>1                                                  </td><td>0                                                  </td><td>PC 17599                                           </td><td>71.2833                                            </td><td>C85                                                </td><td>C                                                  </td></tr>\n",
       "\t<tr><td>3                                                  </td><td>1                                                  </td><td>3                                                  </td><td>Heikkinen, Miss. Laina                             </td><td>female                                             </td><td>26                                                 </td><td>0                                                  </td><td>0                                                  </td><td>STON/O2. 3101282                                   </td><td> 7.9250                                            </td><td>                                                   </td><td>S                                                  </td></tr>\n",
       "\t<tr><td>4                                                  </td><td>1                                                  </td><td>1                                                  </td><td>Futrelle, Mrs. Jacques Heath (Lily May Peel)       </td><td>female                                             </td><td>35                                                 </td><td>1                                                  </td><td>0                                                  </td><td>113803                                             </td><td>53.1000                                            </td><td>C123                                               </td><td>S                                                  </td></tr>\n",
       "\t<tr><td>5                                                  </td><td>0                                                  </td><td>3                                                  </td><td>Allen, Mr. William Henry                           </td><td>male                                               </td><td>35                                                 </td><td>0                                                  </td><td>0                                                  </td><td>373450                                             </td><td> 8.0500                                            </td><td>                                                   </td><td>S                                                  </td></tr>\n",
       "\t<tr><td>6                                                  </td><td>0                                                  </td><td>3                                                  </td><td>Moran, Mr. James                                   </td><td>male                                               </td><td>NA                                                 </td><td>0                                                  </td><td>0                                                  </td><td>330877                                             </td><td> 8.4583                                            </td><td>                                                   </td><td>Q                                                  </td></tr>\n",
       "</tbody>\n",
       "</table>\n"
      ],
      "text/latex": [
       "\\begin{tabular}{r|llllllllllll}\n",
       " PassengerId & Survived & Pclass & Name & Sex & Age & SibSp & Parch & Ticket & Fare & Cabin & Embarked\\\\\n",
       "\\hline\n",
       "\t 1                                                   & 0                                                   & 3                                                   & Braund, Mr. Owen Harris                             & male                                                & 22                                                  & 1                                                   & 0                                                   & A/5 21171                                           &  7.2500                                             &                                                     & S                                                  \\\\\n",
       "\t 2                                                   & 1                                                   & 1                                                   & Cumings, Mrs. John Bradley (Florence Briggs Thayer) & female                                              & 38                                                  & 1                                                   & 0                                                   & PC 17599                                            & 71.2833                                             & C85                                                 & C                                                  \\\\\n",
       "\t 3                                                   & 1                                                   & 3                                                   & Heikkinen, Miss. Laina                              & female                                              & 26                                                  & 0                                                   & 0                                                   & STON/O2. 3101282                                    &  7.9250                                             &                                                     & S                                                  \\\\\n",
       "\t 4                                                   & 1                                                   & 1                                                   & Futrelle, Mrs. Jacques Heath (Lily May Peel)        & female                                              & 35                                                  & 1                                                   & 0                                                   & 113803                                              & 53.1000                                             & C123                                                & S                                                  \\\\\n",
       "\t 5                                                   & 0                                                   & 3                                                   & Allen, Mr. William Henry                            & male                                                & 35                                                  & 0                                                   & 0                                                   & 373450                                              &  8.0500                                             &                                                     & S                                                  \\\\\n",
       "\t 6                                                   & 0                                                   & 3                                                   & Moran, Mr. James                                    & male                                                & NA                                                  & 0                                                   & 0                                                   & 330877                                              &  8.4583                                             &                                                     & Q                                                  \\\\\n",
       "\\end{tabular}\n"
      ],
      "text/markdown": [
       "\n",
       "PassengerId | Survived | Pclass | Name | Sex | Age | SibSp | Parch | Ticket | Fare | Cabin | Embarked | \n",
       "|---|---|---|---|---|---|\n",
       "| 1                                                   | 0                                                   | 3                                                   | Braund, Mr. Owen Harris                             | male                                                | 22                                                  | 1                                                   | 0                                                   | A/5 21171                                           |  7.2500                                             |                                                     | S                                                   | \n",
       "| 2                                                   | 1                                                   | 1                                                   | Cumings, Mrs. John Bradley (Florence Briggs Thayer) | female                                              | 38                                                  | 1                                                   | 0                                                   | PC 17599                                            | 71.2833                                             | C85                                                 | C                                                   | \n",
       "| 3                                                   | 1                                                   | 3                                                   | Heikkinen, Miss. Laina                              | female                                              | 26                                                  | 0                                                   | 0                                                   | STON/O2. 3101282                                    |  7.9250                                             |                                                     | S                                                   | \n",
       "| 4                                                   | 1                                                   | 1                                                   | Futrelle, Mrs. Jacques Heath (Lily May Peel)        | female                                              | 35                                                  | 1                                                   | 0                                                   | 113803                                              | 53.1000                                             | C123                                                | S                                                   | \n",
       "| 5                                                   | 0                                                   | 3                                                   | Allen, Mr. William Henry                            | male                                                | 35                                                  | 0                                                   | 0                                                   | 373450                                              |  8.0500                                             |                                                     | S                                                   | \n",
       "| 6                                                   | 0                                                   | 3                                                   | Moran, Mr. James                                    | male                                                | NA                                                  | 0                                                   | 0                                                   | 330877                                              |  8.4583                                             |                                                     | Q                                                   | \n",
       "\n",
       "\n"
      ],
      "text/plain": [
       "  PassengerId Survived Pclass\n",
       "1 1           0        3     \n",
       "2 2           1        1     \n",
       "3 3           1        3     \n",
       "4 4           1        1     \n",
       "5 5           0        3     \n",
       "6 6           0        3     \n",
       "  Name                                                Sex    Age SibSp Parch\n",
       "1 Braund, Mr. Owen Harris                             male   22  1     0    \n",
       "2 Cumings, Mrs. John Bradley (Florence Briggs Thayer) female 38  1     0    \n",
       "3 Heikkinen, Miss. Laina                              female 26  0     0    \n",
       "4 Futrelle, Mrs. Jacques Heath (Lily May Peel)        female 35  1     0    \n",
       "5 Allen, Mr. William Henry                            male   35  0     0    \n",
       "6 Moran, Mr. James                                    male   NA  0     0    \n",
       "  Ticket           Fare    Cabin Embarked\n",
       "1 A/5 21171         7.2500       S       \n",
       "2 PC 17599         71.2833 C85   C       \n",
       "3 STON/O2. 3101282  7.9250       S       \n",
       "4 113803           53.1000 C123  S       \n",
       "5 373450            8.0500       S       \n",
       "6 330877            8.4583       Q       "
      ]
     },
     "metadata": {},
     "output_type": "display_data"
    }
   ],
   "source": [
    "head(train)"
   ]
  },
  {
   "cell_type": "code",
   "execution_count": 291,
   "metadata": {},
   "outputs": [
    {
     "name": "stdout",
     "output_type": "stream",
     "text": [
      "'data.frame':\t891 obs. of  12 variables:\n",
      " $ PassengerId: int  1 2 3 4 5 6 7 8 9 10 ...\n",
      " $ Survived   : int  0 1 1 1 0 0 0 0 1 1 ...\n",
      " $ Pclass     : int  3 1 3 1 3 3 1 3 3 2 ...\n",
      " $ Name       : chr  \"Braund, Mr. Owen Harris\" \"Cumings, Mrs. John Bradley (Florence Briggs Thayer)\" \"Heikkinen, Miss. Laina\" \"Futrelle, Mrs. Jacques Heath (Lily May Peel)\" ...\n",
      " $ Sex        : chr  \"male\" \"female\" \"female\" \"female\" ...\n",
      " $ Age        : num  22 38 26 35 35 NA 54 2 27 14 ...\n",
      " $ SibSp      : int  1 1 0 1 0 0 0 3 0 1 ...\n",
      " $ Parch      : int  0 0 0 0 0 0 0 1 2 0 ...\n",
      " $ Ticket     : chr  \"A/5 21171\" \"PC 17599\" \"STON/O2. 3101282\" \"113803\" ...\n",
      " $ Fare       : num  7.25 71.28 7.92 53.1 8.05 ...\n",
      " $ Cabin      : chr  \"\" \"C85\" \"\" \"C123\" ...\n",
      " $ Embarked   : chr  \"S\" \"C\" \"S\" \"S\" ...\n"
     ]
    }
   ],
   "source": [
    "str(train)"
   ]
  },
  {
   "cell_type": "code",
   "execution_count": 292,
   "metadata": {},
   "outputs": [
    {
     "data": {
      "text/html": [
       "<dl class=dl-horizontal>\n",
       "\t<dt>PassengerId</dt>\n",
       "\t\t<dd>0</dd>\n",
       "\t<dt>Survived</dt>\n",
       "\t\t<dd>0</dd>\n",
       "\t<dt>Pclass</dt>\n",
       "\t\t<dd>0</dd>\n",
       "\t<dt>Name</dt>\n",
       "\t\t<dd>0</dd>\n",
       "\t<dt>Sex</dt>\n",
       "\t\t<dd>0</dd>\n",
       "\t<dt>Age</dt>\n",
       "\t\t<dd>177</dd>\n",
       "\t<dt>SibSp</dt>\n",
       "\t\t<dd>0</dd>\n",
       "\t<dt>Parch</dt>\n",
       "\t\t<dd>0</dd>\n",
       "\t<dt>Ticket</dt>\n",
       "\t\t<dd>0</dd>\n",
       "\t<dt>Fare</dt>\n",
       "\t\t<dd>0</dd>\n",
       "\t<dt>Cabin</dt>\n",
       "\t\t<dd>0</dd>\n",
       "\t<dt>Embarked</dt>\n",
       "\t\t<dd>0</dd>\n",
       "</dl>\n"
      ],
      "text/latex": [
       "\\begin{description*}\n",
       "\\item[PassengerId] 0\n",
       "\\item[Survived] 0\n",
       "\\item[Pclass] 0\n",
       "\\item[Name] 0\n",
       "\\item[Sex] 0\n",
       "\\item[Age] 177\n",
       "\\item[SibSp] 0\n",
       "\\item[Parch] 0\n",
       "\\item[Ticket] 0\n",
       "\\item[Fare] 0\n",
       "\\item[Cabin] 0\n",
       "\\item[Embarked] 0\n",
       "\\end{description*}\n"
      ],
      "text/markdown": [
       "PassengerId\n",
       ":   0Survived\n",
       ":   0Pclass\n",
       ":   0Name\n",
       ":   0Sex\n",
       ":   0Age\n",
       ":   177SibSp\n",
       ":   0Parch\n",
       ":   0Ticket\n",
       ":   0Fare\n",
       ":   0Cabin\n",
       ":   0Embarked\n",
       ":   0\n",
       "\n"
      ],
      "text/plain": [
       "PassengerId    Survived      Pclass        Name         Sex         Age \n",
       "          0           0           0           0           0         177 \n",
       "      SibSp       Parch      Ticket        Fare       Cabin    Embarked \n",
       "          0           0           0           0           0           0 "
      ]
     },
     "metadata": {},
     "output_type": "display_data"
    }
   ],
   "source": [
    "colSums(is.na(train))"
   ]
  },
  {
   "cell_type": "code",
   "execution_count": 293,
   "metadata": {},
   "outputs": [
    {
     "data": {
      "text/html": [
       "<dl class=dl-horizontal>\n",
       "\t<dt>PassengerId</dt>\n",
       "\t\t<dd>0</dd>\n",
       "\t<dt>Pclass</dt>\n",
       "\t\t<dd>0</dd>\n",
       "\t<dt>Name</dt>\n",
       "\t\t<dd>0</dd>\n",
       "\t<dt>Sex</dt>\n",
       "\t\t<dd>0</dd>\n",
       "\t<dt>Age</dt>\n",
       "\t\t<dd>86</dd>\n",
       "\t<dt>SibSp</dt>\n",
       "\t\t<dd>0</dd>\n",
       "\t<dt>Parch</dt>\n",
       "\t\t<dd>0</dd>\n",
       "\t<dt>Ticket</dt>\n",
       "\t\t<dd>0</dd>\n",
       "\t<dt>Fare</dt>\n",
       "\t\t<dd>1</dd>\n",
       "\t<dt>Cabin</dt>\n",
       "\t\t<dd>0</dd>\n",
       "\t<dt>Embarked</dt>\n",
       "\t\t<dd>0</dd>\n",
       "</dl>\n"
      ],
      "text/latex": [
       "\\begin{description*}\n",
       "\\item[PassengerId] 0\n",
       "\\item[Pclass] 0\n",
       "\\item[Name] 0\n",
       "\\item[Sex] 0\n",
       "\\item[Age] 86\n",
       "\\item[SibSp] 0\n",
       "\\item[Parch] 0\n",
       "\\item[Ticket] 0\n",
       "\\item[Fare] 1\n",
       "\\item[Cabin] 0\n",
       "\\item[Embarked] 0\n",
       "\\end{description*}\n"
      ],
      "text/markdown": [
       "PassengerId\n",
       ":   0Pclass\n",
       ":   0Name\n",
       ":   0Sex\n",
       ":   0Age\n",
       ":   86SibSp\n",
       ":   0Parch\n",
       ":   0Ticket\n",
       ":   0Fare\n",
       ":   1Cabin\n",
       ":   0Embarked\n",
       ":   0\n",
       "\n"
      ],
      "text/plain": [
       "PassengerId      Pclass        Name         Sex         Age       SibSp \n",
       "          0           0           0           0          86           0 \n",
       "      Parch      Ticket        Fare       Cabin    Embarked \n",
       "          0           0           1           0           0 "
      ]
     },
     "metadata": {},
     "output_type": "display_data"
    }
   ],
   "source": [
    "colSums(is.na(test))"
   ]
  },
  {
   "cell_type": "code",
   "execution_count": 294,
   "metadata": {},
   "outputs": [
    {
     "data": {
      "text/plain": [
       "  PassengerId       Survived          Pclass          Name          \n",
       " Min.   :  1.0   Min.   :0.0000   Min.   :1.000   Length:891        \n",
       " 1st Qu.:223.5   1st Qu.:0.0000   1st Qu.:2.000   Class :character  \n",
       " Median :446.0   Median :0.0000   Median :3.000   Mode  :character  \n",
       " Mean   :446.0   Mean   :0.3838   Mean   :2.309                     \n",
       " 3rd Qu.:668.5   3rd Qu.:1.0000   3rd Qu.:3.000                     \n",
       " Max.   :891.0   Max.   :1.0000   Max.   :3.000                     \n",
       "                                                                    \n",
       "     Sex                 Age            SibSp           Parch       \n",
       " Length:891         Min.   : 0.42   Min.   :0.000   Min.   :0.0000  \n",
       " Class :character   1st Qu.:20.12   1st Qu.:0.000   1st Qu.:0.0000  \n",
       " Mode  :character   Median :28.00   Median :0.000   Median :0.0000  \n",
       "                    Mean   :29.70   Mean   :0.523   Mean   :0.3816  \n",
       "                    3rd Qu.:38.00   3rd Qu.:1.000   3rd Qu.:0.0000  \n",
       "                    Max.   :80.00   Max.   :8.000   Max.   :6.0000  \n",
       "                    NA's   :177                                     \n",
       "    Ticket               Fare           Cabin             Embarked        \n",
       " Length:891         Min.   :  0.00   Length:891         Length:891        \n",
       " Class :character   1st Qu.:  7.91   Class :character   Class :character  \n",
       " Mode  :character   Median : 14.45   Mode  :character   Mode  :character  \n",
       "                    Mean   : 32.20                                        \n",
       "                    3rd Qu.: 31.00                                        \n",
       "                    Max.   :512.33                                        \n",
       "                                                                          "
      ]
     },
     "metadata": {},
     "output_type": "display_data"
    }
   ],
   "source": [
    "summary(train)"
   ]
  },
  {
   "cell_type": "code",
   "execution_count": 295,
   "metadata": {},
   "outputs": [
    {
     "data": {
      "text/html": [
       "<dl class=dl-horizontal>\n",
       "\t<dt>PassengerId</dt>\n",
       "\t\t<dd>891</dd>\n",
       "\t<dt>Survived</dt>\n",
       "\t\t<dd>2</dd>\n",
       "\t<dt>Pclass</dt>\n",
       "\t\t<dd>3</dd>\n",
       "\t<dt>Name</dt>\n",
       "\t\t<dd>891</dd>\n",
       "\t<dt>Sex</dt>\n",
       "\t\t<dd>2</dd>\n",
       "\t<dt>Age</dt>\n",
       "\t\t<dd>89</dd>\n",
       "\t<dt>SibSp</dt>\n",
       "\t\t<dd>7</dd>\n",
       "\t<dt>Parch</dt>\n",
       "\t\t<dd>7</dd>\n",
       "\t<dt>Ticket</dt>\n",
       "\t\t<dd>681</dd>\n",
       "\t<dt>Fare</dt>\n",
       "\t\t<dd>248</dd>\n",
       "\t<dt>Cabin</dt>\n",
       "\t\t<dd>148</dd>\n",
       "\t<dt>Embarked</dt>\n",
       "\t\t<dd>4</dd>\n",
       "</dl>\n"
      ],
      "text/latex": [
       "\\begin{description*}\n",
       "\\item[PassengerId] 891\n",
       "\\item[Survived] 2\n",
       "\\item[Pclass] 3\n",
       "\\item[Name] 891\n",
       "\\item[Sex] 2\n",
       "\\item[Age] 89\n",
       "\\item[SibSp] 7\n",
       "\\item[Parch] 7\n",
       "\\item[Ticket] 681\n",
       "\\item[Fare] 248\n",
       "\\item[Cabin] 148\n",
       "\\item[Embarked] 4\n",
       "\\end{description*}\n"
      ],
      "text/markdown": [
       "PassengerId\n",
       ":   891Survived\n",
       ":   2Pclass\n",
       ":   3Name\n",
       ":   891Sex\n",
       ":   2Age\n",
       ":   89SibSp\n",
       ":   7Parch\n",
       ":   7Ticket\n",
       ":   681Fare\n",
       ":   248Cabin\n",
       ":   148Embarked\n",
       ":   4\n",
       "\n"
      ],
      "text/plain": [
       "PassengerId    Survived      Pclass        Name         Sex         Age \n",
       "        891           2           3         891           2          89 \n",
       "      SibSp       Parch      Ticket        Fare       Cabin    Embarked \n",
       "          7           7         681         248         148           4 "
      ]
     },
     "metadata": {},
     "output_type": "display_data"
    }
   ],
   "source": [
    "sapply(train, function(x) length(unique(x)))"
   ]
  },
  {
   "cell_type": "code",
   "execution_count": 296,
   "metadata": {},
   "outputs": [
    {
     "data": {
      "text/html": [
       "<table>\n",
       "<thead><tr><th scope=col>PassengerId</th><th scope=col>Survived</th><th scope=col>Pclass</th><th scope=col>Name</th><th scope=col>Sex</th><th scope=col>Age</th><th scope=col>SibSp</th><th scope=col>Parch</th><th scope=col>Ticket</th><th scope=col>Fare</th><th scope=col>Cabin</th><th scope=col>Embarked</th></tr></thead>\n",
       "<tbody>\n",
       "\t<tr><td>1                                                  </td><td>0                                                  </td><td>3                                                  </td><td>Braund, Mr. Owen Harris                            </td><td>male                                               </td><td>22                                                 </td><td>1                                                  </td><td>0                                                  </td><td>A/5 21171                                          </td><td> 7.2500                                            </td><td>                                                   </td><td>S                                                  </td></tr>\n",
       "\t<tr><td>2                                                  </td><td>1                                                  </td><td>1                                                  </td><td>Cumings, Mrs. John Bradley (Florence Briggs Thayer)</td><td>female                                             </td><td>38                                                 </td><td>1                                                  </td><td>0                                                  </td><td>PC 17599                                           </td><td>71.2833                                            </td><td>C85                                                </td><td>C                                                  </td></tr>\n",
       "\t<tr><td>3                                                  </td><td>1                                                  </td><td>3                                                  </td><td>Heikkinen, Miss. Laina                             </td><td>female                                             </td><td>26                                                 </td><td>0                                                  </td><td>0                                                  </td><td>STON/O2. 3101282                                   </td><td> 7.9250                                            </td><td>                                                   </td><td>S                                                  </td></tr>\n",
       "\t<tr><td>4                                                  </td><td>1                                                  </td><td>1                                                  </td><td>Futrelle, Mrs. Jacques Heath (Lily May Peel)       </td><td>female                                             </td><td>35                                                 </td><td>1                                                  </td><td>0                                                  </td><td>113803                                             </td><td>53.1000                                            </td><td>C123                                               </td><td>S                                                  </td></tr>\n",
       "\t<tr><td>5                                                  </td><td>0                                                  </td><td>3                                                  </td><td>Allen, Mr. William Henry                           </td><td>male                                               </td><td>35                                                 </td><td>0                                                  </td><td>0                                                  </td><td>373450                                             </td><td> 8.0500                                            </td><td>                                                   </td><td>S                                                  </td></tr>\n",
       "\t<tr><td>6                                                  </td><td>0                                                  </td><td>3                                                  </td><td>Moran, Mr. James                                   </td><td>male                                               </td><td>NA                                                 </td><td>0                                                  </td><td>0                                                  </td><td>330877                                             </td><td> 8.4583                                            </td><td>                                                   </td><td>Q                                                  </td></tr>\n",
       "</tbody>\n",
       "</table>\n"
      ],
      "text/latex": [
       "\\begin{tabular}{r|llllllllllll}\n",
       " PassengerId & Survived & Pclass & Name & Sex & Age & SibSp & Parch & Ticket & Fare & Cabin & Embarked\\\\\n",
       "\\hline\n",
       "\t 1                                                   & 0                                                   & 3                                                   & Braund, Mr. Owen Harris                             & male                                                & 22                                                  & 1                                                   & 0                                                   & A/5 21171                                           &  7.2500                                             &                                                     & S                                                  \\\\\n",
       "\t 2                                                   & 1                                                   & 1                                                   & Cumings, Mrs. John Bradley (Florence Briggs Thayer) & female                                              & 38                                                  & 1                                                   & 0                                                   & PC 17599                                            & 71.2833                                             & C85                                                 & C                                                  \\\\\n",
       "\t 3                                                   & 1                                                   & 3                                                   & Heikkinen, Miss. Laina                              & female                                              & 26                                                  & 0                                                   & 0                                                   & STON/O2. 3101282                                    &  7.9250                                             &                                                     & S                                                  \\\\\n",
       "\t 4                                                   & 1                                                   & 1                                                   & Futrelle, Mrs. Jacques Heath (Lily May Peel)        & female                                              & 35                                                  & 1                                                   & 0                                                   & 113803                                              & 53.1000                                             & C123                                                & S                                                  \\\\\n",
       "\t 5                                                   & 0                                                   & 3                                                   & Allen, Mr. William Henry                            & male                                                & 35                                                  & 0                                                   & 0                                                   & 373450                                              &  8.0500                                             &                                                     & S                                                  \\\\\n",
       "\t 6                                                   & 0                                                   & 3                                                   & Moran, Mr. James                                    & male                                                & NA                                                  & 0                                                   & 0                                                   & 330877                                              &  8.4583                                             &                                                     & Q                                                  \\\\\n",
       "\\end{tabular}\n"
      ],
      "text/markdown": [
       "\n",
       "PassengerId | Survived | Pclass | Name | Sex | Age | SibSp | Parch | Ticket | Fare | Cabin | Embarked | \n",
       "|---|---|---|---|---|---|\n",
       "| 1                                                   | 0                                                   | 3                                                   | Braund, Mr. Owen Harris                             | male                                                | 22                                                  | 1                                                   | 0                                                   | A/5 21171                                           |  7.2500                                             |                                                     | S                                                   | \n",
       "| 2                                                   | 1                                                   | 1                                                   | Cumings, Mrs. John Bradley (Florence Briggs Thayer) | female                                              | 38                                                  | 1                                                   | 0                                                   | PC 17599                                            | 71.2833                                             | C85                                                 | C                                                   | \n",
       "| 3                                                   | 1                                                   | 3                                                   | Heikkinen, Miss. Laina                              | female                                              | 26                                                  | 0                                                   | 0                                                   | STON/O2. 3101282                                    |  7.9250                                             |                                                     | S                                                   | \n",
       "| 4                                                   | 1                                                   | 1                                                   | Futrelle, Mrs. Jacques Heath (Lily May Peel)        | female                                              | 35                                                  | 1                                                   | 0                                                   | 113803                                              | 53.1000                                             | C123                                                | S                                                   | \n",
       "| 5                                                   | 0                                                   | 3                                                   | Allen, Mr. William Henry                            | male                                                | 35                                                  | 0                                                   | 0                                                   | 373450                                              |  8.0500                                             |                                                     | S                                                   | \n",
       "| 6                                                   | 0                                                   | 3                                                   | Moran, Mr. James                                    | male                                                | NA                                                  | 0                                                   | 0                                                   | 330877                                              |  8.4583                                             |                                                     | Q                                                   | \n",
       "\n",
       "\n"
      ],
      "text/plain": [
       "  PassengerId Survived Pclass\n",
       "1 1           0        3     \n",
       "2 2           1        1     \n",
       "3 3           1        3     \n",
       "4 4           1        1     \n",
       "5 5           0        3     \n",
       "6 6           0        3     \n",
       "  Name                                                Sex    Age SibSp Parch\n",
       "1 Braund, Mr. Owen Harris                             male   22  1     0    \n",
       "2 Cumings, Mrs. John Bradley (Florence Briggs Thayer) female 38  1     0    \n",
       "3 Heikkinen, Miss. Laina                              female 26  0     0    \n",
       "4 Futrelle, Mrs. Jacques Heath (Lily May Peel)        female 35  1     0    \n",
       "5 Allen, Mr. William Henry                            male   35  0     0    \n",
       "6 Moran, Mr. James                                    male   NA  0     0    \n",
       "  Ticket           Fare    Cabin Embarked\n",
       "1 A/5 21171         7.2500       S       \n",
       "2 PC 17599         71.2833 C85   C       \n",
       "3 STON/O2. 3101282  7.9250       S       \n",
       "4 113803           53.1000 C123  S       \n",
       "5 373450            8.0500       S       \n",
       "6 330877            8.4583       Q       "
      ]
     },
     "metadata": {},
     "output_type": "display_data"
    }
   ],
   "source": [
    "full=bind_rows(train,test)\n",
    "head(full)\n",
    "full=as.data.frame(full)"
   ]
  },
  {
   "cell_type": "code",
   "execution_count": 297,
   "metadata": {},
   "outputs": [
    {
     "data": {
      "text/html": [
       "<table>\n",
       "<thead><tr><th scope=col>feature</th><th scope=col>missing_pct</th></tr></thead>\n",
       "<tbody>\n",
       "\t<tr><td>PassengerId </td><td>0.0000000000</td></tr>\n",
       "\t<tr><td>Survived    </td><td>0.3193277311</td></tr>\n",
       "\t<tr><td>Pclass      </td><td>0.0000000000</td></tr>\n",
       "\t<tr><td>Name        </td><td>0.0000000000</td></tr>\n",
       "\t<tr><td>Sex         </td><td>0.0000000000</td></tr>\n",
       "\t<tr><td>Age         </td><td>0.2009167303</td></tr>\n",
       "\t<tr><td>SibSp       </td><td>0.0000000000</td></tr>\n",
       "\t<tr><td>Parch       </td><td>0.0000000000</td></tr>\n",
       "\t<tr><td>Ticket      </td><td>0.0000000000</td></tr>\n",
       "\t<tr><td>Fare        </td><td>0.0007639419</td></tr>\n",
       "\t<tr><td>Cabin       </td><td>0.0000000000</td></tr>\n",
       "\t<tr><td>Embarked    </td><td>0.0000000000</td></tr>\n",
       "</tbody>\n",
       "</table>\n"
      ],
      "text/latex": [
       "\\begin{tabular}{r|ll}\n",
       " feature & missing\\_pct\\\\\n",
       "\\hline\n",
       "\t PassengerId  & 0.0000000000\\\\\n",
       "\t Survived     & 0.3193277311\\\\\n",
       "\t Pclass       & 0.0000000000\\\\\n",
       "\t Name         & 0.0000000000\\\\\n",
       "\t Sex          & 0.0000000000\\\\\n",
       "\t Age          & 0.2009167303\\\\\n",
       "\t SibSp        & 0.0000000000\\\\\n",
       "\t Parch        & 0.0000000000\\\\\n",
       "\t Ticket       & 0.0000000000\\\\\n",
       "\t Fare         & 0.0007639419\\\\\n",
       "\t Cabin        & 0.0000000000\\\\\n",
       "\t Embarked     & 0.0000000000\\\\\n",
       "\\end{tabular}\n"
      ],
      "text/markdown": [
       "\n",
       "feature | missing_pct | \n",
       "|---|---|---|---|---|---|---|---|---|---|---|---|\n",
       "| PassengerId  | 0.0000000000 | \n",
       "| Survived     | 0.3193277311 | \n",
       "| Pclass       | 0.0000000000 | \n",
       "| Name         | 0.0000000000 | \n",
       "| Sex          | 0.0000000000 | \n",
       "| Age          | 0.2009167303 | \n",
       "| SibSp        | 0.0000000000 | \n",
       "| Parch        | 0.0000000000 | \n",
       "| Ticket       | 0.0000000000 | \n",
       "| Fare         | 0.0007639419 | \n",
       "| Cabin        | 0.0000000000 | \n",
       "| Embarked     | 0.0000000000 | \n",
       "\n",
       "\n"
      ],
      "text/plain": [
       "   feature     missing_pct \n",
       "1  PassengerId 0.0000000000\n",
       "2  Survived    0.3193277311\n",
       "3  Pclass      0.0000000000\n",
       "4  Name        0.0000000000\n",
       "5  Sex         0.0000000000\n",
       "6  Age         0.2009167303\n",
       "7  SibSp       0.0000000000\n",
       "8  Parch       0.0000000000\n",
       "9  Ticket      0.0000000000\n",
       "10 Fare        0.0007639419\n",
       "11 Cabin       0.0000000000\n",
       "12 Embarked    0.0000000000"
      ]
     },
     "metadata": {},
     "output_type": "display_data"
    }
   ],
   "source": [
    "missing_values <- full %>%      # 결측치 비율을 데이터프레임으로\n",
    "  dplyr::summarize_all(funs(sum(is.na(.))/n()))\n",
    "\n",
    "# tidyr::gather()함수를 이용하여 stack화 시킴 (설명변수들이 key로 지정한 변수에 나열되고, 결측값들이 value로 지정한 변수의 값으로)\n",
    "missing_values <- tidyr::gather(missing_values,\n",
    "                                key = \"feature\", value = \"missing_pct\")\n",
    "missing_values"
   ]
  },
  {
   "cell_type": "code",
   "execution_count": 298,
   "metadata": {},
   "outputs": [
    {
     "data": {},
     "metadata": {},
     "output_type": "display_data"
    },
    {
     "data": {
      "image/png": "[encoded data removed]",
      "text/plain": [
       "plot without title"
      ]
     },
     "metadata": {},
     "output_type": "display_data"
    }
   ],
   "source": [
    "missing_values %>% \n",
    "  ggplot(aes(x = reorder(feature, missing_pct), y = missing_pct)) + # 정렬을 위한 reorder() 축지정\n",
    "  geom_bar(stat = \"identity\", fill = \"red\") +  # bar plot 그리기 stat = 'identity' 데이터프레임 값을 그대로 이용하여 그리라는 옵션\n",
    "  ggtitle(\"Rate of missing values in each features\") +\n",
    "  theme(plot.title = element_text(face = \"bold\",    # 글씨체 \n",
    "                                  hjust = 0.5,      # Horizon(가로비율) = 0.5\n",
    "                                  size = 15, color = \"darkblue\")) +\n",
    "  labs(x = \"Feature names\", y = \"Rate\") +  # x,y축 제목 지정\n",
    "  coord_flip() # Plot의 x, y축 변환 \n",
    "\n",
    "# 결측값이 있는 변수로만 시각화\n",
    "missing_values <- missing_values[missing_values$missing_pct > 0, ]"
   ]
  },
  {
   "cell_type": "code",
   "execution_count": 299,
   "metadata": {},
   "outputs": [
    {
     "data": {},
     "metadata": {},
     "output_type": "display_data"
    },
    {
     "data": {
      "image/png": "[encoded data removed]",
      "text/plain": [
       "plot without title"
      ]
     },
     "metadata": {},
     "output_type": "display_data"
    }
   ],
   "source": [
    "missing_values <- missing_values[missing_values$missing_pct > 0, ]\n",
    "\n",
    "missing_values %>% \n",
    "  ggplot(aes(x = reorder(feature, missing_pct), y = missing_pct)) + # 정렬을 위한 reorder() 축지정\n",
    "  geom_bar(stat = \"identity\", fill = \"red\") +  # bar plot 그리기 stat = 'identity' 데이터프레임 값을 그대로 이용하여 그리라는 옵션\n",
    "  ggtitle(\"Rate of missing values in each features\") +\n",
    "  theme(plot.title = element_text(face = \"bold\",    # 글씨체 \n",
    "                                  hjust = 0.5,      # Horizon(가로비율) = 0.5\n",
    "                                  size = 15, color = \"darkblue\")) +\n",
    "  labs(x = \"Feature names\", y = \"Rate\") +  # x,y축 제목 지정\n",
    "  coord_flip() # Plot의 x, y축 변환 "
   ]
  },
  {
   "cell_type": "markdown",
   "metadata": {},
   "source": [
    "# EDA: Sex"
   ]
  },
  {
   "cell_type": "code",
   "execution_count": 300,
   "metadata": {},
   "outputs": [
    {
     "data": {
      "text/plain": [
       "\n",
       "female   male \n",
       "   466    843 "
      ]
     },
     "metadata": {},
     "output_type": "display_data"
    }
   ],
   "source": [
    "table(full$Sex)"
   ]
  },
  {
   "cell_type": "code",
   "execution_count": 301,
   "metadata": {},
   "outputs": [
    {
     "data": {
      "text/html": [
       "<table>\n",
       "<thead><tr><th scope=col>Survived</th><th scope=col>Sex</th><th scope=col>freq</th></tr></thead>\n",
       "<tbody>\n",
       "\t<tr><td> 0    </td><td>female</td><td> 81   </td></tr>\n",
       "\t<tr><td> 0    </td><td>male  </td><td>468   </td></tr>\n",
       "\t<tr><td> 1    </td><td>female</td><td>233   </td></tr>\n",
       "\t<tr><td> 1    </td><td>male  </td><td>109   </td></tr>\n",
       "\t<tr><td>NA    </td><td>female</td><td>152   </td></tr>\n",
       "\t<tr><td>NA    </td><td>male  </td><td>266   </td></tr>\n",
       "</tbody>\n",
       "</table>\n"
      ],
      "text/latex": [
       "\\begin{tabular}{r|lll}\n",
       " Survived & Sex & freq\\\\\n",
       "\\hline\n",
       "\t  0     & female &  81   \\\\\n",
       "\t  0     & male   & 468   \\\\\n",
       "\t  1     & female & 233   \\\\\n",
       "\t  1     & male   & 109   \\\\\n",
       "\t NA     & female & 152   \\\\\n",
       "\t NA     & male   & 266   \\\\\n",
       "\\end{tabular}\n"
      ],
      "text/markdown": [
       "\n",
       "Survived | Sex | freq | \n",
       "|---|---|---|---|---|---|\n",
       "|  0     | female |  81    | \n",
       "|  0     | male   | 468    | \n",
       "|  1     | female | 233    | \n",
       "|  1     | male   | 109    | \n",
       "| NA     | female | 152    | \n",
       "| NA     | male   | 266    | \n",
       "\n",
       "\n"
      ],
      "text/plain": [
       "  Survived Sex    freq\n",
       "1  0       female  81 \n",
       "2  0       male   468 \n",
       "3  1       female 233 \n",
       "4  1       male   109 \n",
       "5 NA       female 152 \n",
       "6 NA       male   266 "
      ]
     },
     "metadata": {},
     "output_type": "display_data"
    }
   ],
   "source": [
    "full %>% group_by(Survived, Sex) %>% summarise(freq = n())"
   ]
  },
  {
   "cell_type": "code",
   "execution_count": 302,
   "metadata": {},
   "outputs": [
    {
     "data": {
      "text/plain": [
       "        \n",
       "                 0         1\n",
       "  female 0.2579618 0.7420382\n",
       "  male   0.8110919 0.1889081"
      ]
     },
     "metadata": {},
     "output_type": "display_data"
    }
   ],
   "source": [
    "prop.table(table(full$Sex,full$Survived),1) #여자들이 생존할 확률이 높음"
   ]
  },
  {
   "cell_type": "code",
   "execution_count": 303,
   "metadata": {},
   "outputs": [
    {
     "data": {
      "image/png": "[encoded data removed]",
      "text/plain": [
       "plot without title"
      ]
     },
     "metadata": {},
     "output_type": "display_data"
    }
   ],
   "source": [
    "sex.p1 <- full %>% \n",
    "  dplyr::group_by(Sex) %>% \n",
    "  summarize(N = n()) %>% \n",
    "  ggplot(aes(Sex, N)) +\n",
    "  geom_col() +\n",
    "  geom_text(aes(label = N), size = 5, vjust = 1.2, color = \"#FFFFFF\") + \n",
    "  ggtitle(\"Bar plot of Sex\") +\n",
    "  labs(x = \"Sex\", y = \"Count\")\n",
    "\n",
    "# 성별에 따른 생존률 막대그래프\n",
    "sex.p2 <- full%>%\n",
    "  filter(!is.na(Survived)) %>%\n",
    "  ggplot(aes(factor(Sex), fill = factor(Survived))) +\n",
    "  geom_bar(position = \"fill\") + \n",
    "  scale_y_continuous(labels = percent) +\n",
    "  scale_fill_brewer(palette = \"Set1\") +  # palette에 어떤색 넣을지 지정\n",
    "   # 일정한 간격으로 x축과 y축 설정 : scale_x_continuous(breaks=seq())\n",
    "  # 분석가 마음대로 x축과 y축 설정 : scale_x_continuous(breaks=c())\n",
    "  ggtitle(\"Survival Rate by Sex\") + \n",
    "  labs(x = \"Sex\", y = \"Rate\")\n",
    "\n",
    "grid.arrange(sex.p1,sex.p2,ncol=2)"
   ]
  },
  {
   "cell_type": "markdown",
   "metadata": {},
   "source": [
    "# EDA: Pclass"
   ]
  },
  {
   "cell_type": "code",
   "execution_count": 304,
   "metadata": {},
   "outputs": [
    {
     "data": {
      "text/plain": [
       "\n",
       "  1   2   3 \n",
       "323 277 709 "
      ]
     },
     "metadata": {},
     "output_type": "display_data"
    }
   ],
   "source": [
    "table(full$Pclass)"
   ]
  },
  {
   "cell_type": "code",
   "execution_count": 305,
   "metadata": {},
   "outputs": [
    {
     "data": {
      "text/html": [
       "<table>\n",
       "<thead><tr><th scope=col>Survived</th><th scope=col>Pclass</th><th scope=col>freq</th></tr></thead>\n",
       "<tbody>\n",
       "\t<tr><td> 0 </td><td>1  </td><td> 80</td></tr>\n",
       "\t<tr><td> 0 </td><td>2  </td><td> 97</td></tr>\n",
       "\t<tr><td> 0 </td><td>3  </td><td>372</td></tr>\n",
       "\t<tr><td> 1 </td><td>1  </td><td>136</td></tr>\n",
       "\t<tr><td> 1 </td><td>2  </td><td> 87</td></tr>\n",
       "\t<tr><td> 1 </td><td>3  </td><td>119</td></tr>\n",
       "\t<tr><td>NA </td><td>1  </td><td>107</td></tr>\n",
       "\t<tr><td>NA </td><td>2  </td><td> 93</td></tr>\n",
       "\t<tr><td>NA </td><td>3  </td><td>218</td></tr>\n",
       "</tbody>\n",
       "</table>\n"
      ],
      "text/latex": [
       "\\begin{tabular}{r|lll}\n",
       " Survived & Pclass & freq\\\\\n",
       "\\hline\n",
       "\t  0  & 1   &  80\\\\\n",
       "\t  0  & 2   &  97\\\\\n",
       "\t  0  & 3   & 372\\\\\n",
       "\t  1  & 1   & 136\\\\\n",
       "\t  1  & 2   &  87\\\\\n",
       "\t  1  & 3   & 119\\\\\n",
       "\t NA  & 1   & 107\\\\\n",
       "\t NA  & 2   &  93\\\\\n",
       "\t NA  & 3   & 218\\\\\n",
       "\\end{tabular}\n"
      ],
      "text/markdown": [
       "\n",
       "Survived | Pclass | freq | \n",
       "|---|---|---|---|---|---|---|---|---|\n",
       "|  0  | 1   |  80 | \n",
       "|  0  | 2   |  97 | \n",
       "|  0  | 3   | 372 | \n",
       "|  1  | 1   | 136 | \n",
       "|  1  | 2   |  87 | \n",
       "|  1  | 3   | 119 | \n",
       "| NA  | 1   | 107 | \n",
       "| NA  | 2   |  93 | \n",
       "| NA  | 3   | 218 | \n",
       "\n",
       "\n"
      ],
      "text/plain": [
       "  Survived Pclass freq\n",
       "1  0       1       80 \n",
       "2  0       2       97 \n",
       "3  0       3      372 \n",
       "4  1       1      136 \n",
       "5  1       2       87 \n",
       "6  1       3      119 \n",
       "7 NA       1      107 \n",
       "8 NA       2       93 \n",
       "9 NA       3      218 "
      ]
     },
     "metadata": {},
     "output_type": "display_data"
    }
   ],
   "source": [
    "full %>% group_by(Survived, Pclass) %>% summarise(freq = n())"
   ]
  },
  {
   "cell_type": "code",
   "execution_count": 306,
   "metadata": {},
   "outputs": [
    {
     "data": {
      "text/plain": [
       "   \n",
       "            0         1\n",
       "  1 0.3703704 0.6296296\n",
       "  2 0.5271739 0.4728261\n",
       "  3 0.7576375 0.2423625"
      ]
     },
     "metadata": {},
     "output_type": "display_data"
    }
   ],
   "source": [
    "prop.table(table(full$Pclass,full$Survived),1) #사회적 지위가 높을수록 생존할 확률이 높음"
   ]
  },
  {
   "cell_type": "code",
   "execution_count": 307,
   "metadata": {},
   "outputs": [
    {
     "data": {
      "image/png": "[encoded data removed]",
      "text/plain": [
       "plot without title"
      ]
     },
     "metadata": {},
     "output_type": "display_data"
    }
   ],
   "source": [
    "pclass.p1 <- full %>% \n",
    "  dplyr::group_by(Pclass) %>% \n",
    "  summarize(N = n()) %>% \n",
    "  ggplot(aes(Pclass, N)) +\n",
    "  geom_col() +\n",
    "  geom_text(aes(label = N), size = 5, vjust = 1.2, color = \"#FFFFFF\") + \n",
    "  ggtitle(\"Bar plot of Pclass\") +\n",
    "  labs(x = \"Pclass\", y = \"Count\")\n",
    "\n",
    "# Pclass에 따른 생존률 막대그래프\n",
    "pclass.p2 <- full%>%\n",
    "  filter(!is.na(Survived)) %>%\n",
    "  ggplot(aes(factor(Pclass), fill = factor(Survived))) +\n",
    "  geom_bar(position = \"fill\") + \n",
    "  scale_fill_brewer(palette = \"Set1\") +  \n",
    "  ggtitle(\"Survival Rate by Pclass\") + \n",
    "  labs(x = \"Pclass\", y = \"Rate\")\n",
    "\n",
    "grid.arrange(pclass.p1,pclass.p2,ncol=2)"
   ]
  },
  {
   "cell_type": "markdown",
   "metadata": {},
   "source": [
    "# EDA: SibSp"
   ]
  },
  {
   "cell_type": "code",
   "execution_count": 308,
   "metadata": {},
   "outputs": [
    {
     "data": {
      "text/plain": [
       "\n",
       "  0   1   2   3   4   5   8 \n",
       "608 209  28  16  18   5   7 "
      ]
     },
     "metadata": {},
     "output_type": "display_data"
    }
   ],
   "source": [
    "table(train$SibSp)"
   ]
  },
  {
   "cell_type": "code",
   "execution_count": 309,
   "metadata": {},
   "outputs": [
    {
     "data": {
      "text/html": [
       "<table>\n",
       "<thead><tr><th scope=col>Survived</th><th scope=col>SibSp</th><th scope=col>freq</th></tr></thead>\n",
       "<tbody>\n",
       "\t<tr><td>0  </td><td>0  </td><td>398</td></tr>\n",
       "\t<tr><td>0  </td><td>1  </td><td> 97</td></tr>\n",
       "\t<tr><td>0  </td><td>2  </td><td> 15</td></tr>\n",
       "\t<tr><td>0  </td><td>3  </td><td> 12</td></tr>\n",
       "\t<tr><td>0  </td><td>4  </td><td> 15</td></tr>\n",
       "\t<tr><td>0  </td><td>5  </td><td>  5</td></tr>\n",
       "\t<tr><td>0  </td><td>8  </td><td>  7</td></tr>\n",
       "\t<tr><td>1  </td><td>0  </td><td>210</td></tr>\n",
       "\t<tr><td>1  </td><td>1  </td><td>112</td></tr>\n",
       "\t<tr><td>1  </td><td>2  </td><td> 13</td></tr>\n",
       "\t<tr><td>1  </td><td>3  </td><td>  4</td></tr>\n",
       "\t<tr><td>1  </td><td>4  </td><td>  3</td></tr>\n",
       "</tbody>\n",
       "</table>\n"
      ],
      "text/latex": [
       "\\begin{tabular}{r|lll}\n",
       " Survived & SibSp & freq\\\\\n",
       "\\hline\n",
       "\t 0   & 0   & 398\\\\\n",
       "\t 0   & 1   &  97\\\\\n",
       "\t 0   & 2   &  15\\\\\n",
       "\t 0   & 3   &  12\\\\\n",
       "\t 0   & 4   &  15\\\\\n",
       "\t 0   & 5   &   5\\\\\n",
       "\t 0   & 8   &   7\\\\\n",
       "\t 1   & 0   & 210\\\\\n",
       "\t 1   & 1   & 112\\\\\n",
       "\t 1   & 2   &  13\\\\\n",
       "\t 1   & 3   &   4\\\\\n",
       "\t 1   & 4   &   3\\\\\n",
       "\\end{tabular}\n"
      ],
      "text/markdown": [
       "\n",
       "Survived | SibSp | freq | \n",
       "|---|---|---|---|---|---|---|---|---|---|---|---|\n",
       "| 0   | 0   | 398 | \n",
       "| 0   | 1   |  97 | \n",
       "| 0   | 2   |  15 | \n",
       "| 0   | 3   |  12 | \n",
       "| 0   | 4   |  15 | \n",
       "| 0   | 5   |   5 | \n",
       "| 0   | 8   |   7 | \n",
       "| 1   | 0   | 210 | \n",
       "| 1   | 1   | 112 | \n",
       "| 1   | 2   |  13 | \n",
       "| 1   | 3   |   4 | \n",
       "| 1   | 4   |   3 | \n",
       "\n",
       "\n"
      ],
      "text/plain": [
       "   Survived SibSp freq\n",
       "1  0        0     398 \n",
       "2  0        1      97 \n",
       "3  0        2      15 \n",
       "4  0        3      12 \n",
       "5  0        4      15 \n",
       "6  0        5       5 \n",
       "7  0        8       7 \n",
       "8  1        0     210 \n",
       "9  1        1     112 \n",
       "10 1        2      13 \n",
       "11 1        3       4 \n",
       "12 1        4       3 "
      ]
     },
     "metadata": {},
     "output_type": "display_data"
    }
   ],
   "source": [
    "train %>% group_by(Survived, SibSp) %>% summarise(freq = n())"
   ]
  },
  {
   "cell_type": "code",
   "execution_count": 310,
   "metadata": {},
   "outputs": [
    {
     "data": {
      "text/plain": [
       "   \n",
       "            0         1\n",
       "  0 0.6546053 0.3453947\n",
       "  1 0.4641148 0.5358852\n",
       "  2 0.5357143 0.4642857\n",
       "  3 0.7500000 0.2500000\n",
       "  4 0.8333333 0.1666667\n",
       "  5 1.0000000 0.0000000\n",
       "  8 1.0000000 0.0000000"
      ]
     },
     "metadata": {},
     "output_type": "display_data"
    }
   ],
   "source": [
    "prop.table(table(train$SibSp,train$Survived),1) #배우자,형제자매가 많을수록 생존률이 떨어짐"
   ]
  },
  {
   "cell_type": "markdown",
   "metadata": {},
   "source": [
    "# EDA: Parch"
   ]
  },
  {
   "cell_type": "code",
   "execution_count": 311,
   "metadata": {},
   "outputs": [
    {
     "data": {
      "text/plain": [
       "\n",
       "   0    1    2    3    4    5    6    9 \n",
       "1002  170  113    8    6    6    2    2 "
      ]
     },
     "metadata": {},
     "output_type": "display_data"
    }
   ],
   "source": [
    "table(full$Parch)"
   ]
  },
  {
   "cell_type": "code",
   "execution_count": 312,
   "metadata": {},
   "outputs": [
    {
     "data": {
      "text/html": [
       "<table>\n",
       "<thead><tr><th scope=col>Survived</th><th scope=col>Parch</th><th scope=col>freq</th></tr></thead>\n",
       "<tbody>\n",
       "\t<tr><td> 0 </td><td>0  </td><td>445</td></tr>\n",
       "\t<tr><td> 0 </td><td>1  </td><td> 53</td></tr>\n",
       "\t<tr><td> 0 </td><td>2  </td><td> 40</td></tr>\n",
       "\t<tr><td> 0 </td><td>3  </td><td>  2</td></tr>\n",
       "\t<tr><td> 0 </td><td>4  </td><td>  4</td></tr>\n",
       "\t<tr><td> 0 </td><td>5  </td><td>  4</td></tr>\n",
       "\t<tr><td> 0 </td><td>6  </td><td>  1</td></tr>\n",
       "\t<tr><td> 1 </td><td>0  </td><td>233</td></tr>\n",
       "\t<tr><td> 1 </td><td>1  </td><td> 65</td></tr>\n",
       "\t<tr><td> 1 </td><td>2  </td><td> 40</td></tr>\n",
       "\t<tr><td> 1 </td><td>3  </td><td>  3</td></tr>\n",
       "\t<tr><td> 1 </td><td>5  </td><td>  1</td></tr>\n",
       "\t<tr><td>NA </td><td>0  </td><td>324</td></tr>\n",
       "\t<tr><td>NA </td><td>1  </td><td> 52</td></tr>\n",
       "\t<tr><td>NA </td><td>2  </td><td> 33</td></tr>\n",
       "\t<tr><td>NA </td><td>3  </td><td>  3</td></tr>\n",
       "\t<tr><td>NA </td><td>4  </td><td>  2</td></tr>\n",
       "\t<tr><td>NA </td><td>5  </td><td>  1</td></tr>\n",
       "\t<tr><td>NA </td><td>6  </td><td>  1</td></tr>\n",
       "\t<tr><td>NA </td><td>9  </td><td>  2</td></tr>\n",
       "</tbody>\n",
       "</table>\n"
      ],
      "text/latex": [
       "\\begin{tabular}{r|lll}\n",
       " Survived & Parch & freq\\\\\n",
       "\\hline\n",
       "\t  0  & 0   & 445\\\\\n",
       "\t  0  & 1   &  53\\\\\n",
       "\t  0  & 2   &  40\\\\\n",
       "\t  0  & 3   &   2\\\\\n",
       "\t  0  & 4   &   4\\\\\n",
       "\t  0  & 5   &   4\\\\\n",
       "\t  0  & 6   &   1\\\\\n",
       "\t  1  & 0   & 233\\\\\n",
       "\t  1  & 1   &  65\\\\\n",
       "\t  1  & 2   &  40\\\\\n",
       "\t  1  & 3   &   3\\\\\n",
       "\t  1  & 5   &   1\\\\\n",
       "\t NA  & 0   & 324\\\\\n",
       "\t NA  & 1   &  52\\\\\n",
       "\t NA  & 2   &  33\\\\\n",
       "\t NA  & 3   &   3\\\\\n",
       "\t NA  & 4   &   2\\\\\n",
       "\t NA  & 5   &   1\\\\\n",
       "\t NA  & 6   &   1\\\\\n",
       "\t NA  & 9   &   2\\\\\n",
       "\\end{tabular}\n"
      ],
      "text/markdown": [
       "\n",
       "Survived | Parch | freq | \n",
       "|---|---|---|---|---|---|---|---|---|---|---|---|---|---|---|---|---|---|---|---|\n",
       "|  0  | 0   | 445 | \n",
       "|  0  | 1   |  53 | \n",
       "|  0  | 2   |  40 | \n",
       "|  0  | 3   |   2 | \n",
       "|  0  | 4   |   4 | \n",
       "|  0  | 5   |   4 | \n",
       "|  0  | 6   |   1 | \n",
       "|  1  | 0   | 233 | \n",
       "|  1  | 1   |  65 | \n",
       "|  1  | 2   |  40 | \n",
       "|  1  | 3   |   3 | \n",
       "|  1  | 5   |   1 | \n",
       "| NA  | 0   | 324 | \n",
       "| NA  | 1   |  52 | \n",
       "| NA  | 2   |  33 | \n",
       "| NA  | 3   |   3 | \n",
       "| NA  | 4   |   2 | \n",
       "| NA  | 5   |   1 | \n",
       "| NA  | 6   |   1 | \n",
       "| NA  | 9   |   2 | \n",
       "\n",
       "\n"
      ],
      "text/plain": [
       "   Survived Parch freq\n",
       "1   0       0     445 \n",
       "2   0       1      53 \n",
       "3   0       2      40 \n",
       "4   0       3       2 \n",
       "5   0       4       4 \n",
       "6   0       5       4 \n",
       "7   0       6       1 \n",
       "8   1       0     233 \n",
       "9   1       1      65 \n",
       "10  1       2      40 \n",
       "11  1       3       3 \n",
       "12  1       5       1 \n",
       "13 NA       0     324 \n",
       "14 NA       1      52 \n",
       "15 NA       2      33 \n",
       "16 NA       3       3 \n",
       "17 NA       4       2 \n",
       "18 NA       5       1 \n",
       "19 NA       6       1 \n",
       "20 NA       9       2 "
      ]
     },
     "metadata": {},
     "output_type": "display_data"
    }
   ],
   "source": [
    "full %>% group_by(Survived, Parch,) %>% summarise(freq = n())"
   ]
  },
  {
   "cell_type": "code",
   "execution_count": 313,
   "metadata": {},
   "outputs": [
    {
     "data": {
      "text/plain": [
       "   \n",
       "            0         1\n",
       "  0 0.6563422 0.3436578\n",
       "  1 0.4491525 0.5508475\n",
       "  2 0.5000000 0.5000000\n",
       "  3 0.4000000 0.6000000\n",
       "  4 1.0000000 0.0000000\n",
       "  5 0.8000000 0.2000000\n",
       "  6 1.0000000 0.0000000\n",
       "  9                    "
      ]
     },
     "metadata": {},
     "output_type": "display_data"
    }
   ],
   "source": [
    "prop.table(table(full$Parch,full$Survived),1) #부모와 자녀를 1~3명 정도 동승했을 경우 생존률이 높음 "
   ]
  },
  {
   "cell_type": "markdown",
   "metadata": {},
   "source": [
    "# EDA: Embarked"
   ]
  },
  {
   "cell_type": "code",
   "execution_count": 314,
   "metadata": {},
   "outputs": [
    {
     "data": {
      "text/plain": [
       "\n",
       "      C   Q   S \n",
       "  2 270 123 914 "
      ]
     },
     "metadata": {},
     "output_type": "display_data"
    }
   ],
   "source": [
    "table(full$Embarked) #결측값 2개"
   ]
  },
  {
   "cell_type": "code",
   "execution_count": 315,
   "metadata": {},
   "outputs": [
    {
     "data": {
      "text/html": [
       "<table>\n",
       "<thead><tr><th scope=col>Survived</th><th scope=col>Embarked</th><th scope=col>freq</th></tr></thead>\n",
       "<tbody>\n",
       "\t<tr><td> 0 </td><td>C  </td><td> 75</td></tr>\n",
       "\t<tr><td> 0 </td><td>Q  </td><td> 47</td></tr>\n",
       "\t<tr><td> 0 </td><td>S  </td><td>427</td></tr>\n",
       "\t<tr><td> 1 </td><td>   </td><td>  2</td></tr>\n",
       "\t<tr><td> 1 </td><td>C  </td><td> 93</td></tr>\n",
       "\t<tr><td> 1 </td><td>Q  </td><td> 30</td></tr>\n",
       "\t<tr><td> 1 </td><td>S  </td><td>217</td></tr>\n",
       "\t<tr><td>NA </td><td>C  </td><td>102</td></tr>\n",
       "\t<tr><td>NA </td><td>Q  </td><td> 46</td></tr>\n",
       "\t<tr><td>NA </td><td>S  </td><td>270</td></tr>\n",
       "</tbody>\n",
       "</table>\n"
      ],
      "text/latex": [
       "\\begin{tabular}{r|lll}\n",
       " Survived & Embarked & freq\\\\\n",
       "\\hline\n",
       "\t  0  & C   &  75\\\\\n",
       "\t  0  & Q   &  47\\\\\n",
       "\t  0  & S   & 427\\\\\n",
       "\t  1  &     &   2\\\\\n",
       "\t  1  & C   &  93\\\\\n",
       "\t  1  & Q   &  30\\\\\n",
       "\t  1  & S   & 217\\\\\n",
       "\t NA  & C   & 102\\\\\n",
       "\t NA  & Q   &  46\\\\\n",
       "\t NA  & S   & 270\\\\\n",
       "\\end{tabular}\n"
      ],
      "text/markdown": [
       "\n",
       "Survived | Embarked | freq | \n",
       "|---|---|---|---|---|---|---|---|---|---|\n",
       "|  0  | C   |  75 | \n",
       "|  0  | Q   |  47 | \n",
       "|  0  | S   | 427 | \n",
       "|  1  |     |   2 | \n",
       "|  1  | C   |  93 | \n",
       "|  1  | Q   |  30 | \n",
       "|  1  | S   | 217 | \n",
       "| NA  | C   | 102 | \n",
       "| NA  | Q   |  46 | \n",
       "| NA  | S   | 270 | \n",
       "\n",
       "\n"
      ],
      "text/plain": [
       "   Survived Embarked freq\n",
       "1   0       C         75 \n",
       "2   0       Q         47 \n",
       "3   0       S        427 \n",
       "4   1                  2 \n",
       "5   1       C         93 \n",
       "6   1       Q         30 \n",
       "7   1       S        217 \n",
       "8  NA       C        102 \n",
       "9  NA       Q         46 \n",
       "10 NA       S        270 "
      ]
     },
     "metadata": {},
     "output_type": "display_data"
    }
   ],
   "source": [
    "full %>% group_by(Survived, Embarked) %>% summarise(freq = n())"
   ]
  },
  {
   "cell_type": "code",
   "execution_count": 316,
   "metadata": {},
   "outputs": [
    {
     "data": {
      "text/plain": [
       "   \n",
       "            0         1\n",
       "    0.0000000 1.0000000\n",
       "  C 0.4464286 0.5535714\n",
       "  Q 0.6103896 0.3896104\n",
       "  S 0.6630435 0.3369565"
      ]
     },
     "metadata": {},
     "output_type": "display_data"
    }
   ],
   "source": [
    "prop.table(table(full$Embarked,full$Survived),1) #유일하게 C에서 탑승한 인원들만 생존률이 더 높다"
   ]
  },
  {
   "cell_type": "markdown",
   "metadata": {},
   "source": [
    "# Feature engineering"
   ]
  },
  {
   "cell_type": "code",
   "execution_count": 317,
   "metadata": {},
   "outputs": [
    {
     "data": {
      "text/html": [
       "<table>\n",
       "<thead><tr><th scope=col>PassengerId</th><th scope=col>Survived</th><th scope=col>Pclass</th><th scope=col>Name</th><th scope=col>Sex</th><th scope=col>Age</th><th scope=col>SibSp</th><th scope=col>Parch</th><th scope=col>Ticket</th><th scope=col>Fare</th><th scope=col>Cabin</th><th scope=col>Embarked</th></tr></thead>\n",
       "<tbody>\n",
       "\t<tr><td>1                                                  </td><td>0                                                  </td><td>3                                                  </td><td>Braund, Mr. Owen Harris                            </td><td>male                                               </td><td>22                                                 </td><td>1                                                  </td><td>0                                                  </td><td>A/5 21171                                          </td><td> 7.2500                                            </td><td>                                                   </td><td>S                                                  </td></tr>\n",
       "\t<tr><td>2                                                  </td><td>1                                                  </td><td>1                                                  </td><td>Cumings, Mrs. John Bradley (Florence Briggs Thayer)</td><td>female                                             </td><td>38                                                 </td><td>1                                                  </td><td>0                                                  </td><td>PC 17599                                           </td><td>71.2833                                            </td><td>C85                                                </td><td>C                                                  </td></tr>\n",
       "\t<tr><td>3                                                  </td><td>1                                                  </td><td>3                                                  </td><td>Heikkinen, Miss. Laina                             </td><td>female                                             </td><td>26                                                 </td><td>0                                                  </td><td>0                                                  </td><td>STON/O2. 3101282                                   </td><td> 7.9250                                            </td><td>                                                   </td><td>S                                                  </td></tr>\n",
       "\t<tr><td>4                                                  </td><td>1                                                  </td><td>1                                                  </td><td>Futrelle, Mrs. Jacques Heath (Lily May Peel)       </td><td>female                                             </td><td>35                                                 </td><td>1                                                  </td><td>0                                                  </td><td>113803                                             </td><td>53.1000                                            </td><td>C123                                               </td><td>S                                                  </td></tr>\n",
       "\t<tr><td>5                                                  </td><td>0                                                  </td><td>3                                                  </td><td>Allen, Mr. William Henry                           </td><td>male                                               </td><td>35                                                 </td><td>0                                                  </td><td>0                                                  </td><td>373450                                             </td><td> 8.0500                                            </td><td>                                                   </td><td>S                                                  </td></tr>\n",
       "\t<tr><td>6                                                  </td><td>0                                                  </td><td>3                                                  </td><td>Moran, Mr. James                                   </td><td>male                                               </td><td>NA                                                 </td><td>0                                                  </td><td>0                                                  </td><td>330877                                             </td><td> 8.4583                                            </td><td>                                                   </td><td>Q                                                  </td></tr>\n",
       "</tbody>\n",
       "</table>\n"
      ],
      "text/latex": [
       "\\begin{tabular}{r|llllllllllll}\n",
       " PassengerId & Survived & Pclass & Name & Sex & Age & SibSp & Parch & Ticket & Fare & Cabin & Embarked\\\\\n",
       "\\hline\n",
       "\t 1                                                   & 0                                                   & 3                                                   & Braund, Mr. Owen Harris                             & male                                                & 22                                                  & 1                                                   & 0                                                   & A/5 21171                                           &  7.2500                                             &                                                     & S                                                  \\\\\n",
       "\t 2                                                   & 1                                                   & 1                                                   & Cumings, Mrs. John Bradley (Florence Briggs Thayer) & female                                              & 38                                                  & 1                                                   & 0                                                   & PC 17599                                            & 71.2833                                             & C85                                                 & C                                                  \\\\\n",
       "\t 3                                                   & 1                                                   & 3                                                   & Heikkinen, Miss. Laina                              & female                                              & 26                                                  & 0                                                   & 0                                                   & STON/O2. 3101282                                    &  7.9250                                             &                                                     & S                                                  \\\\\n",
       "\t 4                                                   & 1                                                   & 1                                                   & Futrelle, Mrs. Jacques Heath (Lily May Peel)        & female                                              & 35                                                  & 1                                                   & 0                                                   & 113803                                              & 53.1000                                             & C123                                                & S                                                  \\\\\n",
       "\t 5                                                   & 0                                                   & 3                                                   & Allen, Mr. William Henry                            & male                                                & 35                                                  & 0                                                   & 0                                                   & 373450                                              &  8.0500                                             &                                                     & S                                                  \\\\\n",
       "\t 6                                                   & 0                                                   & 3                                                   & Moran, Mr. James                                    & male                                                & NA                                                  & 0                                                   & 0                                                   & 330877                                              &  8.4583                                             &                                                     & Q                                                  \\\\\n",
       "\\end{tabular}\n"
      ],
      "text/markdown": [
       "\n",
       "PassengerId | Survived | Pclass | Name | Sex | Age | SibSp | Parch | Ticket | Fare | Cabin | Embarked | \n",
       "|---|---|---|---|---|---|\n",
       "| 1                                                   | 0                                                   | 3                                                   | Braund, Mr. Owen Harris                             | male                                                | 22                                                  | 1                                                   | 0                                                   | A/5 21171                                           |  7.2500                                             |                                                     | S                                                   | \n",
       "| 2                                                   | 1                                                   | 1                                                   | Cumings, Mrs. John Bradley (Florence Briggs Thayer) | female                                              | 38                                                  | 1                                                   | 0                                                   | PC 17599                                            | 71.2833                                             | C85                                                 | C                                                   | \n",
       "| 3                                                   | 1                                                   | 3                                                   | Heikkinen, Miss. Laina                              | female                                              | 26                                                  | 0                                                   | 0                                                   | STON/O2. 3101282                                    |  7.9250                                             |                                                     | S                                                   | \n",
       "| 4                                                   | 1                                                   | 1                                                   | Futrelle, Mrs. Jacques Heath (Lily May Peel)        | female                                              | 35                                                  | 1                                                   | 0                                                   | 113803                                              | 53.1000                                             | C123                                                | S                                                   | \n",
       "| 5                                                   | 0                                                   | 3                                                   | Allen, Mr. William Henry                            | male                                                | 35                                                  | 0                                                   | 0                                                   | 373450                                              |  8.0500                                             |                                                     | S                                                   | \n",
       "| 6                                                   | 0                                                   | 3                                                   | Moran, Mr. James                                    | male                                                | NA                                                  | 0                                                   | 0                                                   | 330877                                              |  8.4583                                             |                                                     | Q                                                   | \n",
       "\n",
       "\n"
      ],
      "text/plain": [
       "  PassengerId Survived Pclass\n",
       "1 1           0        3     \n",
       "2 2           1        1     \n",
       "3 3           1        3     \n",
       "4 4           1        1     \n",
       "5 5           0        3     \n",
       "6 6           0        3     \n",
       "  Name                                                Sex    Age SibSp Parch\n",
       "1 Braund, Mr. Owen Harris                             male   22  1     0    \n",
       "2 Cumings, Mrs. John Bradley (Florence Briggs Thayer) female 38  1     0    \n",
       "3 Heikkinen, Miss. Laina                              female 26  0     0    \n",
       "4 Futrelle, Mrs. Jacques Heath (Lily May Peel)        female 35  1     0    \n",
       "5 Allen, Mr. William Henry                            male   35  0     0    \n",
       "6 Moran, Mr. James                                    male   NA  0     0    \n",
       "  Ticket           Fare    Cabin Embarked\n",
       "1 A/5 21171         7.2500       S       \n",
       "2 PC 17599         71.2833 C85   C       \n",
       "3 STON/O2. 3101282  7.9250       S       \n",
       "4 113803           53.1000 C123  S       \n",
       "5 373450            8.0500       S       \n",
       "6 330877            8.4583       Q       "
      ]
     },
     "metadata": {},
     "output_type": "display_data"
    }
   ],
   "source": [
    "head(full)"
   ]
  },
  {
   "cell_type": "markdown",
   "metadata": {},
   "source": [
    "Name을 보면  , Mr.와 같은 형태로 ,(공백)Mr.과 같은 형태로 구성되있다는 것을 확인\n",
    "\n",
    "- Mr : 0  \n",
    "- Miss : 1  \n",
    "- Mrs: 2  \n",
    "- Others: 3"
   ]
  },
  {
   "cell_type": "code",
   "execution_count": 318,
   "metadata": {},
   "outputs": [],
   "source": [
    "library(stringr)\n",
    "full$Title <- gsub('(.*,)|(\\\\..*)','', full$Name) \n",
    "# ','앞에 .*(모든문자)를 지워주세요\n",
    "# \\\\.(마침표) 뒤에 .*(모든문자)를 지워주세요"
   ]
  },
  {
   "cell_type": "code",
   "execution_count": 319,
   "metadata": {},
   "outputs": [
    {
     "data": {
      "text/html": [
       "<table>\n",
       "<thead><tr><th scope=col>PassengerId</th><th scope=col>Survived</th><th scope=col>Pclass</th><th scope=col>Name</th><th scope=col>Sex</th><th scope=col>Age</th><th scope=col>SibSp</th><th scope=col>Parch</th><th scope=col>Ticket</th><th scope=col>Fare</th><th scope=col>Cabin</th><th scope=col>Embarked</th><th scope=col>Title</th></tr></thead>\n",
       "<tbody>\n",
       "\t<tr><td>1                                                  </td><td>0                                                  </td><td>3                                                  </td><td>Braund, Mr. Owen Harris                            </td><td>male                                               </td><td>22                                                 </td><td>1                                                  </td><td>0                                                  </td><td>A/5 21171                                          </td><td> 7.2500                                            </td><td>                                                   </td><td>S                                                  </td><td> Mr                                                </td></tr>\n",
       "\t<tr><td>2                                                  </td><td>1                                                  </td><td>1                                                  </td><td>Cumings, Mrs. John Bradley (Florence Briggs Thayer)</td><td>female                                             </td><td>38                                                 </td><td>1                                                  </td><td>0                                                  </td><td>PC 17599                                           </td><td>71.2833                                            </td><td>C85                                                </td><td>C                                                  </td><td> Mrs                                               </td></tr>\n",
       "\t<tr><td>3                                                  </td><td>1                                                  </td><td>3                                                  </td><td>Heikkinen, Miss. Laina                             </td><td>female                                             </td><td>26                                                 </td><td>0                                                  </td><td>0                                                  </td><td>STON/O2. 3101282                                   </td><td> 7.9250                                            </td><td>                                                   </td><td>S                                                  </td><td> Miss                                              </td></tr>\n",
       "\t<tr><td>4                                                  </td><td>1                                                  </td><td>1                                                  </td><td>Futrelle, Mrs. Jacques Heath (Lily May Peel)       </td><td>female                                             </td><td>35                                                 </td><td>1                                                  </td><td>0                                                  </td><td>113803                                             </td><td>53.1000                                            </td><td>C123                                               </td><td>S                                                  </td><td> Mrs                                               </td></tr>\n",
       "\t<tr><td>5                                                  </td><td>0                                                  </td><td>3                                                  </td><td>Allen, Mr. William Henry                           </td><td>male                                               </td><td>35                                                 </td><td>0                                                  </td><td>0                                                  </td><td>373450                                             </td><td> 8.0500                                            </td><td>                                                   </td><td>S                                                  </td><td> Mr                                                </td></tr>\n",
       "\t<tr><td>6                                                  </td><td>0                                                  </td><td>3                                                  </td><td>Moran, Mr. James                                   </td><td>male                                               </td><td>NA                                                 </td><td>0                                                  </td><td>0                                                  </td><td>330877                                             </td><td> 8.4583                                            </td><td>                                                   </td><td>Q                                                  </td><td> Mr                                                </td></tr>\n",
       "</tbody>\n",
       "</table>\n"
      ],
      "text/latex": [
       "\\begin{tabular}{r|lllllllllllll}\n",
       " PassengerId & Survived & Pclass & Name & Sex & Age & SibSp & Parch & Ticket & Fare & Cabin & Embarked & Title\\\\\n",
       "\\hline\n",
       "\t 1                                                   & 0                                                   & 3                                                   & Braund, Mr. Owen Harris                             & male                                                & 22                                                  & 1                                                   & 0                                                   & A/5 21171                                           &  7.2500                                             &                                                     & S                                                   &  Mr                                                \\\\\n",
       "\t 2                                                   & 1                                                   & 1                                                   & Cumings, Mrs. John Bradley (Florence Briggs Thayer) & female                                              & 38                                                  & 1                                                   & 0                                                   & PC 17599                                            & 71.2833                                             & C85                                                 & C                                                   &  Mrs                                               \\\\\n",
       "\t 3                                                   & 1                                                   & 3                                                   & Heikkinen, Miss. Laina                              & female                                              & 26                                                  & 0                                                   & 0                                                   & STON/O2. 3101282                                    &  7.9250                                             &                                                     & S                                                   &  Miss                                              \\\\\n",
       "\t 4                                                   & 1                                                   & 1                                                   & Futrelle, Mrs. Jacques Heath (Lily May Peel)        & female                                              & 35                                                  & 1                                                   & 0                                                   & 113803                                              & 53.1000                                             & C123                                                & S                                                   &  Mrs                                               \\\\\n",
       "\t 5                                                   & 0                                                   & 3                                                   & Allen, Mr. William Henry                            & male                                                & 35                                                  & 0                                                   & 0                                                   & 373450                                              &  8.0500                                             &                                                     & S                                                   &  Mr                                                \\\\\n",
       "\t 6                                                   & 0                                                   & 3                                                   & Moran, Mr. James                                    & male                                                & NA                                                  & 0                                                   & 0                                                   & 330877                                              &  8.4583                                             &                                                     & Q                                                   &  Mr                                                \\\\\n",
       "\\end{tabular}\n"
      ],
      "text/markdown": [
       "\n",
       "PassengerId | Survived | Pclass | Name | Sex | Age | SibSp | Parch | Ticket | Fare | Cabin | Embarked | Title | \n",
       "|---|---|---|---|---|---|\n",
       "| 1                                                   | 0                                                   | 3                                                   | Braund, Mr. Owen Harris                             | male                                                | 22                                                  | 1                                                   | 0                                                   | A/5 21171                                           |  7.2500                                             |                                                     | S                                                   |  Mr                                                 | \n",
       "| 2                                                   | 1                                                   | 1                                                   | Cumings, Mrs. John Bradley (Florence Briggs Thayer) | female                                              | 38                                                  | 1                                                   | 0                                                   | PC 17599                                            | 71.2833                                             | C85                                                 | C                                                   |  Mrs                                                | \n",
       "| 3                                                   | 1                                                   | 3                                                   | Heikkinen, Miss. Laina                              | female                                              | 26                                                  | 0                                                   | 0                                                   | STON/O2. 3101282                                    |  7.9250                                             |                                                     | S                                                   |  Miss                                               | \n",
       "| 4                                                   | 1                                                   | 1                                                   | Futrelle, Mrs. Jacques Heath (Lily May Peel)        | female                                              | 35                                                  | 1                                                   | 0                                                   | 113803                                              | 53.1000                                             | C123                                                | S                                                   |  Mrs                                                | \n",
       "| 5                                                   | 0                                                   | 3                                                   | Allen, Mr. William Henry                            | male                                                | 35                                                  | 0                                                   | 0                                                   | 373450                                              |  8.0500                                             |                                                     | S                                                   |  Mr                                                 | \n",
       "| 6                                                   | 0                                                   | 3                                                   | Moran, Mr. James                                    | male                                                | NA                                                  | 0                                                   | 0                                                   | 330877                                              |  8.4583                                             |                                                     | Q                                                   |  Mr                                                 | \n",
       "\n",
       "\n"
      ],
      "text/plain": [
       "  PassengerId Survived Pclass\n",
       "1 1           0        3     \n",
       "2 2           1        1     \n",
       "3 3           1        3     \n",
       "4 4           1        1     \n",
       "5 5           0        3     \n",
       "6 6           0        3     \n",
       "  Name                                                Sex    Age SibSp Parch\n",
       "1 Braund, Mr. Owen Harris                             male   22  1     0    \n",
       "2 Cumings, Mrs. John Bradley (Florence Briggs Thayer) female 38  1     0    \n",
       "3 Heikkinen, Miss. Laina                              female 26  0     0    \n",
       "4 Futrelle, Mrs. Jacques Heath (Lily May Peel)        female 35  1     0    \n",
       "5 Allen, Mr. William Henry                            male   35  0     0    \n",
       "6 Moran, Mr. James                                    male   NA  0     0    \n",
       "  Ticket           Fare    Cabin Embarked Title\n",
       "1 A/5 21171         7.2500       S         Mr  \n",
       "2 PC 17599         71.2833 C85   C         Mrs \n",
       "3 STON/O2. 3101282  7.9250       S         Miss\n",
       "4 113803           53.1000 C123  S         Mrs \n",
       "5 373450            8.0500       S         Mr  \n",
       "6 330877            8.4583       Q         Mr  "
      ]
     },
     "metadata": {},
     "output_type": "display_data"
    }
   ],
   "source": [
    "head(full)"
   ]
  },
  {
   "cell_type": "code",
   "execution_count": 320,
   "metadata": {},
   "outputs": [
    {
     "data": {
      "text/html": [
       "<table>\n",
       "<thead><tr><th scope=col>Title</th><th scope=col>n</th></tr></thead>\n",
       "<tbody>\n",
       "\t<tr><td> Mr          </td><td>757          </td></tr>\n",
       "\t<tr><td> Miss        </td><td>260          </td></tr>\n",
       "\t<tr><td> Mrs         </td><td>197          </td></tr>\n",
       "\t<tr><td> Master      </td><td> 61          </td></tr>\n",
       "\t<tr><td> Dr          </td><td>  8          </td></tr>\n",
       "\t<tr><td> Rev         </td><td>  8          </td></tr>\n",
       "\t<tr><td> Col         </td><td>  4          </td></tr>\n",
       "\t<tr><td> Major       </td><td>  2          </td></tr>\n",
       "\t<tr><td> Mlle        </td><td>  2          </td></tr>\n",
       "\t<tr><td> Ms          </td><td>  2          </td></tr>\n",
       "\t<tr><td> Capt        </td><td>  1          </td></tr>\n",
       "\t<tr><td> Don         </td><td>  1          </td></tr>\n",
       "\t<tr><td> Dona        </td><td>  1          </td></tr>\n",
       "\t<tr><td> Jonkheer    </td><td>  1          </td></tr>\n",
       "\t<tr><td> Lady        </td><td>  1          </td></tr>\n",
       "\t<tr><td> Mme         </td><td>  1          </td></tr>\n",
       "\t<tr><td> Sir         </td><td>  1          </td></tr>\n",
       "\t<tr><td> the Countess</td><td>  1          </td></tr>\n",
       "</tbody>\n",
       "</table>\n"
      ],
      "text/latex": [
       "\\begin{tabular}{r|ll}\n",
       " Title & n\\\\\n",
       "\\hline\n",
       "\t  Mr           & 757          \\\\\n",
       "\t  Miss         & 260          \\\\\n",
       "\t  Mrs          & 197          \\\\\n",
       "\t  Master       &  61          \\\\\n",
       "\t  Dr           &   8          \\\\\n",
       "\t  Rev          &   8          \\\\\n",
       "\t  Col          &   4          \\\\\n",
       "\t  Major        &   2          \\\\\n",
       "\t  Mlle         &   2          \\\\\n",
       "\t  Ms           &   2          \\\\\n",
       "\t  Capt         &   1          \\\\\n",
       "\t  Don          &   1          \\\\\n",
       "\t  Dona         &   1          \\\\\n",
       "\t  Jonkheer     &   1          \\\\\n",
       "\t  Lady         &   1          \\\\\n",
       "\t  Mme          &   1          \\\\\n",
       "\t  Sir          &   1          \\\\\n",
       "\t  the Countess &   1          \\\\\n",
       "\\end{tabular}\n"
      ],
      "text/markdown": [
       "\n",
       "Title | n | \n",
       "|---|---|---|---|---|---|---|---|---|---|---|---|---|---|---|---|---|---|\n",
       "|  Mr           | 757           | \n",
       "|  Miss         | 260           | \n",
       "|  Mrs          | 197           | \n",
       "|  Master       |  61           | \n",
       "|  Dr           |   8           | \n",
       "|  Rev          |   8           | \n",
       "|  Col          |   4           | \n",
       "|  Major        |   2           | \n",
       "|  Mlle         |   2           | \n",
       "|  Ms           |   2           | \n",
       "|  Capt         |   1           | \n",
       "|  Don          |   1           | \n",
       "|  Dona         |   1           | \n",
       "|  Jonkheer     |   1           | \n",
       "|  Lady         |   1           | \n",
       "|  Mme          |   1           | \n",
       "|  Sir          |   1           | \n",
       "|  the Countess |   1           | \n",
       "\n",
       "\n"
      ],
      "text/plain": [
       "   Title         n  \n",
       "1   Mr           757\n",
       "2   Miss         260\n",
       "3   Mrs          197\n",
       "4   Master        61\n",
       "5   Dr             8\n",
       "6   Rev            8\n",
       "7   Col            4\n",
       "8   Major          2\n",
       "9   Mlle           2\n",
       "10  Ms             2\n",
       "11  Capt           1\n",
       "12  Don            1\n",
       "13  Dona           1\n",
       "14  Jonkheer       1\n",
       "15  Lady           1\n",
       "16  Mme            1\n",
       "17  Sir            1\n",
       "18  the Countess   1"
      ]
     },
     "metadata": {},
     "output_type": "display_data"
    }
   ],
   "source": [
    "full%>% count(Title)  %>% arrange(desc(n))"
   ]
  },
  {
   "cell_type": "code",
   "execution_count": 321,
   "metadata": {},
   "outputs": [],
   "source": [
    "full$Title <- ifelse(full$Title == \" Mr\", 0, ifelse(full$Title == \" Miss\", 1, ifelse(full$Title == \" Mrs\", 2, 3)))\n",
    "\n",
    "full$Title <- as.factor(full$Title)"
   ]
  },
  {
   "cell_type": "code",
   "execution_count": 322,
   "metadata": {},
   "outputs": [
    {
     "data": {
      "text/html": [
       "<table>\n",
       "<thead><tr><th scope=col>PassengerId</th><th scope=col>Survived</th><th scope=col>Pclass</th><th scope=col>Name</th><th scope=col>Sex</th><th scope=col>Age</th><th scope=col>SibSp</th><th scope=col>Parch</th><th scope=col>Ticket</th><th scope=col>Fare</th><th scope=col>Cabin</th><th scope=col>Embarked</th><th scope=col>Title</th></tr></thead>\n",
       "<tbody>\n",
       "\t<tr><td>1                                                  </td><td>0                                                  </td><td>3                                                  </td><td>Braund, Mr. Owen Harris                            </td><td>male                                               </td><td>22                                                 </td><td>1                                                  </td><td>0                                                  </td><td>A/5 21171                                          </td><td> 7.2500                                            </td><td>                                                   </td><td>S                                                  </td><td>0                                                  </td></tr>\n",
       "\t<tr><td>2                                                  </td><td>1                                                  </td><td>1                                                  </td><td>Cumings, Mrs. John Bradley (Florence Briggs Thayer)</td><td>female                                             </td><td>38                                                 </td><td>1                                                  </td><td>0                                                  </td><td>PC 17599                                           </td><td>71.2833                                            </td><td>C85                                                </td><td>C                                                  </td><td>2                                                  </td></tr>\n",
       "\t<tr><td>3                                                  </td><td>1                                                  </td><td>3                                                  </td><td>Heikkinen, Miss. Laina                             </td><td>female                                             </td><td>26                                                 </td><td>0                                                  </td><td>0                                                  </td><td>STON/O2. 3101282                                   </td><td> 7.9250                                            </td><td>                                                   </td><td>S                                                  </td><td>1                                                  </td></tr>\n",
       "\t<tr><td>4                                                  </td><td>1                                                  </td><td>1                                                  </td><td>Futrelle, Mrs. Jacques Heath (Lily May Peel)       </td><td>female                                             </td><td>35                                                 </td><td>1                                                  </td><td>0                                                  </td><td>113803                                             </td><td>53.1000                                            </td><td>C123                                               </td><td>S                                                  </td><td>2                                                  </td></tr>\n",
       "\t<tr><td>5                                                  </td><td>0                                                  </td><td>3                                                  </td><td>Allen, Mr. William Henry                           </td><td>male                                               </td><td>35                                                 </td><td>0                                                  </td><td>0                                                  </td><td>373450                                             </td><td> 8.0500                                            </td><td>                                                   </td><td>S                                                  </td><td>0                                                  </td></tr>\n",
       "\t<tr><td>6                                                  </td><td>0                                                  </td><td>3                                                  </td><td>Moran, Mr. James                                   </td><td>male                                               </td><td>NA                                                 </td><td>0                                                  </td><td>0                                                  </td><td>330877                                             </td><td> 8.4583                                            </td><td>                                                   </td><td>Q                                                  </td><td>0                                                  </td></tr>\n",
       "</tbody>\n",
       "</table>\n"
      ],
      "text/latex": [
       "\\begin{tabular}{r|lllllllllllll}\n",
       " PassengerId & Survived & Pclass & Name & Sex & Age & SibSp & Parch & Ticket & Fare & Cabin & Embarked & Title\\\\\n",
       "\\hline\n",
       "\t 1                                                   & 0                                                   & 3                                                   & Braund, Mr. Owen Harris                             & male                                                & 22                                                  & 1                                                   & 0                                                   & A/5 21171                                           &  7.2500                                             &                                                     & S                                                   & 0                                                  \\\\\n",
       "\t 2                                                   & 1                                                   & 1                                                   & Cumings, Mrs. John Bradley (Florence Briggs Thayer) & female                                              & 38                                                  & 1                                                   & 0                                                   & PC 17599                                            & 71.2833                                             & C85                                                 & C                                                   & 2                                                  \\\\\n",
       "\t 3                                                   & 1                                                   & 3                                                   & Heikkinen, Miss. Laina                              & female                                              & 26                                                  & 0                                                   & 0                                                   & STON/O2. 3101282                                    &  7.9250                                             &                                                     & S                                                   & 1                                                  \\\\\n",
       "\t 4                                                   & 1                                                   & 1                                                   & Futrelle, Mrs. Jacques Heath (Lily May Peel)        & female                                              & 35                                                  & 1                                                   & 0                                                   & 113803                                              & 53.1000                                             & C123                                                & S                                                   & 2                                                  \\\\\n",
       "\t 5                                                   & 0                                                   & 3                                                   & Allen, Mr. William Henry                            & male                                                & 35                                                  & 0                                                   & 0                                                   & 373450                                              &  8.0500                                             &                                                     & S                                                   & 0                                                  \\\\\n",
       "\t 6                                                   & 0                                                   & 3                                                   & Moran, Mr. James                                    & male                                                & NA                                                  & 0                                                   & 0                                                   & 330877                                              &  8.4583                                             &                                                     & Q                                                   & 0                                                  \\\\\n",
       "\\end{tabular}\n"
      ],
      "text/markdown": [
       "\n",
       "PassengerId | Survived | Pclass | Name | Sex | Age | SibSp | Parch | Ticket | Fare | Cabin | Embarked | Title | \n",
       "|---|---|---|---|---|---|\n",
       "| 1                                                   | 0                                                   | 3                                                   | Braund, Mr. Owen Harris                             | male                                                | 22                                                  | 1                                                   | 0                                                   | A/5 21171                                           |  7.2500                                             |                                                     | S                                                   | 0                                                   | \n",
       "| 2                                                   | 1                                                   | 1                                                   | Cumings, Mrs. John Bradley (Florence Briggs Thayer) | female                                              | 38                                                  | 1                                                   | 0                                                   | PC 17599                                            | 71.2833                                             | C85                                                 | C                                                   | 2                                                   | \n",
       "| 3                                                   | 1                                                   | 3                                                   | Heikkinen, Miss. Laina                              | female                                              | 26                                                  | 0                                                   | 0                                                   | STON/O2. 3101282                                    |  7.9250                                             |                                                     | S                                                   | 1                                                   | \n",
       "| 4                                                   | 1                                                   | 1                                                   | Futrelle, Mrs. Jacques Heath (Lily May Peel)        | female                                              | 35                                                  | 1                                                   | 0                                                   | 113803                                              | 53.1000                                             | C123                                                | S                                                   | 2                                                   | \n",
       "| 5                                                   | 0                                                   | 3                                                   | Allen, Mr. William Henry                            | male                                                | 35                                                  | 0                                                   | 0                                                   | 373450                                              |  8.0500                                             |                                                     | S                                                   | 0                                                   | \n",
       "| 6                                                   | 0                                                   | 3                                                   | Moran, Mr. James                                    | male                                                | NA                                                  | 0                                                   | 0                                                   | 330877                                              |  8.4583                                             |                                                     | Q                                                   | 0                                                   | \n",
       "\n",
       "\n"
      ],
      "text/plain": [
       "  PassengerId Survived Pclass\n",
       "1 1           0        3     \n",
       "2 2           1        1     \n",
       "3 3           1        3     \n",
       "4 4           1        1     \n",
       "5 5           0        3     \n",
       "6 6           0        3     \n",
       "  Name                                                Sex    Age SibSp Parch\n",
       "1 Braund, Mr. Owen Harris                             male   22  1     0    \n",
       "2 Cumings, Mrs. John Bradley (Florence Briggs Thayer) female 38  1     0    \n",
       "3 Heikkinen, Miss. Laina                              female 26  0     0    \n",
       "4 Futrelle, Mrs. Jacques Heath (Lily May Peel)        female 35  1     0    \n",
       "5 Allen, Mr. William Henry                            male   35  0     0    \n",
       "6 Moran, Mr. James                                    male   NA  0     0    \n",
       "  Ticket           Fare    Cabin Embarked Title\n",
       "1 A/5 21171         7.2500       S        0    \n",
       "2 PC 17599         71.2833 C85   C        2    \n",
       "3 STON/O2. 3101282  7.9250       S        1    \n",
       "4 113803           53.1000 C123  S        2    \n",
       "5 373450            8.0500       S        0    \n",
       "6 330877            8.4583       Q        0    "
      ]
     },
     "metadata": {},
     "output_type": "display_data"
    }
   ],
   "source": [
    "head(full)"
   ]
  },
  {
   "cell_type": "code",
   "execution_count": 323,
   "metadata": {},
   "outputs": [],
   "source": [
    "#Name 변수 제거\n",
    "full <- full[, -4]"
   ]
  },
  {
   "cell_type": "markdown",
   "metadata": {},
   "source": [
    "성별 범주화"
   ]
  },
  {
   "cell_type": "code",
   "execution_count": 324,
   "metadata": {},
   "outputs": [],
   "source": [
    "full$Sex <- ifelse(full$Sex == \"male\" ,0 , 1)\n",
    "\n",
    "full$Sex <- as.factor(full$Sex)"
   ]
  },
  {
   "cell_type": "markdown",
   "metadata": {},
   "source": [
    "Fsize(가족의 수) 파생변수 생성 및 범주화"
   ]
  },
  {
   "cell_type": "code",
   "execution_count": 325,
   "metadata": {},
   "outputs": [],
   "source": [
    "full$Fsize <- full$SibSp + full$Parch + 1"
   ]
  },
  {
   "cell_type": "code",
   "execution_count": 326,
   "metadata": {},
   "outputs": [
    {
     "data": {
      "text/plain": [
       "\n",
       "  1   2   3   4   5   6   7   8  11 \n",
       "790 235 159  43  22  25  16   8  11 "
      ]
     },
     "metadata": {},
     "output_type": "display_data"
    }
   ],
   "source": [
    "table(full$Fsize)"
   ]
  },
  {
   "cell_type": "code",
   "execution_count": 327,
   "metadata": {},
   "outputs": [
    {
     "data": {},
     "metadata": {},
     "output_type": "display_data"
    },
    {
     "data": {
      "image/png": "[encoded data removed]",
      "text/plain": [
       "plot without title"
      ]
     },
     "metadata": {},
     "output_type": "display_data"
    }
   ],
   "source": [
    "ggplot(full[1:891,], aes(x = Fsize, fill = factor(Survived))) +\n",
    "  geom_bar(stat='count', position='dodge') +\n",
    "  scale_x_continuous(breaks=c(1:11)) +\n",
    "  labs(x = 'Family Size') \n",
    "# 가족의 수가 4명을 초과하면 생존이 매우 적어지는 것을 확인하였다."
   ]
  },
  {
   "cell_type": "code",
   "execution_count": 328,
   "metadata": {},
   "outputs": [],
   "source": [
    "full$Family[full$Fsize == 1] <- 'single'\n",
    "full$Family[full$Fsize < 5 & full$Fsize > 1] <- 'small'\n",
    "full$Family[full$Fsize > 4] <- 'large'\n",
    "\n",
    "full$Family <- as.factor(full$Family)"
   ]
  },
  {
   "cell_type": "code",
   "execution_count": 329,
   "metadata": {},
   "outputs": [
    {
     "data": {
      "text/plain": [
       "\n",
       " large single  small \n",
       "    82    790    437 "
      ]
     },
     "metadata": {},
     "output_type": "display_data"
    }
   ],
   "source": [
    "table(full$Family)"
   ]
  },
  {
   "cell_type": "code",
   "execution_count": 330,
   "metadata": {},
   "outputs": [
    {
     "data": {},
     "metadata": {},
     "output_type": "display_data"
    },
    {
     "data": {
      "image/png": "[encoded data removed]",
      "text/plain": [
       "plot without title"
      ]
     },
     "metadata": {},
     "output_type": "display_data"
    }
   ],
   "source": [
    "ggplot(full[1:891,], aes(x = Family, fill = factor(Survived))) +\n",
    "  geom_bar() +\n",
    "  labs(fill = 'Survived', x=\"Family\", y=\"freq\")"
   ]
  },
  {
   "cell_type": "code",
   "execution_count": 331,
   "metadata": {},
   "outputs": [],
   "source": [
    "#SibSp, Parch, Fsize 변수 제거\n",
    "full=  full  %>% select(-6,-7,-13)"
   ]
  },
  {
   "cell_type": "code",
   "execution_count": 332,
   "metadata": {},
   "outputs": [
    {
     "data": {
      "text/html": [
       "<table>\n",
       "<thead><tr><th scope=col>PassengerId</th><th scope=col>Survived</th><th scope=col>Pclass</th><th scope=col>Sex</th><th scope=col>Age</th><th scope=col>Ticket</th><th scope=col>Fare</th><th scope=col>Cabin</th><th scope=col>Embarked</th><th scope=col>Title</th><th scope=col>Family</th></tr></thead>\n",
       "<tbody>\n",
       "\t<tr><td>1               </td><td>0               </td><td>3               </td><td>0               </td><td>22              </td><td>A/5 21171       </td><td> 7.2500         </td><td>                </td><td>S               </td><td>0               </td><td>small           </td></tr>\n",
       "\t<tr><td>2               </td><td>1               </td><td>1               </td><td>1               </td><td>38              </td><td>PC 17599        </td><td>71.2833         </td><td>C85             </td><td>C               </td><td>2               </td><td>small           </td></tr>\n",
       "\t<tr><td>3               </td><td>1               </td><td>3               </td><td>1               </td><td>26              </td><td>STON/O2. 3101282</td><td> 7.9250         </td><td>                </td><td>S               </td><td>1               </td><td>single          </td></tr>\n",
       "\t<tr><td>4               </td><td>1               </td><td>1               </td><td>1               </td><td>35              </td><td>113803          </td><td>53.1000         </td><td>C123            </td><td>S               </td><td>2               </td><td>small           </td></tr>\n",
       "\t<tr><td>5               </td><td>0               </td><td>3               </td><td>0               </td><td>35              </td><td>373450          </td><td> 8.0500         </td><td>                </td><td>S               </td><td>0               </td><td>single          </td></tr>\n",
       "\t<tr><td>6               </td><td>0               </td><td>3               </td><td>0               </td><td>NA              </td><td>330877          </td><td> 8.4583         </td><td>                </td><td>Q               </td><td>0               </td><td>single          </td></tr>\n",
       "</tbody>\n",
       "</table>\n"
      ],
      "text/latex": [
       "\\begin{tabular}{r|lllllllllll}\n",
       " PassengerId & Survived & Pclass & Sex & Age & Ticket & Fare & Cabin & Embarked & Title & Family\\\\\n",
       "\\hline\n",
       "\t 1                & 0                & 3                & 0                & 22               & A/5 21171        &  7.2500          &                  & S                & 0                & small           \\\\\n",
       "\t 2                & 1                & 1                & 1                & 38               & PC 17599         & 71.2833          & C85              & C                & 2                & small           \\\\\n",
       "\t 3                & 1                & 3                & 1                & 26               & STON/O2. 3101282 &  7.9250          &                  & S                & 1                & single          \\\\\n",
       "\t 4                & 1                & 1                & 1                & 35               & 113803           & 53.1000          & C123             & S                & 2                & small           \\\\\n",
       "\t 5                & 0                & 3                & 0                & 35               & 373450           &  8.0500          &                  & S                & 0                & single          \\\\\n",
       "\t 6                & 0                & 3                & 0                & NA               & 330877           &  8.4583          &                  & Q                & 0                & single          \\\\\n",
       "\\end{tabular}\n"
      ],
      "text/markdown": [
       "\n",
       "PassengerId | Survived | Pclass | Sex | Age | Ticket | Fare | Cabin | Embarked | Title | Family | \n",
       "|---|---|---|---|---|---|\n",
       "| 1                | 0                | 3                | 0                | 22               | A/5 21171        |  7.2500          |                  | S                | 0                | small            | \n",
       "| 2                | 1                | 1                | 1                | 38               | PC 17599         | 71.2833          | C85              | C                | 2                | small            | \n",
       "| 3                | 1                | 3                | 1                | 26               | STON/O2. 3101282 |  7.9250          |                  | S                | 1                | single           | \n",
       "| 4                | 1                | 1                | 1                | 35               | 113803           | 53.1000          | C123             | S                | 2                | small            | \n",
       "| 5                | 0                | 3                | 0                | 35               | 373450           |  8.0500          |                  | S                | 0                | single           | \n",
       "| 6                | 0                | 3                | 0                | NA               | 330877           |  8.4583          |                  | Q                | 0                | single           | \n",
       "\n",
       "\n"
      ],
      "text/plain": [
       "  PassengerId Survived Pclass Sex Age Ticket           Fare    Cabin Embarked\n",
       "1 1           0        3      0   22  A/5 21171         7.2500       S       \n",
       "2 2           1        1      1   38  PC 17599         71.2833 C85   C       \n",
       "3 3           1        3      1   26  STON/O2. 3101282  7.9250       S       \n",
       "4 4           1        1      1   35  113803           53.1000 C123  S       \n",
       "5 5           0        3      0   35  373450            8.0500       S       \n",
       "6 6           0        3      0   NA  330877            8.4583       Q       \n",
       "  Title Family\n",
       "1 0     small \n",
       "2 2     small \n",
       "3 1     single\n",
       "4 2     small \n",
       "5 0     single\n",
       "6 0     single"
      ]
     },
     "metadata": {},
     "output_type": "display_data"
    }
   ],
   "source": [
    "head(full)"
   ]
  },
  {
   "cell_type": "markdown",
   "metadata": {},
   "source": [
    "Cabin(객실정보)에 따른 파생변수 생성"
   ]
  },
  {
   "cell_type": "code",
   "execution_count": 333,
   "metadata": {},
   "outputs": [
    {
     "data": {
      "text/html": [
       "<ol class=list-inline>\n",
       "\t<li>''</li>\n",
       "\t<li>'C85'</li>\n",
       "\t<li>''</li>\n",
       "\t<li>'C123'</li>\n",
       "\t<li>''</li>\n",
       "\t<li>''</li>\n",
       "\t<li>'E46'</li>\n",
       "\t<li>''</li>\n",
       "\t<li>''</li>\n",
       "\t<li>''</li>\n",
       "\t<li>'G6'</li>\n",
       "\t<li>'C103'</li>\n",
       "\t<li>''</li>\n",
       "\t<li>''</li>\n",
       "\t<li>''</li>\n",
       "\t<li>''</li>\n",
       "\t<li>''</li>\n",
       "\t<li>''</li>\n",
       "\t<li>''</li>\n",
       "\t<li>''</li>\n",
       "\t<li>''</li>\n",
       "\t<li>'D56'</li>\n",
       "\t<li>''</li>\n",
       "\t<li>'A6'</li>\n",
       "\t<li>''</li>\n",
       "\t<li>''</li>\n",
       "\t<li>''</li>\n",
       "\t<li>'C23 C25 C27'</li>\n",
       "</ol>\n"
      ],
      "text/latex": [
       "\\begin{enumerate*}\n",
       "\\item ''\n",
       "\\item 'C85'\n",
       "\\item ''\n",
       "\\item 'C123'\n",
       "\\item ''\n",
       "\\item ''\n",
       "\\item 'E46'\n",
       "\\item ''\n",
       "\\item ''\n",
       "\\item ''\n",
       "\\item 'G6'\n",
       "\\item 'C103'\n",
       "\\item ''\n",
       "\\item ''\n",
       "\\item ''\n",
       "\\item ''\n",
       "\\item ''\n",
       "\\item ''\n",
       "\\item ''\n",
       "\\item ''\n",
       "\\item ''\n",
       "\\item 'D56'\n",
       "\\item ''\n",
       "\\item 'A6'\n",
       "\\item ''\n",
       "\\item ''\n",
       "\\item ''\n",
       "\\item 'C23 C25 C27'\n",
       "\\end{enumerate*}\n"
      ],
      "text/markdown": [
       "1. ''\n",
       "2. 'C85'\n",
       "3. ''\n",
       "4. 'C123'\n",
       "5. ''\n",
       "6. ''\n",
       "7. 'E46'\n",
       "8. ''\n",
       "9. ''\n",
       "10. ''\n",
       "11. 'G6'\n",
       "12. 'C103'\n",
       "13. ''\n",
       "14. ''\n",
       "15. ''\n",
       "16. ''\n",
       "17. ''\n",
       "18. ''\n",
       "19. ''\n",
       "20. ''\n",
       "21. ''\n",
       "22. 'D56'\n",
       "23. ''\n",
       "24. 'A6'\n",
       "25. ''\n",
       "26. ''\n",
       "27. ''\n",
       "28. 'C23 C25 C27'\n",
       "\n",
       "\n"
      ],
      "text/plain": [
       " [1] \"\"            \"C85\"         \"\"            \"C123\"        \"\"           \n",
       " [6] \"\"            \"E46\"         \"\"            \"\"            \"\"           \n",
       "[11] \"G6\"          \"C103\"        \"\"            \"\"            \"\"           \n",
       "[16] \"\"            \"\"            \"\"            \"\"            \"\"           \n",
       "[21] \"\"            \"D56\"         \"\"            \"A6\"          \"\"           \n",
       "[26] \"\"            \"\"            \"C23 C25 C27\""
      ]
     },
     "metadata": {},
     "output_type": "display_data"
    }
   ],
   "source": [
    "full$Cabin[1:28]"
   ]
  },
  {
   "cell_type": "code",
   "execution_count": 334,
   "metadata": {},
   "outputs": [
    {
     "data": {
      "text/html": [
       "<ol class=list-inline>\n",
       "\t<li>'C'</li>\n",
       "\t<li>'8'</li>\n",
       "\t<li>'5'</li>\n",
       "</ol>\n"
      ],
      "text/latex": [
       "\\begin{enumerate*}\n",
       "\\item 'C'\n",
       "\\item '8'\n",
       "\\item '5'\n",
       "\\end{enumerate*}\n"
      ],
      "text/markdown": [
       "1. 'C'\n",
       "2. '8'\n",
       "3. '5'\n",
       "\n",
       "\n"
      ],
      "text/plain": [
       "[1] \"C\" \"8\" \"5\""
      ]
     },
     "metadata": {},
     "output_type": "display_data"
    }
   ],
   "source": [
    "strsplit(full$Cabin[2], NULL)[[1]]"
   ]
  },
  {
   "cell_type": "code",
   "execution_count": 335,
   "metadata": {},
   "outputs": [],
   "source": [
    "full$Deck<-factor(sapply(full$Cabin, function(x) strsplit(x, NULL)[[1]][1]))"
   ]
  },
  {
   "cell_type": "code",
   "execution_count": 336,
   "metadata": {},
   "outputs": [],
   "source": [
    "#Cabin 변수 제거\n",
    "full=full[,-8]"
   ]
  },
  {
   "cell_type": "code",
   "execution_count": 337,
   "metadata": {},
   "outputs": [
    {
     "data": {
      "text/html": [
       "<table>\n",
       "<thead><tr><th scope=col>PassengerId</th><th scope=col>Survived</th><th scope=col>Pclass</th><th scope=col>Sex</th><th scope=col>Age</th><th scope=col>Ticket</th><th scope=col>Fare</th><th scope=col>Embarked</th><th scope=col>Title</th><th scope=col>Family</th><th scope=col>Deck</th></tr></thead>\n",
       "<tbody>\n",
       "\t<tr><td>1               </td><td>0               </td><td>3               </td><td>0               </td><td>22              </td><td>A/5 21171       </td><td> 7.2500         </td><td>S               </td><td>0               </td><td>small           </td><td>NA              </td></tr>\n",
       "\t<tr><td>2               </td><td>1               </td><td>1               </td><td>1               </td><td>38              </td><td>PC 17599        </td><td>71.2833         </td><td>C               </td><td>2               </td><td>small           </td><td>C               </td></tr>\n",
       "\t<tr><td>3               </td><td>1               </td><td>3               </td><td>1               </td><td>26              </td><td>STON/O2. 3101282</td><td> 7.9250         </td><td>S               </td><td>1               </td><td>single          </td><td>NA              </td></tr>\n",
       "\t<tr><td>4               </td><td>1               </td><td>1               </td><td>1               </td><td>35              </td><td>113803          </td><td>53.1000         </td><td>S               </td><td>2               </td><td>small           </td><td>C               </td></tr>\n",
       "\t<tr><td>5               </td><td>0               </td><td>3               </td><td>0               </td><td>35              </td><td>373450          </td><td> 8.0500         </td><td>S               </td><td>0               </td><td>single          </td><td>NA              </td></tr>\n",
       "\t<tr><td>6               </td><td>0               </td><td>3               </td><td>0               </td><td>NA              </td><td>330877          </td><td> 8.4583         </td><td>Q               </td><td>0               </td><td>single          </td><td>NA              </td></tr>\n",
       "</tbody>\n",
       "</table>\n"
      ],
      "text/latex": [
       "\\begin{tabular}{r|lllllllllll}\n",
       " PassengerId & Survived & Pclass & Sex & Age & Ticket & Fare & Embarked & Title & Family & Deck\\\\\n",
       "\\hline\n",
       "\t 1                & 0                & 3                & 0                & 22               & A/5 21171        &  7.2500          & S                & 0                & small            & NA              \\\\\n",
       "\t 2                & 1                & 1                & 1                & 38               & PC 17599         & 71.2833          & C                & 2                & small            & C               \\\\\n",
       "\t 3                & 1                & 3                & 1                & 26               & STON/O2. 3101282 &  7.9250          & S                & 1                & single           & NA              \\\\\n",
       "\t 4                & 1                & 1                & 1                & 35               & 113803           & 53.1000          & S                & 2                & small            & C               \\\\\n",
       "\t 5                & 0                & 3                & 0                & 35               & 373450           &  8.0500          & S                & 0                & single           & NA              \\\\\n",
       "\t 6                & 0                & 3                & 0                & NA               & 330877           &  8.4583          & Q                & 0                & single           & NA              \\\\\n",
       "\\end{tabular}\n"
      ],
      "text/markdown": [
       "\n",
       "PassengerId | Survived | Pclass | Sex | Age | Ticket | Fare | Embarked | Title | Family | Deck | \n",
       "|---|---|---|---|---|---|\n",
       "| 1                | 0                | 3                | 0                | 22               | A/5 21171        |  7.2500          | S                | 0                | small            | NA               | \n",
       "| 2                | 1                | 1                | 1                | 38               | PC 17599         | 71.2833          | C                | 2                | small            | C                | \n",
       "| 3                | 1                | 3                | 1                | 26               | STON/O2. 3101282 |  7.9250          | S                | 1                | single           | NA               | \n",
       "| 4                | 1                | 1                | 1                | 35               | 113803           | 53.1000          | S                | 2                | small            | C                | \n",
       "| 5                | 0                | 3                | 0                | 35               | 373450           |  8.0500          | S                | 0                | single           | NA               | \n",
       "| 6                | 0                | 3                | 0                | NA               | 330877           |  8.4583          | Q                | 0                | single           | NA               | \n",
       "\n",
       "\n"
      ],
      "text/plain": [
       "  PassengerId Survived Pclass Sex Age Ticket           Fare    Embarked Title\n",
       "1 1           0        3      0   22  A/5 21171         7.2500 S        0    \n",
       "2 2           1        1      1   38  PC 17599         71.2833 C        2    \n",
       "3 3           1        3      1   26  STON/O2. 3101282  7.9250 S        1    \n",
       "4 4           1        1      1   35  113803           53.1000 S        2    \n",
       "5 5           0        3      0   35  373450            8.0500 S        0    \n",
       "6 6           0        3      0   NA  330877            8.4583 Q        0    \n",
       "  Family Deck\n",
       "1 small  NA  \n",
       "2 small  C   \n",
       "3 single NA  \n",
       "4 small  C   \n",
       "5 single NA  \n",
       "6 single NA  "
      ]
     },
     "metadata": {},
     "output_type": "display_data"
    }
   ],
   "source": [
    "head(full)"
   ]
  },
  {
   "cell_type": "code",
   "execution_count": 338,
   "metadata": {},
   "outputs": [
    {
     "name": "stdout",
     "output_type": "stream",
     "text": [
      "Observations: 1,309\n",
      "Variables: 11\n",
      "$ PassengerId <int> 1, 2, 3, 4, 5, 6, 7, 8, 9, 10, 11, 12, 13, 14, 15, 16, ...\n",
      "$ Survived    <int> 0, 1, 1, 1, 0, 0, 0, 0, 1, 1, 1, 1, 0, 0, 0, 1, 0, 1, 0...\n",
      "$ Pclass      <int> 3, 1, 3, 1, 3, 3, 1, 3, 3, 2, 3, 1, 3, 3, 3, 2, 3, 2, 3...\n",
      "$ Sex         <fct> 0, 1, 1, 1, 0, 0, 0, 0, 1, 1, 1, 1, 0, 0, 1, 1, 0, 0, 1...\n",
      "$ Age         <dbl> 22, 38, 26, 35, 35, NA, 54, 2, 27, 14, 4, 58, 20, 39, 1...\n",
      "$ Ticket      <chr> \"A/5 21171\", \"PC 17599\", \"STON/O2. 3101282\", \"113803\", ...\n",
      "$ Fare        <dbl> 7.2500, 71.2833, 7.9250, 53.1000, 8.0500, 8.4583, 51.86...\n",
      "$ Embarked    <chr> \"S\", \"C\", \"S\", \"S\", \"S\", \"Q\", \"S\", \"S\", \"S\", \"C\", \"S\", ...\n",
      "$ Title       <fct> 0, 2, 1, 2, 0, 0, 0, 3, 2, 2, 1, 1, 0, 0, 1, 2, 3, 0, 2...\n",
      "$ Family      <fct> small, small, single, small, single, single, single, la...\n",
      "$ Deck        <fct> NA, C, NA, C, NA, NA, E, NA, NA, NA, G, C, NA, NA, NA, ...\n"
     ]
    }
   ],
   "source": [
    "glimpse(full)"
   ]
  },
  {
   "cell_type": "code",
   "execution_count": 339,
   "metadata": {},
   "outputs": [
    {
     "data": {
      "text/html": [
       "<ol class=list-inline>\n",
       "\t<li>'A'</li>\n",
       "\t<li>'B'</li>\n",
       "\t<li>'C'</li>\n",
       "\t<li>'D'</li>\n",
       "\t<li>'E'</li>\n",
       "\t<li>'F'</li>\n",
       "\t<li>'G'</li>\n",
       "\t<li>'T'</li>\n",
       "</ol>\n"
      ],
      "text/latex": [
       "\\begin{enumerate*}\n",
       "\\item 'A'\n",
       "\\item 'B'\n",
       "\\item 'C'\n",
       "\\item 'D'\n",
       "\\item 'E'\n",
       "\\item 'F'\n",
       "\\item 'G'\n",
       "\\item 'T'\n",
       "\\end{enumerate*}\n"
      ],
      "text/markdown": [
       "1. 'A'\n",
       "2. 'B'\n",
       "3. 'C'\n",
       "4. 'D'\n",
       "5. 'E'\n",
       "6. 'F'\n",
       "7. 'G'\n",
       "8. 'T'\n",
       "\n",
       "\n"
      ],
      "text/plain": [
       "[1] \"A\" \"B\" \"C\" \"D\" \"E\" \"F\" \"G\" \"T\""
      ]
     },
     "metadata": {},
     "output_type": "display_data"
    }
   ],
   "source": [
    "levels(full$Deck)"
   ]
  },
  {
   "cell_type": "code",
   "execution_count": 340,
   "metadata": {},
   "outputs": [
    {
     "name": "stderr",
     "output_type": "stream",
     "text": [
      "Warning message in `[<-.factor`(`*tmp*`, is.na(full$Deck), value = \"U\"):\n",
      "\"invalid factor level, NA generated\""
     ]
    },
    {
     "data": {},
     "metadata": {},
     "output_type": "display_data"
    },
    {
     "data": {
      "image/png": "[encoded data removed]",
      "text/plain": [
       "plot without title"
      ]
     },
     "metadata": {},
     "output_type": "display_data"
    }
   ],
   "source": [
    "full$Deck[is.na(full$Deck)] <- \"U\"\n",
    "\n",
    "cabin=full %>%filter(!is.na(full$Survived)& full$Deck!='U')\n",
    "\n",
    "ggplot(cabin,aes(x=Deck, fill=factor(Survived), na.rm=TRUE)) +\n",
    "        geom_bar(stat='count') +\n",
    "        facet_grid(.~Pclass) +\n",
    "        labs(title=\"Survivor split by Pclass and Deck\")"
   ]
  },
  {
   "cell_type": "code",
   "execution_count": 341,
   "metadata": {},
   "outputs": [
    {
     "data": {
      "text/plain": [
       "   \n",
       "            A         B         C         D         E         F         G\n",
       "  0  53.33333  25.53191  40.67797  24.24242  25.00000  38.46154  50.00000\n",
       "  1  46.66667  74.46809  59.32203  75.75758  75.00000  61.53846  50.00000\n",
       "   \n",
       "            T\n",
       "  0 100.00000\n",
       "  1   0.00000"
      ]
     },
     "metadata": {},
     "output_type": "display_data"
    }
   ],
   "source": [
    "prop.table(table(full$Survived[(!is.na(full$Survived)&full$Deck!='U')], full$Deck[(!is.na(full$Survived)&full$Deck!='U')]),2)*100"
   ]
  },
  {
   "cell_type": "markdown",
   "metadata": {},
   "source": [
    "Ticket 파생변수 생성 및 범주화"
   ]
  },
  {
   "cell_type": "code",
   "execution_count": 342,
   "metadata": {},
   "outputs": [
    {
     "data": {
      "text/html": [
       "929"
      ],
      "text/latex": [
       "929"
      ],
      "text/markdown": [
       "929"
      ],
      "text/plain": [
       "[1] 929"
      ]
     },
     "metadata": {},
     "output_type": "display_data"
    }
   ],
   "source": [
    "length(unique(full$Ticket))"
   ]
  },
  {
   "cell_type": "code",
   "execution_count": 343,
   "metadata": {},
   "outputs": [
    {
     "data": {
      "text/html": [
       "<ol class=list-inline>\n",
       "\t<li>'A/5 21171'</li>\n",
       "\t<li>'PC 17599'</li>\n",
       "\t<li>'STON/O2. 3101282'</li>\n",
       "\t<li>'113803'</li>\n",
       "\t<li>'373450'</li>\n",
       "\t<li>'330877'</li>\n",
       "</ol>\n"
      ],
      "text/latex": [
       "\\begin{enumerate*}\n",
       "\\item 'A/5 21171'\n",
       "\\item 'PC 17599'\n",
       "\\item 'STON/O2. 3101282'\n",
       "\\item '113803'\n",
       "\\item '373450'\n",
       "\\item '330877'\n",
       "\\end{enumerate*}\n"
      ],
      "text/markdown": [
       "1. 'A/5 21171'\n",
       "2. 'PC 17599'\n",
       "3. 'STON/O2. 3101282'\n",
       "4. '113803'\n",
       "5. '373450'\n",
       "6. '330877'\n",
       "\n",
       "\n"
      ],
      "text/plain": [
       "[1] \"A/5 21171\"        \"PC 17599\"         \"STON/O2. 3101282\" \"113803\"          \n",
       "[5] \"373450\"           \"330877\"          "
      ]
     },
     "metadata": {},
     "output_type": "display_data"
    }
   ],
   "source": [
    "head(full$Ticket)"
   ]
  },
  {
   "cell_type": "code",
   "execution_count": 344,
   "metadata": {},
   "outputs": [
    {
     "data": {
      "text/html": [
       "<table>\n",
       "<thead><tr><th scope=col>PassengerId</th><th scope=col>Survived</th><th scope=col>Pclass</th><th scope=col>Sex</th><th scope=col>Age</th><th scope=col>Ticket</th><th scope=col>Fare</th><th scope=col>Embarked</th><th scope=col>Title</th><th scope=col>Family</th><th scope=col>Deck</th></tr></thead>\n",
       "<tbody>\n",
       "\t<tr><td> 258   </td><td> 1     </td><td>1      </td><td>1      </td><td>30     </td><td>110152 </td><td>86.5000</td><td>S      </td><td>1      </td><td>single </td><td>B      </td></tr>\n",
       "\t<tr><td> 505   </td><td> 1     </td><td>1      </td><td>1      </td><td>16     </td><td>110152 </td><td>86.5000</td><td>S      </td><td>1      </td><td>single </td><td>B      </td></tr>\n",
       "\t<tr><td> 760   </td><td> 1     </td><td>1      </td><td>1      </td><td>33     </td><td>110152 </td><td>86.5000</td><td>S      </td><td>3      </td><td>single </td><td>B      </td></tr>\n",
       "\t<tr><td> 263   </td><td> 0     </td><td>1      </td><td>0      </td><td>52     </td><td>110413 </td><td>79.6500</td><td>S      </td><td>0      </td><td>small  </td><td>E      </td></tr>\n",
       "\t<tr><td> 559   </td><td> 1     </td><td>1      </td><td>1      </td><td>39     </td><td>110413 </td><td>79.6500</td><td>S      </td><td>2      </td><td>small  </td><td>E      </td></tr>\n",
       "\t<tr><td> 586   </td><td> 1     </td><td>1      </td><td>1      </td><td>18     </td><td>110413 </td><td>79.6500</td><td>S      </td><td>1      </td><td>small  </td><td>E      </td></tr>\n",
       "\t<tr><td> 111   </td><td> 0     </td><td>1      </td><td>0      </td><td>47     </td><td>110465 </td><td>52.0000</td><td>S      </td><td>0      </td><td>single </td><td>C      </td></tr>\n",
       "\t<tr><td> 476   </td><td> 0     </td><td>1      </td><td>0      </td><td>NA     </td><td>110465 </td><td>52.0000</td><td>S      </td><td>0      </td><td>single </td><td>A      </td></tr>\n",
       "\t<tr><td>1227   </td><td>NA     </td><td>1      </td><td>0      </td><td>30     </td><td>110469 </td><td>26.0000</td><td>S      </td><td>0      </td><td>single </td><td>C      </td></tr>\n",
       "\t<tr><td>1050   </td><td>NA     </td><td>1      </td><td>0      </td><td>42     </td><td>110489 </td><td>26.5500</td><td>S      </td><td>0      </td><td>single </td><td>D      </td></tr>\n",
       "\t<tr><td> 431   </td><td> 1     </td><td>1      </td><td>0      </td><td>28     </td><td>110564 </td><td>26.5500</td><td>S      </td><td>0      </td><td>single </td><td>C      </td></tr>\n",
       "\t<tr><td> 367   </td><td> 1     </td><td>1      </td><td>1      </td><td>60     </td><td>110813 </td><td>75.2500</td><td>C      </td><td>2      </td><td>small  </td><td>D      </td></tr>\n",
       "\t<tr><td>1128   </td><td>NA     </td><td>1      </td><td>0      </td><td>64     </td><td>110813 </td><td>75.2500</td><td>C      </td><td>0      </td><td>small  </td><td>D      </td></tr>\n",
       "\t<tr><td>1083   </td><td>NA     </td><td>1      </td><td>0      </td><td>NA     </td><td>111163 </td><td>26.0000</td><td>S      </td><td>0      </td><td>single </td><td>NA     </td></tr>\n",
       "\t<tr><td> 171   </td><td> 0     </td><td>1      </td><td>0      </td><td>61     </td><td>111240 </td><td>33.5000</td><td>S      </td><td>0      </td><td>single </td><td>B      </td></tr>\n",
       "\t<tr><td> 463   </td><td> 0     </td><td>1      </td><td>0      </td><td>47     </td><td>111320 </td><td>38.5000</td><td>S      </td><td>0      </td><td>single </td><td>E      </td></tr>\n",
       "\t<tr><td> 330   </td><td> 1     </td><td>1      </td><td>1      </td><td>16     </td><td>111361 </td><td>57.9792</td><td>C      </td><td>1      </td><td>small  </td><td>B      </td></tr>\n",
       "\t<tr><td> 524   </td><td> 1     </td><td>1      </td><td>1      </td><td>44     </td><td>111361 </td><td>57.9792</td><td>C      </td><td>2      </td><td>small  </td><td>B      </td></tr>\n",
       "\t<tr><td> 890   </td><td> 1     </td><td>1      </td><td>0      </td><td>26     </td><td>111369 </td><td>30.0000</td><td>C      </td><td>0      </td><td>single </td><td>C      </td></tr>\n",
       "\t<tr><td> 605   </td><td> 1     </td><td>1      </td><td>0      </td><td>35     </td><td>111426 </td><td>26.5500</td><td>C      </td><td>0      </td><td>single </td><td>NA     </td></tr>\n",
       "\t<tr><td> 508   </td><td> 1     </td><td>1      </td><td>0      </td><td>NA     </td><td>111427 </td><td>26.5500</td><td>S      </td><td>0      </td><td>single </td><td>NA     </td></tr>\n",
       "\t<tr><td> 188   </td><td> 1     </td><td>1      </td><td>0      </td><td>45     </td><td>111428 </td><td>26.5500</td><td>S      </td><td>0      </td><td>single </td><td>NA     </td></tr>\n",
       "\t<tr><td> 807   </td><td> 0     </td><td>1      </td><td>0      </td><td>39     </td><td>112050 </td><td> 0.0000</td><td>S      </td><td>0      </td><td>single </td><td>A      </td></tr>\n",
       "\t<tr><td>1158   </td><td>NA     </td><td>1      </td><td>0      </td><td>NA     </td><td>112051 </td><td> 0.0000</td><td>S      </td><td>0      </td><td>single </td><td>NA     </td></tr>\n",
       "\t<tr><td> 634   </td><td> 0     </td><td>1      </td><td>0      </td><td>NA     </td><td>112052 </td><td> 0.0000</td><td>S      </td><td>0      </td><td>single </td><td>NA     </td></tr>\n",
       "\t<tr><td> 888   </td><td> 1     </td><td>1      </td><td>1      </td><td>19     </td><td>112053 </td><td>30.0000</td><td>S      </td><td>1      </td><td>single </td><td>B      </td></tr>\n",
       "\t<tr><td> 816   </td><td> 0     </td><td>1      </td><td>0      </td><td>NA     </td><td>112058 </td><td> 0.0000</td><td>S      </td><td>0      </td><td>single </td><td>B      </td></tr>\n",
       "\t<tr><td>1264   </td><td>NA     </td><td>1      </td><td>0      </td><td>49     </td><td>112058 </td><td> 0.0000</td><td>S      </td><td>0      </td><td>single </td><td>B      </td></tr>\n",
       "\t<tr><td> 264   </td><td> 0     </td><td>1      </td><td>0      </td><td>40     </td><td>112059 </td><td> 0.0000</td><td>S      </td><td>0      </td><td>single </td><td>B      </td></tr>\n",
       "\t<tr><td> 210   </td><td> 1     </td><td>1      </td><td>0      </td><td>40     </td><td>112277 </td><td>31.0000</td><td>C      </td><td>0      </td><td>single </td><td>A      </td></tr>\n",
       "\t<tr><td>...</td><td>...</td><td>...</td><td>...</td><td>...</td><td>...</td><td>...</td><td>...</td><td>...</td><td>...</td><td>...</td></tr>\n",
       "\t<tr><td> 383             </td><td> 0               </td><td>3                </td><td>0                </td><td>32               </td><td>STON/O 2. 3101293</td><td> 7.925           </td><td>S                </td><td>0                </td><td>single           </td><td>NA               </td></tr>\n",
       "\t<tr><td> 116             </td><td> 0               </td><td>3                </td><td>0                </td><td>21               </td><td>STON/O 2. 3101294</td><td> 7.925           </td><td>S                </td><td>0                </td><td>single           </td><td>NA               </td></tr>\n",
       "\t<tr><td> 910             </td><td>NA               </td><td>3                </td><td>1                </td><td>27               </td><td>STON/O2. 3101270 </td><td> 7.925           </td><td>S                </td><td>1                </td><td>small            </td><td>NA               </td></tr>\n",
       "\t<tr><td> 730             </td><td> 0               </td><td>3                </td><td>1                </td><td>25               </td><td>STON/O2. 3101271 </td><td> 7.925           </td><td>S                </td><td>1                </td><td>small            </td><td>NA               </td></tr>\n",
       "\t<tr><td> 143             </td><td> 1               </td><td>3                </td><td>1                </td><td>24               </td><td>STON/O2. 3101279 </td><td>15.850           </td><td>S                </td><td>2                </td><td>small            </td><td>NA               </td></tr>\n",
       "\t<tr><td> 404             </td><td> 0               </td><td>3                </td><td>0                </td><td>28               </td><td>STON/O2. 3101279 </td><td>15.850           </td><td>S                </td><td>0                </td><td>small            </td><td>NA               </td></tr>\n",
       "\t<tr><td>   3             </td><td> 1               </td><td>3                </td><td>1                </td><td>26               </td><td>STON/O2. 3101282 </td><td> 7.925           </td><td>S                </td><td>1                </td><td>single           </td><td>NA               </td></tr>\n",
       "\t<tr><td> 217             </td><td> 1               </td><td>3                </td><td>1                </td><td>27               </td><td>STON/O2. 3101283 </td><td> 7.925           </td><td>S                </td><td>1                </td><td>single           </td><td>NA               </td></tr>\n",
       "\t<tr><td> 817             </td><td> 0               </td><td>3                </td><td>1                </td><td>23               </td><td>STON/O2. 3101290 </td><td> 7.925           </td><td>S                </td><td>1                </td><td>single           </td><td>NA               </td></tr>\n",
       "\t<tr><td>1022             </td><td>NA               </td><td>3                </td><td>0                </td><td>32               </td><td>STON/OQ. 369943  </td><td> 8.050           </td><td>S                </td><td>0                </td><td>single           </td><td>NA               </td></tr>\n",
       "\t<tr><td> 227             </td><td> 1               </td><td>2                </td><td>0                </td><td>19               </td><td>SW/PP 751        </td><td>10.500           </td><td>S                </td><td>0                </td><td>single           </td><td>NA               </td></tr>\n",
       "\t<tr><td> 527             </td><td> 1               </td><td>2                </td><td>1                </td><td>50               </td><td>W./C. 14258      </td><td>10.500           </td><td>S                </td><td>1                </td><td>single           </td><td>NA               </td></tr>\n",
       "\t<tr><td>1171             </td><td>NA               </td><td>2                </td><td>0                </td><td>22               </td><td>W./C. 14260      </td><td>10.500           </td><td>S                </td><td>0                </td><td>single           </td><td>NA               </td></tr>\n",
       "\t<tr><td> 243             </td><td> 0               </td><td>2                </td><td>0                </td><td>29               </td><td>W./C. 14263      </td><td>10.500           </td><td>S                </td><td>0                </td><td>single           </td><td>NA               </td></tr>\n",
       "\t<tr><td>1114             </td><td>NA               </td><td>2                </td><td>1                </td><td>22               </td><td>W./C. 14266      </td><td>10.500           </td><td>S                </td><td>2                </td><td>single           </td><td>F                </td></tr>\n",
       "\t<tr><td> 784             </td><td> 0               </td><td>3                </td><td>0                </td><td>NA               </td><td>W./C. 6607       </td><td>23.450           </td><td>S                </td><td>0                </td><td>small            </td><td>NA               </td></tr>\n",
       "\t<tr><td> 889             </td><td> 0               </td><td>3                </td><td>1                </td><td>NA               </td><td>W./C. 6607       </td><td>23.450           </td><td>S                </td><td>1                </td><td>small            </td><td>NA               </td></tr>\n",
       "\t<tr><td> 925             </td><td>NA               </td><td>3                </td><td>1                </td><td>NA               </td><td>W./C. 6607       </td><td>23.450           </td><td>S                </td><td>2                </td><td>small            </td><td>NA               </td></tr>\n",
       "\t<tr><td>1136             </td><td>NA               </td><td>3                </td><td>0                </td><td>NA               </td><td>W./C. 6607       </td><td>23.450           </td><td>S                </td><td>3                </td><td>small            </td><td>NA               </td></tr>\n",
       "\t<tr><td>  87             </td><td> 0               </td><td>3                </td><td>0                </td><td>16               </td><td>W./C. 6608       </td><td>34.375           </td><td>S                </td><td>0                </td><td>large            </td><td>NA               </td></tr>\n",
       "\t<tr><td> 148             </td><td> 0               </td><td>3                </td><td>1                </td><td> 9               </td><td>W./C. 6608       </td><td>34.375           </td><td>S                </td><td>1                </td><td>large            </td><td>NA               </td></tr>\n",
       "\t<tr><td> 437             </td><td> 0               </td><td>3                </td><td>1                </td><td>21               </td><td>W./C. 6608       </td><td>34.375           </td><td>S                </td><td>1                </td><td>large            </td><td>NA               </td></tr>\n",
       "\t<tr><td> 737             </td><td> 0               </td><td>3                </td><td>1                </td><td>48               </td><td>W./C. 6608       </td><td>34.375           </td><td>S                </td><td>2                </td><td>large            </td><td>NA               </td></tr>\n",
       "\t<tr><td>1059             </td><td>NA               </td><td>3                </td><td>0                </td><td>18               </td><td>W./C. 6608       </td><td>34.375           </td><td>S                </td><td>0                </td><td>large            </td><td>NA               </td></tr>\n",
       "\t<tr><td> 236             </td><td> 0               </td><td>3                </td><td>1                </td><td>NA               </td><td>W./C. 6609       </td><td> 7.550           </td><td>S                </td><td>1                </td><td>single           </td><td>NA               </td></tr>\n",
       "\t<tr><td>  93             </td><td> 0               </td><td>1                </td><td>0                </td><td>46               </td><td>W.E.P. 5734      </td><td>61.175           </td><td>S                </td><td>0                </td><td>small            </td><td>E                </td></tr>\n",
       "\t<tr><td> 906             </td><td>NA               </td><td>1                </td><td>1                </td><td>47               </td><td>W.E.P. 5734      </td><td>61.175           </td><td>S                </td><td>2                </td><td>small            </td><td>E                </td></tr>\n",
       "\t<tr><td> 220             </td><td> 0               </td><td>2                </td><td>0                </td><td>30               </td><td>W/C 14208        </td><td>10.500           </td><td>S                </td><td>0                </td><td>single           </td><td>NA               </td></tr>\n",
       "\t<tr><td> 541             </td><td> 1               </td><td>1                </td><td>1                </td><td>36               </td><td>WE/P 5735        </td><td>71.000           </td><td>S                </td><td>1                </td><td>small            </td><td>B                </td></tr>\n",
       "\t<tr><td> 746             </td><td> 0               </td><td>1                </td><td>0                </td><td>70               </td><td>WE/P 5735        </td><td>71.000           </td><td>S                </td><td>3                </td><td>small            </td><td>B                </td></tr>\n",
       "</tbody>\n",
       "</table>\n"
      ],
      "text/latex": [
       "\\begin{tabular}{r|lllllllllll}\n",
       " PassengerId & Survived & Pclass & Sex & Age & Ticket & Fare & Embarked & Title & Family & Deck\\\\\n",
       "\\hline\n",
       "\t  258    &  1      & 1       & 1       & 30      & 110152  & 86.5000 & S       & 1       & single  & B      \\\\\n",
       "\t  505    &  1      & 1       & 1       & 16      & 110152  & 86.5000 & S       & 1       & single  & B      \\\\\n",
       "\t  760    &  1      & 1       & 1       & 33      & 110152  & 86.5000 & S       & 3       & single  & B      \\\\\n",
       "\t  263    &  0      & 1       & 0       & 52      & 110413  & 79.6500 & S       & 0       & small   & E      \\\\\n",
       "\t  559    &  1      & 1       & 1       & 39      & 110413  & 79.6500 & S       & 2       & small   & E      \\\\\n",
       "\t  586    &  1      & 1       & 1       & 18      & 110413  & 79.6500 & S       & 1       & small   & E      \\\\\n",
       "\t  111    &  0      & 1       & 0       & 47      & 110465  & 52.0000 & S       & 0       & single  & C      \\\\\n",
       "\t  476    &  0      & 1       & 0       & NA      & 110465  & 52.0000 & S       & 0       & single  & A      \\\\\n",
       "\t 1227    & NA      & 1       & 0       & 30      & 110469  & 26.0000 & S       & 0       & single  & C      \\\\\n",
       "\t 1050    & NA      & 1       & 0       & 42      & 110489  & 26.5500 & S       & 0       & single  & D      \\\\\n",
       "\t  431    &  1      & 1       & 0       & 28      & 110564  & 26.5500 & S       & 0       & single  & C      \\\\\n",
       "\t  367    &  1      & 1       & 1       & 60      & 110813  & 75.2500 & C       & 2       & small   & D      \\\\\n",
       "\t 1128    & NA      & 1       & 0       & 64      & 110813  & 75.2500 & C       & 0       & small   & D      \\\\\n",
       "\t 1083    & NA      & 1       & 0       & NA      & 111163  & 26.0000 & S       & 0       & single  & NA     \\\\\n",
       "\t  171    &  0      & 1       & 0       & 61      & 111240  & 33.5000 & S       & 0       & single  & B      \\\\\n",
       "\t  463    &  0      & 1       & 0       & 47      & 111320  & 38.5000 & S       & 0       & single  & E      \\\\\n",
       "\t  330    &  1      & 1       & 1       & 16      & 111361  & 57.9792 & C       & 1       & small   & B      \\\\\n",
       "\t  524    &  1      & 1       & 1       & 44      & 111361  & 57.9792 & C       & 2       & small   & B      \\\\\n",
       "\t  890    &  1      & 1       & 0       & 26      & 111369  & 30.0000 & C       & 0       & single  & C      \\\\\n",
       "\t  605    &  1      & 1       & 0       & 35      & 111426  & 26.5500 & C       & 0       & single  & NA     \\\\\n",
       "\t  508    &  1      & 1       & 0       & NA      & 111427  & 26.5500 & S       & 0       & single  & NA     \\\\\n",
       "\t  188    &  1      & 1       & 0       & 45      & 111428  & 26.5500 & S       & 0       & single  & NA     \\\\\n",
       "\t  807    &  0      & 1       & 0       & 39      & 112050  &  0.0000 & S       & 0       & single  & A      \\\\\n",
       "\t 1158    & NA      & 1       & 0       & NA      & 112051  &  0.0000 & S       & 0       & single  & NA     \\\\\n",
       "\t  634    &  0      & 1       & 0       & NA      & 112052  &  0.0000 & S       & 0       & single  & NA     \\\\\n",
       "\t  888    &  1      & 1       & 1       & 19      & 112053  & 30.0000 & S       & 1       & single  & B      \\\\\n",
       "\t  816    &  0      & 1       & 0       & NA      & 112058  &  0.0000 & S       & 0       & single  & B      \\\\\n",
       "\t 1264    & NA      & 1       & 0       & 49      & 112058  &  0.0000 & S       & 0       & single  & B      \\\\\n",
       "\t  264    &  0      & 1       & 0       & 40      & 112059  &  0.0000 & S       & 0       & single  & B      \\\\\n",
       "\t  210    &  1      & 1       & 0       & 40      & 112277  & 31.0000 & C       & 0       & single  & A      \\\\\n",
       "\t ... & ... & ... & ... & ... & ... & ... & ... & ... & ... & ...\\\\\n",
       "\t  383              &  0                & 3                 & 0                 & 32                & STON/O 2. 3101293 &  7.925            & S                 & 0                 & single            & NA               \\\\\n",
       "\t  116              &  0                & 3                 & 0                 & 21                & STON/O 2. 3101294 &  7.925            & S                 & 0                 & single            & NA               \\\\\n",
       "\t  910              & NA                & 3                 & 1                 & 27                & STON/O2. 3101270  &  7.925            & S                 & 1                 & small             & NA               \\\\\n",
       "\t  730              &  0                & 3                 & 1                 & 25                & STON/O2. 3101271  &  7.925            & S                 & 1                 & small             & NA               \\\\\n",
       "\t  143              &  1                & 3                 & 1                 & 24                & STON/O2. 3101279  & 15.850            & S                 & 2                 & small             & NA               \\\\\n",
       "\t  404              &  0                & 3                 & 0                 & 28                & STON/O2. 3101279  & 15.850            & S                 & 0                 & small             & NA               \\\\\n",
       "\t    3              &  1                & 3                 & 1                 & 26                & STON/O2. 3101282  &  7.925            & S                 & 1                 & single            & NA               \\\\\n",
       "\t  217              &  1                & 3                 & 1                 & 27                & STON/O2. 3101283  &  7.925            & S                 & 1                 & single            & NA               \\\\\n",
       "\t  817              &  0                & 3                 & 1                 & 23                & STON/O2. 3101290  &  7.925            & S                 & 1                 & single            & NA               \\\\\n",
       "\t 1022              & NA                & 3                 & 0                 & 32                & STON/OQ. 369943   &  8.050            & S                 & 0                 & single            & NA               \\\\\n",
       "\t  227              &  1                & 2                 & 0                 & 19                & SW/PP 751         & 10.500            & S                 & 0                 & single            & NA               \\\\\n",
       "\t  527              &  1                & 2                 & 1                 & 50                & W./C. 14258       & 10.500            & S                 & 1                 & single            & NA               \\\\\n",
       "\t 1171              & NA                & 2                 & 0                 & 22                & W./C. 14260       & 10.500            & S                 & 0                 & single            & NA               \\\\\n",
       "\t  243              &  0                & 2                 & 0                 & 29                & W./C. 14263       & 10.500            & S                 & 0                 & single            & NA               \\\\\n",
       "\t 1114              & NA                & 2                 & 1                 & 22                & W./C. 14266       & 10.500            & S                 & 2                 & single            & F                \\\\\n",
       "\t  784              &  0                & 3                 & 0                 & NA                & W./C. 6607        & 23.450            & S                 & 0                 & small             & NA               \\\\\n",
       "\t  889              &  0                & 3                 & 1                 & NA                & W./C. 6607        & 23.450            & S                 & 1                 & small             & NA               \\\\\n",
       "\t  925              & NA                & 3                 & 1                 & NA                & W./C. 6607        & 23.450            & S                 & 2                 & small             & NA               \\\\\n",
       "\t 1136              & NA                & 3                 & 0                 & NA                & W./C. 6607        & 23.450            & S                 & 3                 & small             & NA               \\\\\n",
       "\t   87              &  0                & 3                 & 0                 & 16                & W./C. 6608        & 34.375            & S                 & 0                 & large             & NA               \\\\\n",
       "\t  148              &  0                & 3                 & 1                 &  9                & W./C. 6608        & 34.375            & S                 & 1                 & large             & NA               \\\\\n",
       "\t  437              &  0                & 3                 & 1                 & 21                & W./C. 6608        & 34.375            & S                 & 1                 & large             & NA               \\\\\n",
       "\t  737              &  0                & 3                 & 1                 & 48                & W./C. 6608        & 34.375            & S                 & 2                 & large             & NA               \\\\\n",
       "\t 1059              & NA                & 3                 & 0                 & 18                & W./C. 6608        & 34.375            & S                 & 0                 & large             & NA               \\\\\n",
       "\t  236              &  0                & 3                 & 1                 & NA                & W./C. 6609        &  7.550            & S                 & 1                 & single            & NA               \\\\\n",
       "\t   93              &  0                & 1                 & 0                 & 46                & W.E.P. 5734       & 61.175            & S                 & 0                 & small             & E                \\\\\n",
       "\t  906              & NA                & 1                 & 1                 & 47                & W.E.P. 5734       & 61.175            & S                 & 2                 & small             & E                \\\\\n",
       "\t  220              &  0                & 2                 & 0                 & 30                & W/C 14208         & 10.500            & S                 & 0                 & single            & NA               \\\\\n",
       "\t  541              &  1                & 1                 & 1                 & 36                & WE/P 5735         & 71.000            & S                 & 1                 & small             & B                \\\\\n",
       "\t  746              &  0                & 1                 & 0                 & 70                & WE/P 5735         & 71.000            & S                 & 3                 & small             & B                \\\\\n",
       "\\end{tabular}\n"
      ],
      "text/markdown": [
       "\n",
       "PassengerId | Survived | Pclass | Sex | Age | Ticket | Fare | Embarked | Title | Family | Deck | \n",
       "|---|---|---|---|---|---|---|---|---|---|---|---|---|---|---|---|---|---|---|---|---|---|---|---|---|---|---|---|---|---|---|---|---|---|---|---|---|---|---|---|---|---|---|---|---|---|---|---|---|---|---|---|---|---|---|---|---|---|---|---|---|\n",
       "|  258    |  1      | 1       | 1       | 30      | 110152  | 86.5000 | S       | 1       | single  | B       | \n",
       "|  505    |  1      | 1       | 1       | 16      | 110152  | 86.5000 | S       | 1       | single  | B       | \n",
       "|  760    |  1      | 1       | 1       | 33      | 110152  | 86.5000 | S       | 3       | single  | B       | \n",
       "|  263    |  0      | 1       | 0       | 52      | 110413  | 79.6500 | S       | 0       | small   | E       | \n",
       "|  559    |  1      | 1       | 1       | 39      | 110413  | 79.6500 | S       | 2       | small   | E       | \n",
       "|  586    |  1      | 1       | 1       | 18      | 110413  | 79.6500 | S       | 1       | small   | E       | \n",
       "|  111    |  0      | 1       | 0       | 47      | 110465  | 52.0000 | S       | 0       | single  | C       | \n",
       "|  476    |  0      | 1       | 0       | NA      | 110465  | 52.0000 | S       | 0       | single  | A       | \n",
       "| 1227    | NA      | 1       | 0       | 30      | 110469  | 26.0000 | S       | 0       | single  | C       | \n",
       "| 1050    | NA      | 1       | 0       | 42      | 110489  | 26.5500 | S       | 0       | single  | D       | \n",
       "|  431    |  1      | 1       | 0       | 28      | 110564  | 26.5500 | S       | 0       | single  | C       | \n",
       "|  367    |  1      | 1       | 1       | 60      | 110813  | 75.2500 | C       | 2       | small   | D       | \n",
       "| 1128    | NA      | 1       | 0       | 64      | 110813  | 75.2500 | C       | 0       | small   | D       | \n",
       "| 1083    | NA      | 1       | 0       | NA      | 111163  | 26.0000 | S       | 0       | single  | NA      | \n",
       "|  171    |  0      | 1       | 0       | 61      | 111240  | 33.5000 | S       | 0       | single  | B       | \n",
       "|  463    |  0      | 1       | 0       | 47      | 111320  | 38.5000 | S       | 0       | single  | E       | \n",
       "|  330    |  1      | 1       | 1       | 16      | 111361  | 57.9792 | C       | 1       | small   | B       | \n",
       "|  524    |  1      | 1       | 1       | 44      | 111361  | 57.9792 | C       | 2       | small   | B       | \n",
       "|  890    |  1      | 1       | 0       | 26      | 111369  | 30.0000 | C       | 0       | single  | C       | \n",
       "|  605    |  1      | 1       | 0       | 35      | 111426  | 26.5500 | C       | 0       | single  | NA      | \n",
       "|  508    |  1      | 1       | 0       | NA      | 111427  | 26.5500 | S       | 0       | single  | NA      | \n",
       "|  188    |  1      | 1       | 0       | 45      | 111428  | 26.5500 | S       | 0       | single  | NA      | \n",
       "|  807    |  0      | 1       | 0       | 39      | 112050  |  0.0000 | S       | 0       | single  | A       | \n",
       "| 1158    | NA      | 1       | 0       | NA      | 112051  |  0.0000 | S       | 0       | single  | NA      | \n",
       "|  634    |  0      | 1       | 0       | NA      | 112052  |  0.0000 | S       | 0       | single  | NA      | \n",
       "|  888    |  1      | 1       | 1       | 19      | 112053  | 30.0000 | S       | 1       | single  | B       | \n",
       "|  816    |  0      | 1       | 0       | NA      | 112058  |  0.0000 | S       | 0       | single  | B       | \n",
       "| 1264    | NA      | 1       | 0       | 49      | 112058  |  0.0000 | S       | 0       | single  | B       | \n",
       "|  264    |  0      | 1       | 0       | 40      | 112059  |  0.0000 | S       | 0       | single  | B       | \n",
       "|  210    |  1      | 1       | 0       | 40      | 112277  | 31.0000 | C       | 0       | single  | A       | \n",
       "| ... | ... | ... | ... | ... | ... | ... | ... | ... | ... | ... | \n",
       "|  383              |  0                | 3                 | 0                 | 32                | STON/O 2. 3101293 |  7.925            | S                 | 0                 | single            | NA                | \n",
       "|  116              |  0                | 3                 | 0                 | 21                | STON/O 2. 3101294 |  7.925            | S                 | 0                 | single            | NA                | \n",
       "|  910              | NA                | 3                 | 1                 | 27                | STON/O2. 3101270  |  7.925            | S                 | 1                 | small             | NA                | \n",
       "|  730              |  0                | 3                 | 1                 | 25                | STON/O2. 3101271  |  7.925            | S                 | 1                 | small             | NA                | \n",
       "|  143              |  1                | 3                 | 1                 | 24                | STON/O2. 3101279  | 15.850            | S                 | 2                 | small             | NA                | \n",
       "|  404              |  0                | 3                 | 0                 | 28                | STON/O2. 3101279  | 15.850            | S                 | 0                 | small             | NA                | \n",
       "|    3              |  1                | 3                 | 1                 | 26                | STON/O2. 3101282  |  7.925            | S                 | 1                 | single            | NA                | \n",
       "|  217              |  1                | 3                 | 1                 | 27                | STON/O2. 3101283  |  7.925            | S                 | 1                 | single            | NA                | \n",
       "|  817              |  0                | 3                 | 1                 | 23                | STON/O2. 3101290  |  7.925            | S                 | 1                 | single            | NA                | \n",
       "| 1022              | NA                | 3                 | 0                 | 32                | STON/OQ. 369943   |  8.050            | S                 | 0                 | single            | NA                | \n",
       "|  227              |  1                | 2                 | 0                 | 19                | SW/PP 751         | 10.500            | S                 | 0                 | single            | NA                | \n",
       "|  527              |  1                | 2                 | 1                 | 50                | W./C. 14258       | 10.500            | S                 | 1                 | single            | NA                | \n",
       "| 1171              | NA                | 2                 | 0                 | 22                | W./C. 14260       | 10.500            | S                 | 0                 | single            | NA                | \n",
       "|  243              |  0                | 2                 | 0                 | 29                | W./C. 14263       | 10.500            | S                 | 0                 | single            | NA                | \n",
       "| 1114              | NA                | 2                 | 1                 | 22                | W./C. 14266       | 10.500            | S                 | 2                 | single            | F                 | \n",
       "|  784              |  0                | 3                 | 0                 | NA                | W./C. 6607        | 23.450            | S                 | 0                 | small             | NA                | \n",
       "|  889              |  0                | 3                 | 1                 | NA                | W./C. 6607        | 23.450            | S                 | 1                 | small             | NA                | \n",
       "|  925              | NA                | 3                 | 1                 | NA                | W./C. 6607        | 23.450            | S                 | 2                 | small             | NA                | \n",
       "| 1136              | NA                | 3                 | 0                 | NA                | W./C. 6607        | 23.450            | S                 | 3                 | small             | NA                | \n",
       "|   87              |  0                | 3                 | 0                 | 16                | W./C. 6608        | 34.375            | S                 | 0                 | large             | NA                | \n",
       "|  148              |  0                | 3                 | 1                 |  9                | W./C. 6608        | 34.375            | S                 | 1                 | large             | NA                | \n",
       "|  437              |  0                | 3                 | 1                 | 21                | W./C. 6608        | 34.375            | S                 | 1                 | large             | NA                | \n",
       "|  737              |  0                | 3                 | 1                 | 48                | W./C. 6608        | 34.375            | S                 | 2                 | large             | NA                | \n",
       "| 1059              | NA                | 3                 | 0                 | 18                | W./C. 6608        | 34.375            | S                 | 0                 | large             | NA                | \n",
       "|  236              |  0                | 3                 | 1                 | NA                | W./C. 6609        |  7.550            | S                 | 1                 | single            | NA                | \n",
       "|   93              |  0                | 1                 | 0                 | 46                | W.E.P. 5734       | 61.175            | S                 | 0                 | small             | E                 | \n",
       "|  906              | NA                | 1                 | 1                 | 47                | W.E.P. 5734       | 61.175            | S                 | 2                 | small             | E                 | \n",
       "|  220              |  0                | 2                 | 0                 | 30                | W/C 14208         | 10.500            | S                 | 0                 | single            | NA                | \n",
       "|  541              |  1                | 1                 | 1                 | 36                | WE/P 5735         | 71.000            | S                 | 1                 | small             | B                 | \n",
       "|  746              |  0                | 1                 | 0                 | 70                | WE/P 5735         | 71.000            | S                 | 3                 | small             | B                 | \n",
       "\n",
       "\n"
      ],
      "text/plain": [
       "     PassengerId Survived Pclass Sex Age Ticket            Fare    Embarked\n",
       "1     258         1       1      1   30  110152            86.5000 S       \n",
       "2     505         1       1      1   16  110152            86.5000 S       \n",
       "3     760         1       1      1   33  110152            86.5000 S       \n",
       "4     263         0       1      0   52  110413            79.6500 S       \n",
       "5     559         1       1      1   39  110413            79.6500 S       \n",
       "6     586         1       1      1   18  110413            79.6500 S       \n",
       "7     111         0       1      0   47  110465            52.0000 S       \n",
       "8     476         0       1      0   NA  110465            52.0000 S       \n",
       "9    1227        NA       1      0   30  110469            26.0000 S       \n",
       "10   1050        NA       1      0   42  110489            26.5500 S       \n",
       "11    431         1       1      0   28  110564            26.5500 S       \n",
       "12    367         1       1      1   60  110813            75.2500 C       \n",
       "13   1128        NA       1      0   64  110813            75.2500 C       \n",
       "14   1083        NA       1      0   NA  111163            26.0000 S       \n",
       "15    171         0       1      0   61  111240            33.5000 S       \n",
       "16    463         0       1      0   47  111320            38.5000 S       \n",
       "17    330         1       1      1   16  111361            57.9792 C       \n",
       "18    524         1       1      1   44  111361            57.9792 C       \n",
       "19    890         1       1      0   26  111369            30.0000 C       \n",
       "20    605         1       1      0   35  111426            26.5500 C       \n",
       "21    508         1       1      0   NA  111427            26.5500 S       \n",
       "22    188         1       1      0   45  111428            26.5500 S       \n",
       "23    807         0       1      0   39  112050             0.0000 S       \n",
       "24   1158        NA       1      0   NA  112051             0.0000 S       \n",
       "25    634         0       1      0   NA  112052             0.0000 S       \n",
       "26    888         1       1      1   19  112053            30.0000 S       \n",
       "27    816         0       1      0   NA  112058             0.0000 S       \n",
       "28   1264        NA       1      0   49  112058             0.0000 S       \n",
       "29    264         0       1      0   40  112059             0.0000 S       \n",
       "30    210         1       1      0   40  112277            31.0000 C       \n",
       "...  ...         ...      ...    ... ... ...               ...     ...     \n",
       "1280  383         0       3      0   32  STON/O 2. 3101293  7.925  S       \n",
       "1281  116         0       3      0   21  STON/O 2. 3101294  7.925  S       \n",
       "1282  910        NA       3      1   27  STON/O2. 3101270   7.925  S       \n",
       "1283  730         0       3      1   25  STON/O2. 3101271   7.925  S       \n",
       "1284  143         1       3      1   24  STON/O2. 3101279  15.850  S       \n",
       "1285  404         0       3      0   28  STON/O2. 3101279  15.850  S       \n",
       "1286    3         1       3      1   26  STON/O2. 3101282   7.925  S       \n",
       "1287  217         1       3      1   27  STON/O2. 3101283   7.925  S       \n",
       "1288  817         0       3      1   23  STON/O2. 3101290   7.925  S       \n",
       "1289 1022        NA       3      0   32  STON/OQ. 369943    8.050  S       \n",
       "1290  227         1       2      0   19  SW/PP 751         10.500  S       \n",
       "1291  527         1       2      1   50  W./C. 14258       10.500  S       \n",
       "1292 1171        NA       2      0   22  W./C. 14260       10.500  S       \n",
       "1293  243         0       2      0   29  W./C. 14263       10.500  S       \n",
       "1294 1114        NA       2      1   22  W./C. 14266       10.500  S       \n",
       "1295  784         0       3      0   NA  W./C. 6607        23.450  S       \n",
       "1296  889         0       3      1   NA  W./C. 6607        23.450  S       \n",
       "1297  925        NA       3      1   NA  W./C. 6607        23.450  S       \n",
       "1298 1136        NA       3      0   NA  W./C. 6607        23.450  S       \n",
       "1299   87         0       3      0   16  W./C. 6608        34.375  S       \n",
       "1300  148         0       3      1    9  W./C. 6608        34.375  S       \n",
       "1301  437         0       3      1   21  W./C. 6608        34.375  S       \n",
       "1302  737         0       3      1   48  W./C. 6608        34.375  S       \n",
       "1303 1059        NA       3      0   18  W./C. 6608        34.375  S       \n",
       "1304  236         0       3      1   NA  W./C. 6609         7.550  S       \n",
       "1305   93         0       1      0   46  W.E.P. 5734       61.175  S       \n",
       "1306  906        NA       1      1   47  W.E.P. 5734       61.175  S       \n",
       "1307  220         0       2      0   30  W/C 14208         10.500  S       \n",
       "1308  541         1       1      1   36  WE/P 5735         71.000  S       \n",
       "1309  746         0       1      0   70  WE/P 5735         71.000  S       \n",
       "     Title Family Deck\n",
       "1    1     single B   \n",
       "2    1     single B   \n",
       "3    3     single B   \n",
       "4    0     small  E   \n",
       "5    2     small  E   \n",
       "6    1     small  E   \n",
       "7    0     single C   \n",
       "8    0     single A   \n",
       "9    0     single C   \n",
       "10   0     single D   \n",
       "11   0     single C   \n",
       "12   2     small  D   \n",
       "13   0     small  D   \n",
       "14   0     single NA  \n",
       "15   0     single B   \n",
       "16   0     single E   \n",
       "17   1     small  B   \n",
       "18   2     small  B   \n",
       "19   0     single C   \n",
       "20   0     single NA  \n",
       "21   0     single NA  \n",
       "22   0     single NA  \n",
       "23   0     single A   \n",
       "24   0     single NA  \n",
       "25   0     single NA  \n",
       "26   1     single B   \n",
       "27   0     single B   \n",
       "28   0     single B   \n",
       "29   0     single B   \n",
       "30   0     single A   \n",
       "...  ...   ...    ... \n",
       "1280 0     single NA  \n",
       "1281 0     single NA  \n",
       "1282 1     small  NA  \n",
       "1283 1     small  NA  \n",
       "1284 2     small  NA  \n",
       "1285 0     small  NA  \n",
       "1286 1     single NA  \n",
       "1287 1     single NA  \n",
       "1288 1     single NA  \n",
       "1289 0     single NA  \n",
       "1290 0     single NA  \n",
       "1291 1     single NA  \n",
       "1292 0     single NA  \n",
       "1293 0     single NA  \n",
       "1294 2     single F   \n",
       "1295 0     small  NA  \n",
       "1296 1     small  NA  \n",
       "1297 2     small  NA  \n",
       "1298 3     small  NA  \n",
       "1299 0     large  NA  \n",
       "1300 1     large  NA  \n",
       "1301 1     large  NA  \n",
       "1302 2     large  NA  \n",
       "1303 0     large  NA  \n",
       "1304 1     single NA  \n",
       "1305 0     small  E   \n",
       "1306 2     small  E   \n",
       "1307 0     single NA  \n",
       "1308 1     small  B   \n",
       "1309 3     small  B   "
      ]
     },
     "metadata": {},
     "output_type": "display_data"
    }
   ],
   "source": [
    "full  %>%  arrange(Ticket) #같은 티켓인데도 불구하고 Family가 single, 친구등과 같이 온것으로 유추"
   ]
  },
  {
   "cell_type": "code",
   "execution_count": 345,
   "metadata": {},
   "outputs": [],
   "source": [
    "full$TravelGroup <- NA"
   ]
  },
  {
   "cell_type": "code",
   "execution_count": 346,
   "metadata": {},
   "outputs": [],
   "source": [
    "full <- (transform(full, TravelGroup = match(Ticket, unique(Ticket))))"
   ]
  },
  {
   "cell_type": "code",
   "execution_count": 347,
   "metadata": {},
   "outputs": [],
   "source": [
    "full <- full %>% \n",
    "            group_by(TravelGroup) %>% \n",
    "            mutate(GroupSize = n()) %>%\n",
    "            ungroup()"
   ]
  },
  {
   "cell_type": "code",
   "execution_count": 348,
   "metadata": {
    "scrolled": true
   },
   "outputs": [
    {
     "data": {
      "text/html": [
       "<table>\n",
       "<thead><tr><th scope=col>PassengerId</th><th scope=col>Survived</th><th scope=col>Pclass</th><th scope=col>Sex</th><th scope=col>Age</th><th scope=col>Ticket</th><th scope=col>Fare</th><th scope=col>Embarked</th><th scope=col>Title</th><th scope=col>Family</th><th scope=col>Deck</th><th scope=col>TravelGroup</th><th scope=col>GroupSize</th></tr></thead>\n",
       "<tbody>\n",
       "\t<tr><td> 258   </td><td> 1     </td><td>1      </td><td>1      </td><td>30     </td><td>110152 </td><td>86.5000</td><td>S      </td><td>1      </td><td>single </td><td>B      </td><td>231    </td><td>3      </td></tr>\n",
       "\t<tr><td> 505   </td><td> 1     </td><td>1      </td><td>1      </td><td>16     </td><td>110152 </td><td>86.5000</td><td>S      </td><td>1      </td><td>single </td><td>B      </td><td>231    </td><td>3      </td></tr>\n",
       "\t<tr><td> 760   </td><td> 1     </td><td>1      </td><td>1      </td><td>33     </td><td>110152 </td><td>86.5000</td><td>S      </td><td>3      </td><td>single </td><td>B      </td><td>231    </td><td>3      </td></tr>\n",
       "\t<tr><td> 263   </td><td> 0     </td><td>1      </td><td>0      </td><td>52     </td><td>110413 </td><td>79.6500</td><td>S      </td><td>0      </td><td>small  </td><td>E      </td><td>235    </td><td>3      </td></tr>\n",
       "\t<tr><td> 559   </td><td> 1     </td><td>1      </td><td>1      </td><td>39     </td><td>110413 </td><td>79.6500</td><td>S      </td><td>2      </td><td>small  </td><td>E      </td><td>235    </td><td>3      </td></tr>\n",
       "\t<tr><td> 586   </td><td> 1     </td><td>1      </td><td>1      </td><td>18     </td><td>110413 </td><td>79.6500</td><td>S      </td><td>1      </td><td>small  </td><td>E      </td><td>235    </td><td>3      </td></tr>\n",
       "\t<tr><td> 111   </td><td> 0     </td><td>1      </td><td>0      </td><td>47     </td><td>110465 </td><td>52.0000</td><td>S      </td><td>0      </td><td>single </td><td>C      </td><td>108    </td><td>2      </td></tr>\n",
       "\t<tr><td> 476   </td><td> 0     </td><td>1      </td><td>0      </td><td>NA     </td><td>110465 </td><td>52.0000</td><td>S      </td><td>0      </td><td>single </td><td>A      </td><td>108    </td><td>2      </td></tr>\n",
       "\t<tr><td>1227   </td><td>NA     </td><td>1      </td><td>0      </td><td>30     </td><td>110469 </td><td>26.0000</td><td>S      </td><td>0      </td><td>single </td><td>C      </td><td>889    </td><td>1      </td></tr>\n",
       "\t<tr><td>1050   </td><td>NA     </td><td>1      </td><td>0      </td><td>42     </td><td>110489 </td><td>26.5500</td><td>S      </td><td>0      </td><td>single </td><td>D      </td><td>783    </td><td>1      </td></tr>\n",
       "\t<tr><td> 431   </td><td> 1     </td><td>1      </td><td>0      </td><td>28     </td><td>110564 </td><td>26.5500</td><td>S      </td><td>0      </td><td>single </td><td>C      </td><td>368    </td><td>1      </td></tr>\n",
       "\t<tr><td> 367   </td><td> 1     </td><td>1      </td><td>1      </td><td>60     </td><td>110813 </td><td>75.2500</td><td>C      </td><td>2      </td><td>small  </td><td>D      </td><td>317    </td><td>2      </td></tr>\n",
       "\t<tr><td>1128   </td><td>NA     </td><td>1      </td><td>0      </td><td>64     </td><td>110813 </td><td>75.2500</td><td>C      </td><td>0      </td><td>small  </td><td>D      </td><td>317    </td><td>2      </td></tr>\n",
       "\t<tr><td>1083   </td><td>NA     </td><td>1      </td><td>0      </td><td>NA     </td><td>111163 </td><td>26.0000</td><td>S      </td><td>0      </td><td>single </td><td>NA     </td><td>801    </td><td>1      </td></tr>\n",
       "\t<tr><td> 171   </td><td> 0     </td><td>1      </td><td>0      </td><td>61     </td><td>111240 </td><td>33.5000</td><td>S      </td><td>0      </td><td>single </td><td>B      </td><td>157    </td><td>1      </td></tr>\n",
       "\t<tr><td> 463   </td><td> 0     </td><td>1      </td><td>0      </td><td>47     </td><td>111320 </td><td>38.5000</td><td>S      </td><td>0      </td><td>single </td><td>E      </td><td>393    </td><td>1      </td></tr>\n",
       "\t<tr><td> 330   </td><td> 1     </td><td>1      </td><td>1      </td><td>16     </td><td>111361 </td><td>57.9792</td><td>C      </td><td>1      </td><td>small  </td><td>B      </td><td>291    </td><td>2      </td></tr>\n",
       "\t<tr><td> 524   </td><td> 1     </td><td>1      </td><td>1      </td><td>44     </td><td>111361 </td><td>57.9792</td><td>C      </td><td>2      </td><td>small  </td><td>B      </td><td>291    </td><td>2      </td></tr>\n",
       "\t<tr><td> 890   </td><td> 1     </td><td>1      </td><td>0      </td><td>26     </td><td>111369 </td><td>30.0000</td><td>C      </td><td>0      </td><td>single </td><td>C      </td><td>680    </td><td>1      </td></tr>\n",
       "\t<tr><td> 605   </td><td> 1     </td><td>1      </td><td>0      </td><td>35     </td><td>111426 </td><td>26.5500</td><td>C      </td><td>0      </td><td>single </td><td>NA     </td><td>497    </td><td>1      </td></tr>\n",
       "\t<tr><td> 508   </td><td> 1     </td><td>1      </td><td>0      </td><td>NA     </td><td>111427 </td><td>26.5500</td><td>S      </td><td>0      </td><td>single </td><td>NA     </td><td>425    </td><td>1      </td></tr>\n",
       "\t<tr><td> 188   </td><td> 1     </td><td>1      </td><td>0      </td><td>45     </td><td>111428 </td><td>26.5500</td><td>S      </td><td>0      </td><td>single </td><td>NA     </td><td>170    </td><td>1      </td></tr>\n",
       "\t<tr><td> 807   </td><td> 0     </td><td>1      </td><td>0      </td><td>39     </td><td>112050 </td><td> 0.0000</td><td>S      </td><td>0      </td><td>single </td><td>A      </td><td>629    </td><td>1      </td></tr>\n",
       "\t<tr><td>1158   </td><td>NA     </td><td>1      </td><td>0      </td><td>NA     </td><td>112051 </td><td> 0.0000</td><td>S      </td><td>0      </td><td>single </td><td>NA     </td><td>846    </td><td>1      </td></tr>\n",
       "\t<tr><td> 634   </td><td> 0     </td><td>1      </td><td>0      </td><td>NA     </td><td>112052 </td><td> 0.0000</td><td>S      </td><td>0      </td><td>single </td><td>NA     </td><td>517    </td><td>1      </td></tr>\n",
       "\t<tr><td> 888   </td><td> 1     </td><td>1      </td><td>1      </td><td>19     </td><td>112053 </td><td>30.0000</td><td>S      </td><td>1      </td><td>single </td><td>B      </td><td>679    </td><td>1      </td></tr>\n",
       "\t<tr><td> 816   </td><td> 0     </td><td>1      </td><td>0      </td><td>NA     </td><td>112058 </td><td> 0.0000</td><td>S      </td><td>0      </td><td>single </td><td>B      </td><td>635    </td><td>2      </td></tr>\n",
       "\t<tr><td>1264   </td><td>NA     </td><td>1      </td><td>0      </td><td>49     </td><td>112058 </td><td> 0.0000</td><td>S      </td><td>0      </td><td>single </td><td>B      </td><td>635    </td><td>2      </td></tr>\n",
       "\t<tr><td> 264   </td><td> 0     </td><td>1      </td><td>0      </td><td>40     </td><td>112059 </td><td> 0.0000</td><td>S      </td><td>0      </td><td>single </td><td>B      </td><td>236    </td><td>1      </td></tr>\n",
       "\t<tr><td> 210   </td><td> 1     </td><td>1      </td><td>0      </td><td>40     </td><td>112277 </td><td>31.0000</td><td>C      </td><td>0      </td><td>single </td><td>A      </td><td>188    </td><td>1      </td></tr>\n",
       "\t<tr><td>...</td><td>...</td><td>...</td><td>...</td><td>...</td><td>...</td><td>...</td><td>...</td><td>...</td><td>...</td><td>...</td><td>...</td><td>...</td></tr>\n",
       "\t<tr><td> 383             </td><td> 0               </td><td>3                </td><td>0                </td><td>32               </td><td>STON/O 2. 3101293</td><td> 7.925           </td><td>S                </td><td>0                </td><td>single           </td><td>NA               </td><td>330              </td><td>1                </td></tr>\n",
       "\t<tr><td> 116             </td><td> 0               </td><td>3                </td><td>0                </td><td>21               </td><td>STON/O 2. 3101294</td><td> 7.925           </td><td>S                </td><td>0                </td><td>single           </td><td>NA               </td><td>113              </td><td>1                </td></tr>\n",
       "\t<tr><td> 910             </td><td>NA               </td><td>3                </td><td>1                </td><td>27               </td><td>STON/O2. 3101270 </td><td> 7.925           </td><td>S                </td><td>1                </td><td>small            </td><td>NA               </td><td>695              </td><td>1                </td></tr>\n",
       "\t<tr><td> 730             </td><td> 0               </td><td>3                </td><td>1                </td><td>25               </td><td>STON/O2. 3101271 </td><td> 7.925           </td><td>S                </td><td>1                </td><td>small            </td><td>NA               </td><td>580              </td><td>1                </td></tr>\n",
       "\t<tr><td> 143             </td><td> 1               </td><td>3                </td><td>1                </td><td>24               </td><td>STON/O2. 3101279 </td><td>15.850           </td><td>S                </td><td>2                </td><td>small            </td><td>NA               </td><td>133              </td><td>2                </td></tr>\n",
       "\t<tr><td> 404             </td><td> 0               </td><td>3                </td><td>0                </td><td>28               </td><td>STON/O2. 3101279 </td><td>15.850           </td><td>S                </td><td>0                </td><td>small            </td><td>NA               </td><td>133              </td><td>2                </td></tr>\n",
       "\t<tr><td>   3             </td><td> 1               </td><td>3                </td><td>1                </td><td>26               </td><td>STON/O2. 3101282 </td><td> 7.925           </td><td>S                </td><td>1                </td><td>single           </td><td>NA               </td><td>  3              </td><td>1                </td></tr>\n",
       "\t<tr><td> 217             </td><td> 1               </td><td>3                </td><td>1                </td><td>27               </td><td>STON/O2. 3101283 </td><td> 7.925           </td><td>S                </td><td>1                </td><td>single           </td><td>NA               </td><td>195              </td><td>1                </td></tr>\n",
       "\t<tr><td> 817             </td><td> 0               </td><td>3                </td><td>1                </td><td>23               </td><td>STON/O2. 3101290 </td><td> 7.925           </td><td>S                </td><td>1                </td><td>single           </td><td>NA               </td><td>636              </td><td>1                </td></tr>\n",
       "\t<tr><td>1022             </td><td>NA               </td><td>3                </td><td>0                </td><td>32               </td><td>STON/OQ. 369943  </td><td> 8.050           </td><td>S                </td><td>0                </td><td>single           </td><td>NA               </td><td>767              </td><td>1                </td></tr>\n",
       "\t<tr><td> 227             </td><td> 1               </td><td>2                </td><td>0                </td><td>19               </td><td>SW/PP 751        </td><td>10.500           </td><td>S                </td><td>0                </td><td>single           </td><td>NA               </td><td>205              </td><td>1                </td></tr>\n",
       "\t<tr><td> 527             </td><td> 1               </td><td>2                </td><td>1                </td><td>50               </td><td>W./C. 14258      </td><td>10.500           </td><td>S                </td><td>1                </td><td>single           </td><td>NA               </td><td>441              </td><td>1                </td></tr>\n",
       "\t<tr><td>1171             </td><td>NA               </td><td>2                </td><td>0                </td><td>22               </td><td>W./C. 14260      </td><td>10.500           </td><td>S                </td><td>0                </td><td>single           </td><td>NA               </td><td>854              </td><td>1                </td></tr>\n",
       "\t<tr><td> 243             </td><td> 0               </td><td>2                </td><td>0                </td><td>29               </td><td>W./C. 14263      </td><td>10.500           </td><td>S                </td><td>0                </td><td>single           </td><td>NA               </td><td>217              </td><td>1                </td></tr>\n",
       "\t<tr><td>1114             </td><td>NA               </td><td>2                </td><td>1                </td><td>22               </td><td>W./C. 14266      </td><td>10.500           </td><td>S                </td><td>2                </td><td>single           </td><td>F                </td><td>820              </td><td>1                </td></tr>\n",
       "\t<tr><td> 784             </td><td> 0               </td><td>3                </td><td>0                </td><td>NA               </td><td>W./C. 6607       </td><td>23.450           </td><td>S                </td><td>0                </td><td>small            </td><td>NA               </td><td>615              </td><td>4                </td></tr>\n",
       "\t<tr><td> 889             </td><td> 0               </td><td>3                </td><td>1                </td><td>NA               </td><td>W./C. 6607       </td><td>23.450           </td><td>S                </td><td>1                </td><td>small            </td><td>NA               </td><td>615              </td><td>4                </td></tr>\n",
       "\t<tr><td> 925             </td><td>NA               </td><td>3                </td><td>1                </td><td>NA               </td><td>W./C. 6607       </td><td>23.450           </td><td>S                </td><td>2                </td><td>small            </td><td>NA               </td><td>615              </td><td>4                </td></tr>\n",
       "\t<tr><td>1136             </td><td>NA               </td><td>3                </td><td>0                </td><td>NA               </td><td>W./C. 6607       </td><td>23.450           </td><td>S                </td><td>3                </td><td>small            </td><td>NA               </td><td>615              </td><td>4                </td></tr>\n",
       "\t<tr><td>  87             </td><td> 0               </td><td>3                </td><td>0                </td><td>16               </td><td>W./C. 6608       </td><td>34.375           </td><td>S                </td><td>0                </td><td>large            </td><td>NA               </td><td> 85              </td><td>5                </td></tr>\n",
       "\t<tr><td> 148             </td><td> 0               </td><td>3                </td><td>1                </td><td> 9               </td><td>W./C. 6608       </td><td>34.375           </td><td>S                </td><td>1                </td><td>large            </td><td>NA               </td><td> 85              </td><td>5                </td></tr>\n",
       "\t<tr><td> 437             </td><td> 0               </td><td>3                </td><td>1                </td><td>21               </td><td>W./C. 6608       </td><td>34.375           </td><td>S                </td><td>1                </td><td>large            </td><td>NA               </td><td> 85              </td><td>5                </td></tr>\n",
       "\t<tr><td> 737             </td><td> 0               </td><td>3                </td><td>1                </td><td>48               </td><td>W./C. 6608       </td><td>34.375           </td><td>S                </td><td>2                </td><td>large            </td><td>NA               </td><td> 85              </td><td>5                </td></tr>\n",
       "\t<tr><td>1059             </td><td>NA               </td><td>3                </td><td>0                </td><td>18               </td><td>W./C. 6608       </td><td>34.375           </td><td>S                </td><td>0                </td><td>large            </td><td>NA               </td><td> 85              </td><td>5                </td></tr>\n",
       "\t<tr><td> 236             </td><td> 0               </td><td>3                </td><td>1                </td><td>NA               </td><td>W./C. 6609       </td><td> 7.550           </td><td>S                </td><td>1                </td><td>single           </td><td>NA               </td><td>211              </td><td>1                </td></tr>\n",
       "\t<tr><td>  93             </td><td> 0               </td><td>1                </td><td>0                </td><td>46               </td><td>W.E.P. 5734      </td><td>61.175           </td><td>S                </td><td>0                </td><td>small            </td><td>E                </td><td> 90              </td><td>2                </td></tr>\n",
       "\t<tr><td> 906             </td><td>NA               </td><td>1                </td><td>1                </td><td>47               </td><td>W.E.P. 5734      </td><td>61.175           </td><td>S                </td><td>2                </td><td>small            </td><td>E                </td><td> 90              </td><td>2                </td></tr>\n",
       "\t<tr><td> 220             </td><td> 0               </td><td>2                </td><td>0                </td><td>30               </td><td>W/C 14208        </td><td>10.500           </td><td>S                </td><td>0                </td><td>single           </td><td>NA               </td><td>198              </td><td>1                </td></tr>\n",
       "\t<tr><td> 541             </td><td> 1               </td><td>1                </td><td>1                </td><td>36               </td><td>WE/P 5735        </td><td>71.000           </td><td>S                </td><td>1                </td><td>small            </td><td>B                </td><td>452              </td><td>2                </td></tr>\n",
       "\t<tr><td> 746             </td><td> 0               </td><td>1                </td><td>0                </td><td>70               </td><td>WE/P 5735        </td><td>71.000           </td><td>S                </td><td>3                </td><td>small            </td><td>B                </td><td>452              </td><td>2                </td></tr>\n",
       "</tbody>\n",
       "</table>\n"
      ],
      "text/latex": [
       "\\begin{tabular}{r|lllllllllllll}\n",
       " PassengerId & Survived & Pclass & Sex & Age & Ticket & Fare & Embarked & Title & Family & Deck & TravelGroup & GroupSize\\\\\n",
       "\\hline\n",
       "\t  258    &  1      & 1       & 1       & 30      & 110152  & 86.5000 & S       & 1       & single  & B       & 231     & 3      \\\\\n",
       "\t  505    &  1      & 1       & 1       & 16      & 110152  & 86.5000 & S       & 1       & single  & B       & 231     & 3      \\\\\n",
       "\t  760    &  1      & 1       & 1       & 33      & 110152  & 86.5000 & S       & 3       & single  & B       & 231     & 3      \\\\\n",
       "\t  263    &  0      & 1       & 0       & 52      & 110413  & 79.6500 & S       & 0       & small   & E       & 235     & 3      \\\\\n",
       "\t  559    &  1      & 1       & 1       & 39      & 110413  & 79.6500 & S       & 2       & small   & E       & 235     & 3      \\\\\n",
       "\t  586    &  1      & 1       & 1       & 18      & 110413  & 79.6500 & S       & 1       & small   & E       & 235     & 3      \\\\\n",
       "\t  111    &  0      & 1       & 0       & 47      & 110465  & 52.0000 & S       & 0       & single  & C       & 108     & 2      \\\\\n",
       "\t  476    &  0      & 1       & 0       & NA      & 110465  & 52.0000 & S       & 0       & single  & A       & 108     & 2      \\\\\n",
       "\t 1227    & NA      & 1       & 0       & 30      & 110469  & 26.0000 & S       & 0       & single  & C       & 889     & 1      \\\\\n",
       "\t 1050    & NA      & 1       & 0       & 42      & 110489  & 26.5500 & S       & 0       & single  & D       & 783     & 1      \\\\\n",
       "\t  431    &  1      & 1       & 0       & 28      & 110564  & 26.5500 & S       & 0       & single  & C       & 368     & 1      \\\\\n",
       "\t  367    &  1      & 1       & 1       & 60      & 110813  & 75.2500 & C       & 2       & small   & D       & 317     & 2      \\\\\n",
       "\t 1128    & NA      & 1       & 0       & 64      & 110813  & 75.2500 & C       & 0       & small   & D       & 317     & 2      \\\\\n",
       "\t 1083    & NA      & 1       & 0       & NA      & 111163  & 26.0000 & S       & 0       & single  & NA      & 801     & 1      \\\\\n",
       "\t  171    &  0      & 1       & 0       & 61      & 111240  & 33.5000 & S       & 0       & single  & B       & 157     & 1      \\\\\n",
       "\t  463    &  0      & 1       & 0       & 47      & 111320  & 38.5000 & S       & 0       & single  & E       & 393     & 1      \\\\\n",
       "\t  330    &  1      & 1       & 1       & 16      & 111361  & 57.9792 & C       & 1       & small   & B       & 291     & 2      \\\\\n",
       "\t  524    &  1      & 1       & 1       & 44      & 111361  & 57.9792 & C       & 2       & small   & B       & 291     & 2      \\\\\n",
       "\t  890    &  1      & 1       & 0       & 26      & 111369  & 30.0000 & C       & 0       & single  & C       & 680     & 1      \\\\\n",
       "\t  605    &  1      & 1       & 0       & 35      & 111426  & 26.5500 & C       & 0       & single  & NA      & 497     & 1      \\\\\n",
       "\t  508    &  1      & 1       & 0       & NA      & 111427  & 26.5500 & S       & 0       & single  & NA      & 425     & 1      \\\\\n",
       "\t  188    &  1      & 1       & 0       & 45      & 111428  & 26.5500 & S       & 0       & single  & NA      & 170     & 1      \\\\\n",
       "\t  807    &  0      & 1       & 0       & 39      & 112050  &  0.0000 & S       & 0       & single  & A       & 629     & 1      \\\\\n",
       "\t 1158    & NA      & 1       & 0       & NA      & 112051  &  0.0000 & S       & 0       & single  & NA      & 846     & 1      \\\\\n",
       "\t  634    &  0      & 1       & 0       & NA      & 112052  &  0.0000 & S       & 0       & single  & NA      & 517     & 1      \\\\\n",
       "\t  888    &  1      & 1       & 1       & 19      & 112053  & 30.0000 & S       & 1       & single  & B       & 679     & 1      \\\\\n",
       "\t  816    &  0      & 1       & 0       & NA      & 112058  &  0.0000 & S       & 0       & single  & B       & 635     & 2      \\\\\n",
       "\t 1264    & NA      & 1       & 0       & 49      & 112058  &  0.0000 & S       & 0       & single  & B       & 635     & 2      \\\\\n",
       "\t  264    &  0      & 1       & 0       & 40      & 112059  &  0.0000 & S       & 0       & single  & B       & 236     & 1      \\\\\n",
       "\t  210    &  1      & 1       & 0       & 40      & 112277  & 31.0000 & C       & 0       & single  & A       & 188     & 1      \\\\\n",
       "\t ... & ... & ... & ... & ... & ... & ... & ... & ... & ... & ... & ... & ...\\\\\n",
       "\t  383              &  0                & 3                 & 0                 & 32                & STON/O 2. 3101293 &  7.925            & S                 & 0                 & single            & NA                & 330               & 1                \\\\\n",
       "\t  116              &  0                & 3                 & 0                 & 21                & STON/O 2. 3101294 &  7.925            & S                 & 0                 & single            & NA                & 113               & 1                \\\\\n",
       "\t  910              & NA                & 3                 & 1                 & 27                & STON/O2. 3101270  &  7.925            & S                 & 1                 & small             & NA                & 695               & 1                \\\\\n",
       "\t  730              &  0                & 3                 & 1                 & 25                & STON/O2. 3101271  &  7.925            & S                 & 1                 & small             & NA                & 580               & 1                \\\\\n",
       "\t  143              &  1                & 3                 & 1                 & 24                & STON/O2. 3101279  & 15.850            & S                 & 2                 & small             & NA                & 133               & 2                \\\\\n",
       "\t  404              &  0                & 3                 & 0                 & 28                & STON/O2. 3101279  & 15.850            & S                 & 0                 & small             & NA                & 133               & 2                \\\\\n",
       "\t    3              &  1                & 3                 & 1                 & 26                & STON/O2. 3101282  &  7.925            & S                 & 1                 & single            & NA                &   3               & 1                \\\\\n",
       "\t  217              &  1                & 3                 & 1                 & 27                & STON/O2. 3101283  &  7.925            & S                 & 1                 & single            & NA                & 195               & 1                \\\\\n",
       "\t  817              &  0                & 3                 & 1                 & 23                & STON/O2. 3101290  &  7.925            & S                 & 1                 & single            & NA                & 636               & 1                \\\\\n",
       "\t 1022              & NA                & 3                 & 0                 & 32                & STON/OQ. 369943   &  8.050            & S                 & 0                 & single            & NA                & 767               & 1                \\\\\n",
       "\t  227              &  1                & 2                 & 0                 & 19                & SW/PP 751         & 10.500            & S                 & 0                 & single            & NA                & 205               & 1                \\\\\n",
       "\t  527              &  1                & 2                 & 1                 & 50                & W./C. 14258       & 10.500            & S                 & 1                 & single            & NA                & 441               & 1                \\\\\n",
       "\t 1171              & NA                & 2                 & 0                 & 22                & W./C. 14260       & 10.500            & S                 & 0                 & single            & NA                & 854               & 1                \\\\\n",
       "\t  243              &  0                & 2                 & 0                 & 29                & W./C. 14263       & 10.500            & S                 & 0                 & single            & NA                & 217               & 1                \\\\\n",
       "\t 1114              & NA                & 2                 & 1                 & 22                & W./C. 14266       & 10.500            & S                 & 2                 & single            & F                 & 820               & 1                \\\\\n",
       "\t  784              &  0                & 3                 & 0                 & NA                & W./C. 6607        & 23.450            & S                 & 0                 & small             & NA                & 615               & 4                \\\\\n",
       "\t  889              &  0                & 3                 & 1                 & NA                & W./C. 6607        & 23.450            & S                 & 1                 & small             & NA                & 615               & 4                \\\\\n",
       "\t  925              & NA                & 3                 & 1                 & NA                & W./C. 6607        & 23.450            & S                 & 2                 & small             & NA                & 615               & 4                \\\\\n",
       "\t 1136              & NA                & 3                 & 0                 & NA                & W./C. 6607        & 23.450            & S                 & 3                 & small             & NA                & 615               & 4                \\\\\n",
       "\t   87              &  0                & 3                 & 0                 & 16                & W./C. 6608        & 34.375            & S                 & 0                 & large             & NA                &  85               & 5                \\\\\n",
       "\t  148              &  0                & 3                 & 1                 &  9                & W./C. 6608        & 34.375            & S                 & 1                 & large             & NA                &  85               & 5                \\\\\n",
       "\t  437              &  0                & 3                 & 1                 & 21                & W./C. 6608        & 34.375            & S                 & 1                 & large             & NA                &  85               & 5                \\\\\n",
       "\t  737              &  0                & 3                 & 1                 & 48                & W./C. 6608        & 34.375            & S                 & 2                 & large             & NA                &  85               & 5                \\\\\n",
       "\t 1059              & NA                & 3                 & 0                 & 18                & W./C. 6608        & 34.375            & S                 & 0                 & large             & NA                &  85               & 5                \\\\\n",
       "\t  236              &  0                & 3                 & 1                 & NA                & W./C. 6609        &  7.550            & S                 & 1                 & single            & NA                & 211               & 1                \\\\\n",
       "\t   93              &  0                & 1                 & 0                 & 46                & W.E.P. 5734       & 61.175            & S                 & 0                 & small             & E                 &  90               & 2                \\\\\n",
       "\t  906              & NA                & 1                 & 1                 & 47                & W.E.P. 5734       & 61.175            & S                 & 2                 & small             & E                 &  90               & 2                \\\\\n",
       "\t  220              &  0                & 2                 & 0                 & 30                & W/C 14208         & 10.500            & S                 & 0                 & single            & NA                & 198               & 1                \\\\\n",
       "\t  541              &  1                & 1                 & 1                 & 36                & WE/P 5735         & 71.000            & S                 & 1                 & small             & B                 & 452               & 2                \\\\\n",
       "\t  746              &  0                & 1                 & 0                 & 70                & WE/P 5735         & 71.000            & S                 & 3                 & small             & B                 & 452               & 2                \\\\\n",
       "\\end{tabular}\n"
      ],
      "text/markdown": [
       "\n",
       "PassengerId | Survived | Pclass | Sex | Age | Ticket | Fare | Embarked | Title | Family | Deck | TravelGroup | GroupSize | \n",
       "|---|---|---|---|---|---|---|---|---|---|---|---|---|---|---|---|---|---|---|---|---|---|---|---|---|---|---|---|---|---|---|---|---|---|---|---|---|---|---|---|---|---|---|---|---|---|---|---|---|---|---|---|---|---|---|---|---|---|---|---|---|\n",
       "|  258    |  1      | 1       | 1       | 30      | 110152  | 86.5000 | S       | 1       | single  | B       | 231     | 3       | \n",
       "|  505    |  1      | 1       | 1       | 16      | 110152  | 86.5000 | S       | 1       | single  | B       | 231     | 3       | \n",
       "|  760    |  1      | 1       | 1       | 33      | 110152  | 86.5000 | S       | 3       | single  | B       | 231     | 3       | \n",
       "|  263    |  0      | 1       | 0       | 52      | 110413  | 79.6500 | S       | 0       | small   | E       | 235     | 3       | \n",
       "|  559    |  1      | 1       | 1       | 39      | 110413  | 79.6500 | S       | 2       | small   | E       | 235     | 3       | \n",
       "|  586    |  1      | 1       | 1       | 18      | 110413  | 79.6500 | S       | 1       | small   | E       | 235     | 3       | \n",
       "|  111    |  0      | 1       | 0       | 47      | 110465  | 52.0000 | S       | 0       | single  | C       | 108     | 2       | \n",
       "|  476    |  0      | 1       | 0       | NA      | 110465  | 52.0000 | S       | 0       | single  | A       | 108     | 2       | \n",
       "| 1227    | NA      | 1       | 0       | 30      | 110469  | 26.0000 | S       | 0       | single  | C       | 889     | 1       | \n",
       "| 1050    | NA      | 1       | 0       | 42      | 110489  | 26.5500 | S       | 0       | single  | D       | 783     | 1       | \n",
       "|  431    |  1      | 1       | 0       | 28      | 110564  | 26.5500 | S       | 0       | single  | C       | 368     | 1       | \n",
       "|  367    |  1      | 1       | 1       | 60      | 110813  | 75.2500 | C       | 2       | small   | D       | 317     | 2       | \n",
       "| 1128    | NA      | 1       | 0       | 64      | 110813  | 75.2500 | C       | 0       | small   | D       | 317     | 2       | \n",
       "| 1083    | NA      | 1       | 0       | NA      | 111163  | 26.0000 | S       | 0       | single  | NA      | 801     | 1       | \n",
       "|  171    |  0      | 1       | 0       | 61      | 111240  | 33.5000 | S       | 0       | single  | B       | 157     | 1       | \n",
       "|  463    |  0      | 1       | 0       | 47      | 111320  | 38.5000 | S       | 0       | single  | E       | 393     | 1       | \n",
       "|  330    |  1      | 1       | 1       | 16      | 111361  | 57.9792 | C       | 1       | small   | B       | 291     | 2       | \n",
       "|  524    |  1      | 1       | 1       | 44      | 111361  | 57.9792 | C       | 2       | small   | B       | 291     | 2       | \n",
       "|  890    |  1      | 1       | 0       | 26      | 111369  | 30.0000 | C       | 0       | single  | C       | 680     | 1       | \n",
       "|  605    |  1      | 1       | 0       | 35      | 111426  | 26.5500 | C       | 0       | single  | NA      | 497     | 1       | \n",
       "|  508    |  1      | 1       | 0       | NA      | 111427  | 26.5500 | S       | 0       | single  | NA      | 425     | 1       | \n",
       "|  188    |  1      | 1       | 0       | 45      | 111428  | 26.5500 | S       | 0       | single  | NA      | 170     | 1       | \n",
       "|  807    |  0      | 1       | 0       | 39      | 112050  |  0.0000 | S       | 0       | single  | A       | 629     | 1       | \n",
       "| 1158    | NA      | 1       | 0       | NA      | 112051  |  0.0000 | S       | 0       | single  | NA      | 846     | 1       | \n",
       "|  634    |  0      | 1       | 0       | NA      | 112052  |  0.0000 | S       | 0       | single  | NA      | 517     | 1       | \n",
       "|  888    |  1      | 1       | 1       | 19      | 112053  | 30.0000 | S       | 1       | single  | B       | 679     | 1       | \n",
       "|  816    |  0      | 1       | 0       | NA      | 112058  |  0.0000 | S       | 0       | single  | B       | 635     | 2       | \n",
       "| 1264    | NA      | 1       | 0       | 49      | 112058  |  0.0000 | S       | 0       | single  | B       | 635     | 2       | \n",
       "|  264    |  0      | 1       | 0       | 40      | 112059  |  0.0000 | S       | 0       | single  | B       | 236     | 1       | \n",
       "|  210    |  1      | 1       | 0       | 40      | 112277  | 31.0000 | C       | 0       | single  | A       | 188     | 1       | \n",
       "| ... | ... | ... | ... | ... | ... | ... | ... | ... | ... | ... | ... | ... | \n",
       "|  383              |  0                | 3                 | 0                 | 32                | STON/O 2. 3101293 |  7.925            | S                 | 0                 | single            | NA                | 330               | 1                 | \n",
       "|  116              |  0                | 3                 | 0                 | 21                | STON/O 2. 3101294 |  7.925            | S                 | 0                 | single            | NA                | 113               | 1                 | \n",
       "|  910              | NA                | 3                 | 1                 | 27                | STON/O2. 3101270  |  7.925            | S                 | 1                 | small             | NA                | 695               | 1                 | \n",
       "|  730              |  0                | 3                 | 1                 | 25                | STON/O2. 3101271  |  7.925            | S                 | 1                 | small             | NA                | 580               | 1                 | \n",
       "|  143              |  1                | 3                 | 1                 | 24                | STON/O2. 3101279  | 15.850            | S                 | 2                 | small             | NA                | 133               | 2                 | \n",
       "|  404              |  0                | 3                 | 0                 | 28                | STON/O2. 3101279  | 15.850            | S                 | 0                 | small             | NA                | 133               | 2                 | \n",
       "|    3              |  1                | 3                 | 1                 | 26                | STON/O2. 3101282  |  7.925            | S                 | 1                 | single            | NA                |   3               | 1                 | \n",
       "|  217              |  1                | 3                 | 1                 | 27                | STON/O2. 3101283  |  7.925            | S                 | 1                 | single            | NA                | 195               | 1                 | \n",
       "|  817              |  0                | 3                 | 1                 | 23                | STON/O2. 3101290  |  7.925            | S                 | 1                 | single            | NA                | 636               | 1                 | \n",
       "| 1022              | NA                | 3                 | 0                 | 32                | STON/OQ. 369943   |  8.050            | S                 | 0                 | single            | NA                | 767               | 1                 | \n",
       "|  227              |  1                | 2                 | 0                 | 19                | SW/PP 751         | 10.500            | S                 | 0                 | single            | NA                | 205               | 1                 | \n",
       "|  527              |  1                | 2                 | 1                 | 50                | W./C. 14258       | 10.500            | S                 | 1                 | single            | NA                | 441               | 1                 | \n",
       "| 1171              | NA                | 2                 | 0                 | 22                | W./C. 14260       | 10.500            | S                 | 0                 | single            | NA                | 854               | 1                 | \n",
       "|  243              |  0                | 2                 | 0                 | 29                | W./C. 14263       | 10.500            | S                 | 0                 | single            | NA                | 217               | 1                 | \n",
       "| 1114              | NA                | 2                 | 1                 | 22                | W./C. 14266       | 10.500            | S                 | 2                 | single            | F                 | 820               | 1                 | \n",
       "|  784              |  0                | 3                 | 0                 | NA                | W./C. 6607        | 23.450            | S                 | 0                 | small             | NA                | 615               | 4                 | \n",
       "|  889              |  0                | 3                 | 1                 | NA                | W./C. 6607        | 23.450            | S                 | 1                 | small             | NA                | 615               | 4                 | \n",
       "|  925              | NA                | 3                 | 1                 | NA                | W./C. 6607        | 23.450            | S                 | 2                 | small             | NA                | 615               | 4                 | \n",
       "| 1136              | NA                | 3                 | 0                 | NA                | W./C. 6607        | 23.450            | S                 | 3                 | small             | NA                | 615               | 4                 | \n",
       "|   87              |  0                | 3                 | 0                 | 16                | W./C. 6608        | 34.375            | S                 | 0                 | large             | NA                |  85               | 5                 | \n",
       "|  148              |  0                | 3                 | 1                 |  9                | W./C. 6608        | 34.375            | S                 | 1                 | large             | NA                |  85               | 5                 | \n",
       "|  437              |  0                | 3                 | 1                 | 21                | W./C. 6608        | 34.375            | S                 | 1                 | large             | NA                |  85               | 5                 | \n",
       "|  737              |  0                | 3                 | 1                 | 48                | W./C. 6608        | 34.375            | S                 | 2                 | large             | NA                |  85               | 5                 | \n",
       "| 1059              | NA                | 3                 | 0                 | 18                | W./C. 6608        | 34.375            | S                 | 0                 | large             | NA                |  85               | 5                 | \n",
       "|  236              |  0                | 3                 | 1                 | NA                | W./C. 6609        |  7.550            | S                 | 1                 | single            | NA                | 211               | 1                 | \n",
       "|   93              |  0                | 1                 | 0                 | 46                | W.E.P. 5734       | 61.175            | S                 | 0                 | small             | E                 |  90               | 2                 | \n",
       "|  906              | NA                | 1                 | 1                 | 47                | W.E.P. 5734       | 61.175            | S                 | 2                 | small             | E                 |  90               | 2                 | \n",
       "|  220              |  0                | 2                 | 0                 | 30                | W/C 14208         | 10.500            | S                 | 0                 | single            | NA                | 198               | 1                 | \n",
       "|  541              |  1                | 1                 | 1                 | 36                | WE/P 5735         | 71.000            | S                 | 1                 | small             | B                 | 452               | 2                 | \n",
       "|  746              |  0                | 1                 | 0                 | 70                | WE/P 5735         | 71.000            | S                 | 3                 | small             | B                 | 452               | 2                 | \n",
       "\n",
       "\n"
      ],
      "text/plain": [
       "     PassengerId Survived Pclass Sex Age Ticket            Fare    Embarked\n",
       "1     258         1       1      1   30  110152            86.5000 S       \n",
       "2     505         1       1      1   16  110152            86.5000 S       \n",
       "3     760         1       1      1   33  110152            86.5000 S       \n",
       "4     263         0       1      0   52  110413            79.6500 S       \n",
       "5     559         1       1      1   39  110413            79.6500 S       \n",
       "6     586         1       1      1   18  110413            79.6500 S       \n",
       "7     111         0       1      0   47  110465            52.0000 S       \n",
       "8     476         0       1      0   NA  110465            52.0000 S       \n",
       "9    1227        NA       1      0   30  110469            26.0000 S       \n",
       "10   1050        NA       1      0   42  110489            26.5500 S       \n",
       "11    431         1       1      0   28  110564            26.5500 S       \n",
       "12    367         1       1      1   60  110813            75.2500 C       \n",
       "13   1128        NA       1      0   64  110813            75.2500 C       \n",
       "14   1083        NA       1      0   NA  111163            26.0000 S       \n",
       "15    171         0       1      0   61  111240            33.5000 S       \n",
       "16    463         0       1      0   47  111320            38.5000 S       \n",
       "17    330         1       1      1   16  111361            57.9792 C       \n",
       "18    524         1       1      1   44  111361            57.9792 C       \n",
       "19    890         1       1      0   26  111369            30.0000 C       \n",
       "20    605         1       1      0   35  111426            26.5500 C       \n",
       "21    508         1       1      0   NA  111427            26.5500 S       \n",
       "22    188         1       1      0   45  111428            26.5500 S       \n",
       "23    807         0       1      0   39  112050             0.0000 S       \n",
       "24   1158        NA       1      0   NA  112051             0.0000 S       \n",
       "25    634         0       1      0   NA  112052             0.0000 S       \n",
       "26    888         1       1      1   19  112053            30.0000 S       \n",
       "27    816         0       1      0   NA  112058             0.0000 S       \n",
       "28   1264        NA       1      0   49  112058             0.0000 S       \n",
       "29    264         0       1      0   40  112059             0.0000 S       \n",
       "30    210         1       1      0   40  112277            31.0000 C       \n",
       "...  ...         ...      ...    ... ... ...               ...     ...     \n",
       "1280  383         0       3      0   32  STON/O 2. 3101293  7.925  S       \n",
       "1281  116         0       3      0   21  STON/O 2. 3101294  7.925  S       \n",
       "1282  910        NA       3      1   27  STON/O2. 3101270   7.925  S       \n",
       "1283  730         0       3      1   25  STON/O2. 3101271   7.925  S       \n",
       "1284  143         1       3      1   24  STON/O2. 3101279  15.850  S       \n",
       "1285  404         0       3      0   28  STON/O2. 3101279  15.850  S       \n",
       "1286    3         1       3      1   26  STON/O2. 3101282   7.925  S       \n",
       "1287  217         1       3      1   27  STON/O2. 3101283   7.925  S       \n",
       "1288  817         0       3      1   23  STON/O2. 3101290   7.925  S       \n",
       "1289 1022        NA       3      0   32  STON/OQ. 369943    8.050  S       \n",
       "1290  227         1       2      0   19  SW/PP 751         10.500  S       \n",
       "1291  527         1       2      1   50  W./C. 14258       10.500  S       \n",
       "1292 1171        NA       2      0   22  W./C. 14260       10.500  S       \n",
       "1293  243         0       2      0   29  W./C. 14263       10.500  S       \n",
       "1294 1114        NA       2      1   22  W./C. 14266       10.500  S       \n",
       "1295  784         0       3      0   NA  W./C. 6607        23.450  S       \n",
       "1296  889         0       3      1   NA  W./C. 6607        23.450  S       \n",
       "1297  925        NA       3      1   NA  W./C. 6607        23.450  S       \n",
       "1298 1136        NA       3      0   NA  W./C. 6607        23.450  S       \n",
       "1299   87         0       3      0   16  W./C. 6608        34.375  S       \n",
       "1300  148         0       3      1    9  W./C. 6608        34.375  S       \n",
       "1301  437         0       3      1   21  W./C. 6608        34.375  S       \n",
       "1302  737         0       3      1   48  W./C. 6608        34.375  S       \n",
       "1303 1059        NA       3      0   18  W./C. 6608        34.375  S       \n",
       "1304  236         0       3      1   NA  W./C. 6609         7.550  S       \n",
       "1305   93         0       1      0   46  W.E.P. 5734       61.175  S       \n",
       "1306  906        NA       1      1   47  W.E.P. 5734       61.175  S       \n",
       "1307  220         0       2      0   30  W/C 14208         10.500  S       \n",
       "1308  541         1       1      1   36  WE/P 5735         71.000  S       \n",
       "1309  746         0       1      0   70  WE/P 5735         71.000  S       \n",
       "     Title Family Deck TravelGroup GroupSize\n",
       "1    1     single B    231         3        \n",
       "2    1     single B    231         3        \n",
       "3    3     single B    231         3        \n",
       "4    0     small  E    235         3        \n",
       "5    2     small  E    235         3        \n",
       "6    1     small  E    235         3        \n",
       "7    0     single C    108         2        \n",
       "8    0     single A    108         2        \n",
       "9    0     single C    889         1        \n",
       "10   0     single D    783         1        \n",
       "11   0     single C    368         1        \n",
       "12   2     small  D    317         2        \n",
       "13   0     small  D    317         2        \n",
       "14   0     single NA   801         1        \n",
       "15   0     single B    157         1        \n",
       "16   0     single E    393         1        \n",
       "17   1     small  B    291         2        \n",
       "18   2     small  B    291         2        \n",
       "19   0     single C    680         1        \n",
       "20   0     single NA   497         1        \n",
       "21   0     single NA   425         1        \n",
       "22   0     single NA   170         1        \n",
       "23   0     single A    629         1        \n",
       "24   0     single NA   846         1        \n",
       "25   0     single NA   517         1        \n",
       "26   1     single B    679         1        \n",
       "27   0     single B    635         2        \n",
       "28   0     single B    635         2        \n",
       "29   0     single B    236         1        \n",
       "30   0     single A    188         1        \n",
       "...  ...   ...    ...  ...         ...      \n",
       "1280 0     single NA   330         1        \n",
       "1281 0     single NA   113         1        \n",
       "1282 1     small  NA   695         1        \n",
       "1283 1     small  NA   580         1        \n",
       "1284 2     small  NA   133         2        \n",
       "1285 0     small  NA   133         2        \n",
       "1286 1     single NA     3         1        \n",
       "1287 1     single NA   195         1        \n",
       "1288 1     single NA   636         1        \n",
       "1289 0     single NA   767         1        \n",
       "1290 0     single NA   205         1        \n",
       "1291 1     single NA   441         1        \n",
       "1292 0     single NA   854         1        \n",
       "1293 0     single NA   217         1        \n",
       "1294 2     single F    820         1        \n",
       "1295 0     small  NA   615         4        \n",
       "1296 1     small  NA   615         4        \n",
       "1297 2     small  NA   615         4        \n",
       "1298 3     small  NA   615         4        \n",
       "1299 0     large  NA    85         5        \n",
       "1300 1     large  NA    85         5        \n",
       "1301 1     large  NA    85         5        \n",
       "1302 2     large  NA    85         5        \n",
       "1303 0     large  NA    85         5        \n",
       "1304 1     single NA   211         1        \n",
       "1305 0     small  E     90         2        \n",
       "1306 2     small  E     90         2        \n",
       "1307 0     single NA   198         1        \n",
       "1308 1     small  B    452         2        \n",
       "1309 3     small  B    452         2        "
      ]
     },
     "metadata": {},
     "output_type": "display_data"
    }
   ],
   "source": [
    "full  %>% arrange(Ticket)"
   ]
  },
  {
   "cell_type": "code",
   "execution_count": 349,
   "metadata": {
    "scrolled": true
   },
   "outputs": [
    {
     "data": {
      "text/html": [
       "<table>\n",
       "<thead><tr><th scope=col>PassengerId</th><th scope=col>Survived</th><th scope=col>Pclass</th><th scope=col>Sex</th><th scope=col>Age</th><th scope=col>Ticket</th><th scope=col>Fare</th><th scope=col>Embarked</th><th scope=col>Title</th><th scope=col>Family</th><th scope=col>Deck</th><th scope=col>TravelGroup</th><th scope=col>GroupSize</th></tr></thead>\n",
       "<tbody>\n",
       "\t<tr><td>   1             </td><td> 0               </td><td>3                </td><td>0                </td><td>22               </td><td>A/5 21171        </td><td> 7.2500          </td><td>S                </td><td>0                </td><td>small            </td><td>NA               </td><td>  1              </td><td>1                </td></tr>\n",
       "\t<tr><td>  41             </td><td> 0               </td><td>3                </td><td>1                </td><td>40               </td><td>7546             </td><td> 9.4750          </td><td>S                </td><td>2                </td><td>small            </td><td>NA               </td><td> 40              </td><td>1                </td></tr>\n",
       "\t<tr><td>  69             </td><td> 1               </td><td>3                </td><td>1                </td><td>17               </td><td>3101281          </td><td> 7.9250          </td><td>S                </td><td>1                </td><td>large            </td><td>NA               </td><td> 68              </td><td>1                </td></tr>\n",
       "\t<tr><td>  70             </td><td> 0               </td><td>3                </td><td>0                </td><td>26               </td><td>315151           </td><td> 8.6625          </td><td>S                </td><td>0                </td><td>small            </td><td>NA               </td><td> 69              </td><td>1                </td></tr>\n",
       "\t<tr><td> 105             </td><td> 0               </td><td>3                </td><td>0                </td><td>37               </td><td>3101276          </td><td> 7.9250          </td><td>S                </td><td>0                </td><td>small            </td><td>NA               </td><td>102              </td><td>1                </td></tr>\n",
       "\t<tr><td> 114             </td><td> 0               </td><td>3                </td><td>1                </td><td>20               </td><td>4136             </td><td> 9.8250          </td><td>S                </td><td>1                </td><td>small            </td><td>NA               </td><td>111              </td><td>1                </td></tr>\n",
       "\t<tr><td> 137             </td><td> 1               </td><td>1                </td><td>1                </td><td>19               </td><td>11752            </td><td>26.2833          </td><td>S                </td><td>1                </td><td>small            </td><td>D                </td><td>128              </td><td>1                </td></tr>\n",
       "\t<tr><td> 176             </td><td> 0               </td><td>3                </td><td>0                </td><td>18               </td><td>350404           </td><td> 7.8542          </td><td>S                </td><td>0                </td><td>small            </td><td>NA               </td><td>160              </td><td>1                </td></tr>\n",
       "\t<tr><td> 193             </td><td> 1               </td><td>3                </td><td>1                </td><td>19               </td><td>350046           </td><td> 7.8542          </td><td>S                </td><td>1                </td><td>small            </td><td>NA               </td><td>175              </td><td>1                </td></tr>\n",
       "\t<tr><td> 198             </td><td> 0               </td><td>3                </td><td>0                </td><td>42               </td><td>4579             </td><td> 8.4042          </td><td>S                </td><td>0                </td><td>small            </td><td>NA               </td><td>178              </td><td>1                </td></tr>\n",
       "\t<tr><td> 215             </td><td> 0               </td><td>3                </td><td>0                </td><td>NA               </td><td>367229           </td><td> 7.7500          </td><td>Q                </td><td>0                </td><td>small            </td><td>NA               </td><td>193              </td><td>1                </td></tr>\n",
       "\t<tr><td> 268             </td><td> 1               </td><td>3                </td><td>0                </td><td>25               </td><td>347083           </td><td> 7.7750          </td><td>S                </td><td>0                </td><td>small            </td><td>NA               </td><td>239              </td><td>1                </td></tr>\n",
       "\t<tr><td> 274             </td><td> 0               </td><td>1                </td><td>0                </td><td>37               </td><td>PC 17596         </td><td>29.7000          </td><td>C                </td><td>0                </td><td>small            </td><td>C                </td><td>244              </td><td>1                </td></tr>\n",
       "\t<tr><td> 353             </td><td> 0               </td><td>3                </td><td>0                </td><td>15               </td><td>2695             </td><td> 7.2292          </td><td>C                </td><td>0                </td><td>small            </td><td>NA               </td><td>307              </td><td>1                </td></tr>\n",
       "\t<tr><td> 372             </td><td> 0               </td><td>3                </td><td>0                </td><td>18               </td><td>3101267          </td><td> 6.4958          </td><td>S                </td><td>0                </td><td>small            </td><td>NA               </td><td>322              </td><td>1                </td></tr>\n",
       "\t<tr><td> 393             </td><td> 0               </td><td>3                </td><td>0                </td><td>28               </td><td>3101277          </td><td> 7.9250          </td><td>S                </td><td>0                </td><td>small            </td><td>NA               </td><td>337              </td><td>1                </td></tr>\n",
       "\t<tr><td> 403             </td><td> 0               </td><td>3                </td><td>1                </td><td>21               </td><td>4137             </td><td> 9.8250          </td><td>S                </td><td>1                </td><td>small            </td><td>NA               </td><td>345              </td><td>1                </td></tr>\n",
       "\t<tr><td> 418             </td><td> 1               </td><td>2                </td><td>1                </td><td>18               </td><td>250652           </td><td>13.0000          </td><td>S                </td><td>1                </td><td>small            </td><td>NA               </td><td>356              </td><td>1                </td></tr>\n",
       "\t<tr><td> 443             </td><td> 0               </td><td>3                </td><td>0                </td><td>25               </td><td>347076           </td><td> 7.7750          </td><td>S                </td><td>0                </td><td>small            </td><td>NA               </td><td>375              </td><td>1                </td></tr>\n",
       "\t<tr><td> 452             </td><td> 0               </td><td>3                </td><td>0                </td><td>NA               </td><td>65303            </td><td>19.9667          </td><td>S                </td><td>0                </td><td>small            </td><td>NA               </td><td>382              </td><td>1                </td></tr>\n",
       "\t<tr><td> 478             </td><td> 0               </td><td>3                </td><td>0                </td><td>29               </td><td>3460             </td><td> 7.0458          </td><td>S                </td><td>0                </td><td>small            </td><td>NA               </td><td>404              </td><td>1                </td></tr>\n",
       "\t<tr><td> 491             </td><td> 0               </td><td>3                </td><td>0                </td><td>NA               </td><td>65304            </td><td>19.9667          </td><td>S                </td><td>0                </td><td>small            </td><td>NA               </td><td>412              </td><td>1                </td></tr>\n",
       "\t<tr><td> 530             </td><td> 0               </td><td>2                </td><td>0                </td><td>23               </td><td>29104            </td><td>11.5000          </td><td>S                </td><td>0                </td><td>small            </td><td>NA               </td><td>444              </td><td>1                </td></tr>\n",
       "\t<tr><td> 533             </td><td> 0               </td><td>3                </td><td>0                </td><td>17               </td><td>2690             </td><td> 7.2292          </td><td>C                </td><td>0                </td><td>small            </td><td>NA               </td><td>446              </td><td>1                </td></tr>\n",
       "\t<tr><td> 540             </td><td> 1               </td><td>1                </td><td>1                </td><td>22               </td><td>13568            </td><td>49.5000          </td><td>C                </td><td>1                </td><td>small            </td><td>B                </td><td>451              </td><td>1                </td></tr>\n",
       "\t<tr><td> 557             </td><td> 1               </td><td>1                </td><td>1                </td><td>48               </td><td>11755            </td><td>39.6000          </td><td>C                </td><td>3                </td><td>small            </td><td>A                </td><td>461              </td><td>1                </td></tr>\n",
       "\t<tr><td> 594             </td><td> 0               </td><td>3                </td><td>1                </td><td>NA               </td><td>364848           </td><td> 7.7500          </td><td>Q                </td><td>1                </td><td>small            </td><td>NA               </td><td>490              </td><td>1                </td></tr>\n",
       "\t<tr><td> 665             </td><td> 1               </td><td>3                </td><td>0                </td><td>20               </td><td>STON/O 2. 3101285</td><td> 7.9250          </td><td>S                </td><td>0                </td><td>small            </td><td>NA               </td><td>534              </td><td>1                </td></tr>\n",
       "\t<tr><td> 705             </td><td> 0               </td><td>3                </td><td>0                </td><td>26               </td><td>350025           </td><td> 7.8542          </td><td>S                </td><td>0                </td><td>small            </td><td>NA               </td><td>562              </td><td>1                </td></tr>\n",
       "\t<tr><td> 722             </td><td> 0               </td><td>3                </td><td>0                </td><td>17               </td><td>350048           </td><td> 7.0542          </td><td>S                </td><td>0                </td><td>small            </td><td>NA               </td><td>573              </td><td>1                </td></tr>\n",
       "\t<tr><td> 730             </td><td> 0               </td><td>3                </td><td>1                </td><td>25               </td><td>STON/O2. 3101271 </td><td> 7.9250          </td><td>S                </td><td>1                </td><td>small            </td><td>NA               </td><td>580              </td><td>1                </td></tr>\n",
       "\t<tr><td> 862             </td><td> 0               </td><td>2                </td><td>0                </td><td>21               </td><td>28134            </td><td>11.5000          </td><td>S                </td><td>0                </td><td>small            </td><td>NA               </td><td>661              </td><td>1                </td></tr>\n",
       "\t<tr><td> 867             </td><td> 1               </td><td>2                </td><td>1                </td><td>27               </td><td>SC/PARIS 2149    </td><td>13.8583          </td><td>C                </td><td>1                </td><td>small            </td><td>NA               </td><td>665              </td><td>1                </td></tr>\n",
       "\t<tr><td> 893             </td><td>NA               </td><td>3                </td><td>1                </td><td>47               </td><td>363272           </td><td> 7.0000          </td><td>S                </td><td>2                </td><td>small            </td><td>NA               </td><td>683              </td><td>1                </td></tr>\n",
       "\t<tr><td> 910             </td><td>NA               </td><td>3                </td><td>1                </td><td>27               </td><td>STON/O2. 3101270 </td><td> 7.9250          </td><td>S                </td><td>1                </td><td>small            </td><td>NA               </td><td>695              </td><td>1                </td></tr>\n",
       "\t<tr><td> 913             </td><td>NA               </td><td>3                </td><td>0                </td><td> 9               </td><td>C 17368          </td><td> 3.1708          </td><td>S                </td><td>3                </td><td>small            </td><td>NA               </td><td>697              </td><td>1                </td></tr>\n",
       "\t<tr><td> 969             </td><td>NA               </td><td>1                </td><td>1                </td><td>55               </td><td>11770            </td><td>25.7000          </td><td>S                </td><td>2                </td><td>small            </td><td>C                </td><td>730              </td><td>1                </td></tr>\n",
       "\t<tr><td>1013             </td><td>NA               </td><td>3                </td><td>0                </td><td>NA               </td><td>367227           </td><td> 7.7500          </td><td>Q                </td><td>0                </td><td>small            </td><td>NA               </td><td>761              </td><td>1                </td></tr>\n",
       "\t<tr><td>1025             </td><td>NA               </td><td>3                </td><td>0                </td><td>NA               </td><td>2621             </td><td> 6.4375          </td><td>C                </td><td>0                </td><td>small            </td><td>NA               </td><td>769              </td><td>1                </td></tr>\n",
       "\t<tr><td>1079             </td><td>NA               </td><td>3                </td><td>0                </td><td>17               </td><td>A/4 48873        </td><td> 8.0500          </td><td>S                </td><td>0                </td><td>small            </td><td>NA               </td><td>799              </td><td>1                </td></tr>\n",
       "\t<tr><td>1106             </td><td>NA               </td><td>3                </td><td>1                </td><td>38               </td><td>347091           </td><td> 7.7750          </td><td>S                </td><td>1                </td><td>large            </td><td>NA               </td><td>814              </td><td>1                </td></tr>\n",
       "\t<tr><td>1112             </td><td>NA               </td><td>2                </td><td>1                </td><td>30               </td><td>SC/PARIS 2148    </td><td>13.8583          </td><td>C                </td><td>1                </td><td>small            </td><td>NA               </td><td>818              </td><td>1                </td></tr>\n",
       "\t<tr><td>1124             </td><td>NA               </td><td>3                </td><td>0                </td><td>21               </td><td>3101266          </td><td> 6.4958          </td><td>S                </td><td>0                </td><td>small            </td><td>NA               </td><td>827              </td><td>1                </td></tr>\n",
       "\t<tr><td>1130             </td><td>NA               </td><td>2                </td><td>1                </td><td>18               </td><td>250650           </td><td>13.0000          </td><td>S                </td><td>1                </td><td>small            </td><td>NA               </td><td>831              </td><td>1                </td></tr>\n",
       "\t<tr><td>1197             </td><td>NA               </td><td>1                </td><td>1                </td><td>64               </td><td>112901           </td><td>26.5500          </td><td>S                </td><td>2                </td><td>small            </td><td>B                </td><td>872              </td><td>1                </td></tr>\n",
       "\t<tr><td>1229             </td><td>NA               </td><td>3                </td><td>0                </td><td>39               </td><td>2675             </td><td> 7.2292          </td><td>C                </td><td>0                </td><td>small            </td><td>NA               </td><td>891              </td><td>1                </td></tr>\n",
       "\t<tr><td>1262             </td><td>NA               </td><td>2                </td><td>0                </td><td>21               </td><td>28133            </td><td>11.5000          </td><td>S                </td><td>0                </td><td>small            </td><td>NA               </td><td>906              </td><td>1                </td></tr>\n",
       "\t<tr><td>1268             </td><td>NA               </td><td>3                </td><td>1                </td><td>22               </td><td>315152           </td><td> 8.6625          </td><td>S                </td><td>1                </td><td>small            </td><td>NA               </td><td>908              </td><td>1                </td></tr>\n",
       "\t<tr><td>1296             </td><td>NA               </td><td>1                </td><td>0                </td><td>43               </td><td>17765            </td><td>27.7208          </td><td>C                </td><td>0                </td><td>small            </td><td>D                </td><td>921              </td><td>1                </td></tr>\n",
       "\t<tr><td>1298             </td><td>NA               </td><td>2                </td><td>0                </td><td>23               </td><td>28666            </td><td>10.5000          </td><td>S                </td><td>0                </td><td>small            </td><td>NA               </td><td>923              </td><td>1                </td></tr>\n",
       "</tbody>\n",
       "</table>\n"
      ],
      "text/latex": [
       "\\begin{tabular}{r|lllllllllllll}\n",
       " PassengerId & Survived & Pclass & Sex & Age & Ticket & Fare & Embarked & Title & Family & Deck & TravelGroup & GroupSize\\\\\n",
       "\\hline\n",
       "\t    1              &  0                & 3                 & 0                 & 22                & A/5 21171         &  7.2500           & S                 & 0                 & small             & NA                &   1               & 1                \\\\\n",
       "\t   41              &  0                & 3                 & 1                 & 40                & 7546              &  9.4750           & S                 & 2                 & small             & NA                &  40               & 1                \\\\\n",
       "\t   69              &  1                & 3                 & 1                 & 17                & 3101281           &  7.9250           & S                 & 1                 & large             & NA                &  68               & 1                \\\\\n",
       "\t   70              &  0                & 3                 & 0                 & 26                & 315151            &  8.6625           & S                 & 0                 & small             & NA                &  69               & 1                \\\\\n",
       "\t  105              &  0                & 3                 & 0                 & 37                & 3101276           &  7.9250           & S                 & 0                 & small             & NA                & 102               & 1                \\\\\n",
       "\t  114              &  0                & 3                 & 1                 & 20                & 4136              &  9.8250           & S                 & 1                 & small             & NA                & 111               & 1                \\\\\n",
       "\t  137              &  1                & 1                 & 1                 & 19                & 11752             & 26.2833           & S                 & 1                 & small             & D                 & 128               & 1                \\\\\n",
       "\t  176              &  0                & 3                 & 0                 & 18                & 350404            &  7.8542           & S                 & 0                 & small             & NA                & 160               & 1                \\\\\n",
       "\t  193              &  1                & 3                 & 1                 & 19                & 350046            &  7.8542           & S                 & 1                 & small             & NA                & 175               & 1                \\\\\n",
       "\t  198              &  0                & 3                 & 0                 & 42                & 4579              &  8.4042           & S                 & 0                 & small             & NA                & 178               & 1                \\\\\n",
       "\t  215              &  0                & 3                 & 0                 & NA                & 367229            &  7.7500           & Q                 & 0                 & small             & NA                & 193               & 1                \\\\\n",
       "\t  268              &  1                & 3                 & 0                 & 25                & 347083            &  7.7750           & S                 & 0                 & small             & NA                & 239               & 1                \\\\\n",
       "\t  274              &  0                & 1                 & 0                 & 37                & PC 17596          & 29.7000           & C                 & 0                 & small             & C                 & 244               & 1                \\\\\n",
       "\t  353              &  0                & 3                 & 0                 & 15                & 2695              &  7.2292           & C                 & 0                 & small             & NA                & 307               & 1                \\\\\n",
       "\t  372              &  0                & 3                 & 0                 & 18                & 3101267           &  6.4958           & S                 & 0                 & small             & NA                & 322               & 1                \\\\\n",
       "\t  393              &  0                & 3                 & 0                 & 28                & 3101277           &  7.9250           & S                 & 0                 & small             & NA                & 337               & 1                \\\\\n",
       "\t  403              &  0                & 3                 & 1                 & 21                & 4137              &  9.8250           & S                 & 1                 & small             & NA                & 345               & 1                \\\\\n",
       "\t  418              &  1                & 2                 & 1                 & 18                & 250652            & 13.0000           & S                 & 1                 & small             & NA                & 356               & 1                \\\\\n",
       "\t  443              &  0                & 3                 & 0                 & 25                & 347076            &  7.7750           & S                 & 0                 & small             & NA                & 375               & 1                \\\\\n",
       "\t  452              &  0                & 3                 & 0                 & NA                & 65303             & 19.9667           & S                 & 0                 & small             & NA                & 382               & 1                \\\\\n",
       "\t  478              &  0                & 3                 & 0                 & 29                & 3460              &  7.0458           & S                 & 0                 & small             & NA                & 404               & 1                \\\\\n",
       "\t  491              &  0                & 3                 & 0                 & NA                & 65304             & 19.9667           & S                 & 0                 & small             & NA                & 412               & 1                \\\\\n",
       "\t  530              &  0                & 2                 & 0                 & 23                & 29104             & 11.5000           & S                 & 0                 & small             & NA                & 444               & 1                \\\\\n",
       "\t  533              &  0                & 3                 & 0                 & 17                & 2690              &  7.2292           & C                 & 0                 & small             & NA                & 446               & 1                \\\\\n",
       "\t  540              &  1                & 1                 & 1                 & 22                & 13568             & 49.5000           & C                 & 1                 & small             & B                 & 451               & 1                \\\\\n",
       "\t  557              &  1                & 1                 & 1                 & 48                & 11755             & 39.6000           & C                 & 3                 & small             & A                 & 461               & 1                \\\\\n",
       "\t  594              &  0                & 3                 & 1                 & NA                & 364848            &  7.7500           & Q                 & 1                 & small             & NA                & 490               & 1                \\\\\n",
       "\t  665              &  1                & 3                 & 0                 & 20                & STON/O 2. 3101285 &  7.9250           & S                 & 0                 & small             & NA                & 534               & 1                \\\\\n",
       "\t  705              &  0                & 3                 & 0                 & 26                & 350025            &  7.8542           & S                 & 0                 & small             & NA                & 562               & 1                \\\\\n",
       "\t  722              &  0                & 3                 & 0                 & 17                & 350048            &  7.0542           & S                 & 0                 & small             & NA                & 573               & 1                \\\\\n",
       "\t  730              &  0                & 3                 & 1                 & 25                & STON/O2. 3101271  &  7.9250           & S                 & 1                 & small             & NA                & 580               & 1                \\\\\n",
       "\t  862              &  0                & 2                 & 0                 & 21                & 28134             & 11.5000           & S                 & 0                 & small             & NA                & 661               & 1                \\\\\n",
       "\t  867              &  1                & 2                 & 1                 & 27                & SC/PARIS 2149     & 13.8583           & C                 & 1                 & small             & NA                & 665               & 1                \\\\\n",
       "\t  893              & NA                & 3                 & 1                 & 47                & 363272            &  7.0000           & S                 & 2                 & small             & NA                & 683               & 1                \\\\\n",
       "\t  910              & NA                & 3                 & 1                 & 27                & STON/O2. 3101270  &  7.9250           & S                 & 1                 & small             & NA                & 695               & 1                \\\\\n",
       "\t  913              & NA                & 3                 & 0                 &  9                & C 17368           &  3.1708           & S                 & 3                 & small             & NA                & 697               & 1                \\\\\n",
       "\t  969              & NA                & 1                 & 1                 & 55                & 11770             & 25.7000           & S                 & 2                 & small             & C                 & 730               & 1                \\\\\n",
       "\t 1013              & NA                & 3                 & 0                 & NA                & 367227            &  7.7500           & Q                 & 0                 & small             & NA                & 761               & 1                \\\\\n",
       "\t 1025              & NA                & 3                 & 0                 & NA                & 2621              &  6.4375           & C                 & 0                 & small             & NA                & 769               & 1                \\\\\n",
       "\t 1079              & NA                & 3                 & 0                 & 17                & A/4 48873         &  8.0500           & S                 & 0                 & small             & NA                & 799               & 1                \\\\\n",
       "\t 1106              & NA                & 3                 & 1                 & 38                & 347091            &  7.7750           & S                 & 1                 & large             & NA                & 814               & 1                \\\\\n",
       "\t 1112              & NA                & 2                 & 1                 & 30                & SC/PARIS 2148     & 13.8583           & C                 & 1                 & small             & NA                & 818               & 1                \\\\\n",
       "\t 1124              & NA                & 3                 & 0                 & 21                & 3101266           &  6.4958           & S                 & 0                 & small             & NA                & 827               & 1                \\\\\n",
       "\t 1130              & NA                & 2                 & 1                 & 18                & 250650            & 13.0000           & S                 & 1                 & small             & NA                & 831               & 1                \\\\\n",
       "\t 1197              & NA                & 1                 & 1                 & 64                & 112901            & 26.5500           & S                 & 2                 & small             & B                 & 872               & 1                \\\\\n",
       "\t 1229              & NA                & 3                 & 0                 & 39                & 2675              &  7.2292           & C                 & 0                 & small             & NA                & 891               & 1                \\\\\n",
       "\t 1262              & NA                & 2                 & 0                 & 21                & 28133             & 11.5000           & S                 & 0                 & small             & NA                & 906               & 1                \\\\\n",
       "\t 1268              & NA                & 3                 & 1                 & 22                & 315152            &  8.6625           & S                 & 1                 & small             & NA                & 908               & 1                \\\\\n",
       "\t 1296              & NA                & 1                 & 0                 & 43                & 17765             & 27.7208           & C                 & 0                 & small             & D                 & 921               & 1                \\\\\n",
       "\t 1298              & NA                & 2                 & 0                 & 23                & 28666             & 10.5000           & S                 & 0                 & small             & NA                & 923               & 1                \\\\\n",
       "\\end{tabular}\n"
      ],
      "text/markdown": [
       "\n",
       "PassengerId | Survived | Pclass | Sex | Age | Ticket | Fare | Embarked | Title | Family | Deck | TravelGroup | GroupSize | \n",
       "|---|---|---|---|---|---|---|---|---|---|---|---|---|---|---|---|---|---|---|---|---|---|---|---|---|---|---|---|---|---|---|---|---|---|---|---|---|---|---|---|---|---|---|---|---|---|---|---|---|---|\n",
       "|    1              |  0                | 3                 | 0                 | 22                | A/5 21171         |  7.2500           | S                 | 0                 | small             | NA                |   1               | 1                 | \n",
       "|   41              |  0                | 3                 | 1                 | 40                | 7546              |  9.4750           | S                 | 2                 | small             | NA                |  40               | 1                 | \n",
       "|   69              |  1                | 3                 | 1                 | 17                | 3101281           |  7.9250           | S                 | 1                 | large             | NA                |  68               | 1                 | \n",
       "|   70              |  0                | 3                 | 0                 | 26                | 315151            |  8.6625           | S                 | 0                 | small             | NA                |  69               | 1                 | \n",
       "|  105              |  0                | 3                 | 0                 | 37                | 3101276           |  7.9250           | S                 | 0                 | small             | NA                | 102               | 1                 | \n",
       "|  114              |  0                | 3                 | 1                 | 20                | 4136              |  9.8250           | S                 | 1                 | small             | NA                | 111               | 1                 | \n",
       "|  137              |  1                | 1                 | 1                 | 19                | 11752             | 26.2833           | S                 | 1                 | small             | D                 | 128               | 1                 | \n",
       "|  176              |  0                | 3                 | 0                 | 18                | 350404            |  7.8542           | S                 | 0                 | small             | NA                | 160               | 1                 | \n",
       "|  193              |  1                | 3                 | 1                 | 19                | 350046            |  7.8542           | S                 | 1                 | small             | NA                | 175               | 1                 | \n",
       "|  198              |  0                | 3                 | 0                 | 42                | 4579              |  8.4042           | S                 | 0                 | small             | NA                | 178               | 1                 | \n",
       "|  215              |  0                | 3                 | 0                 | NA                | 367229            |  7.7500           | Q                 | 0                 | small             | NA                | 193               | 1                 | \n",
       "|  268              |  1                | 3                 | 0                 | 25                | 347083            |  7.7750           | S                 | 0                 | small             | NA                | 239               | 1                 | \n",
       "|  274              |  0                | 1                 | 0                 | 37                | PC 17596          | 29.7000           | C                 | 0                 | small             | C                 | 244               | 1                 | \n",
       "|  353              |  0                | 3                 | 0                 | 15                | 2695              |  7.2292           | C                 | 0                 | small             | NA                | 307               | 1                 | \n",
       "|  372              |  0                | 3                 | 0                 | 18                | 3101267           |  6.4958           | S                 | 0                 | small             | NA                | 322               | 1                 | \n",
       "|  393              |  0                | 3                 | 0                 | 28                | 3101277           |  7.9250           | S                 | 0                 | small             | NA                | 337               | 1                 | \n",
       "|  403              |  0                | 3                 | 1                 | 21                | 4137              |  9.8250           | S                 | 1                 | small             | NA                | 345               | 1                 | \n",
       "|  418              |  1                | 2                 | 1                 | 18                | 250652            | 13.0000           | S                 | 1                 | small             | NA                | 356               | 1                 | \n",
       "|  443              |  0                | 3                 | 0                 | 25                | 347076            |  7.7750           | S                 | 0                 | small             | NA                | 375               | 1                 | \n",
       "|  452              |  0                | 3                 | 0                 | NA                | 65303             | 19.9667           | S                 | 0                 | small             | NA                | 382               | 1                 | \n",
       "|  478              |  0                | 3                 | 0                 | 29                | 3460              |  7.0458           | S                 | 0                 | small             | NA                | 404               | 1                 | \n",
       "|  491              |  0                | 3                 | 0                 | NA                | 65304             | 19.9667           | S                 | 0                 | small             | NA                | 412               | 1                 | \n",
       "|  530              |  0                | 2                 | 0                 | 23                | 29104             | 11.5000           | S                 | 0                 | small             | NA                | 444               | 1                 | \n",
       "|  533              |  0                | 3                 | 0                 | 17                | 2690              |  7.2292           | C                 | 0                 | small             | NA                | 446               | 1                 | \n",
       "|  540              |  1                | 1                 | 1                 | 22                | 13568             | 49.5000           | C                 | 1                 | small             | B                 | 451               | 1                 | \n",
       "|  557              |  1                | 1                 | 1                 | 48                | 11755             | 39.6000           | C                 | 3                 | small             | A                 | 461               | 1                 | \n",
       "|  594              |  0                | 3                 | 1                 | NA                | 364848            |  7.7500           | Q                 | 1                 | small             | NA                | 490               | 1                 | \n",
       "|  665              |  1                | 3                 | 0                 | 20                | STON/O 2. 3101285 |  7.9250           | S                 | 0                 | small             | NA                | 534               | 1                 | \n",
       "|  705              |  0                | 3                 | 0                 | 26                | 350025            |  7.8542           | S                 | 0                 | small             | NA                | 562               | 1                 | \n",
       "|  722              |  0                | 3                 | 0                 | 17                | 350048            |  7.0542           | S                 | 0                 | small             | NA                | 573               | 1                 | \n",
       "|  730              |  0                | 3                 | 1                 | 25                | STON/O2. 3101271  |  7.9250           | S                 | 1                 | small             | NA                | 580               | 1                 | \n",
       "|  862              |  0                | 2                 | 0                 | 21                | 28134             | 11.5000           | S                 | 0                 | small             | NA                | 661               | 1                 | \n",
       "|  867              |  1                | 2                 | 1                 | 27                | SC/PARIS 2149     | 13.8583           | C                 | 1                 | small             | NA                | 665               | 1                 | \n",
       "|  893              | NA                | 3                 | 1                 | 47                | 363272            |  7.0000           | S                 | 2                 | small             | NA                | 683               | 1                 | \n",
       "|  910              | NA                | 3                 | 1                 | 27                | STON/O2. 3101270  |  7.9250           | S                 | 1                 | small             | NA                | 695               | 1                 | \n",
       "|  913              | NA                | 3                 | 0                 |  9                | C 17368           |  3.1708           | S                 | 3                 | small             | NA                | 697               | 1                 | \n",
       "|  969              | NA                | 1                 | 1                 | 55                | 11770             | 25.7000           | S                 | 2                 | small             | C                 | 730               | 1                 | \n",
       "| 1013              | NA                | 3                 | 0                 | NA                | 367227            |  7.7500           | Q                 | 0                 | small             | NA                | 761               | 1                 | \n",
       "| 1025              | NA                | 3                 | 0                 | NA                | 2621              |  6.4375           | C                 | 0                 | small             | NA                | 769               | 1                 | \n",
       "| 1079              | NA                | 3                 | 0                 | 17                | A/4 48873         |  8.0500           | S                 | 0                 | small             | NA                | 799               | 1                 | \n",
       "| 1106              | NA                | 3                 | 1                 | 38                | 347091            |  7.7750           | S                 | 1                 | large             | NA                | 814               | 1                 | \n",
       "| 1112              | NA                | 2                 | 1                 | 30                | SC/PARIS 2148     | 13.8583           | C                 | 1                 | small             | NA                | 818               | 1                 | \n",
       "| 1124              | NA                | 3                 | 0                 | 21                | 3101266           |  6.4958           | S                 | 0                 | small             | NA                | 827               | 1                 | \n",
       "| 1130              | NA                | 2                 | 1                 | 18                | 250650            | 13.0000           | S                 | 1                 | small             | NA                | 831               | 1                 | \n",
       "| 1197              | NA                | 1                 | 1                 | 64                | 112901            | 26.5500           | S                 | 2                 | small             | B                 | 872               | 1                 | \n",
       "| 1229              | NA                | 3                 | 0                 | 39                | 2675              |  7.2292           | C                 | 0                 | small             | NA                | 891               | 1                 | \n",
       "| 1262              | NA                | 2                 | 0                 | 21                | 28133             | 11.5000           | S                 | 0                 | small             | NA                | 906               | 1                 | \n",
       "| 1268              | NA                | 3                 | 1                 | 22                | 315152            |  8.6625           | S                 | 1                 | small             | NA                | 908               | 1                 | \n",
       "| 1296              | NA                | 1                 | 0                 | 43                | 17765             | 27.7208           | C                 | 0                 | small             | D                 | 921               | 1                 | \n",
       "| 1298              | NA                | 2                 | 0                 | 23                | 28666             | 10.5000           | S                 | 0                 | small             | NA                | 923               | 1                 | \n",
       "\n",
       "\n"
      ],
      "text/plain": [
       "   PassengerId Survived Pclass Sex Age Ticket            Fare    Embarked Title\n",
       "1     1         0       3      0   22  A/5 21171          7.2500 S        0    \n",
       "2    41         0       3      1   40  7546               9.4750 S        2    \n",
       "3    69         1       3      1   17  3101281            7.9250 S        1    \n",
       "4    70         0       3      0   26  315151             8.6625 S        0    \n",
       "5   105         0       3      0   37  3101276            7.9250 S        0    \n",
       "6   114         0       3      1   20  4136               9.8250 S        1    \n",
       "7   137         1       1      1   19  11752             26.2833 S        1    \n",
       "8   176         0       3      0   18  350404             7.8542 S        0    \n",
       "9   193         1       3      1   19  350046             7.8542 S        1    \n",
       "10  198         0       3      0   42  4579               8.4042 S        0    \n",
       "11  215         0       3      0   NA  367229             7.7500 Q        0    \n",
       "12  268         1       3      0   25  347083             7.7750 S        0    \n",
       "13  274         0       1      0   37  PC 17596          29.7000 C        0    \n",
       "14  353         0       3      0   15  2695               7.2292 C        0    \n",
       "15  372         0       3      0   18  3101267            6.4958 S        0    \n",
       "16  393         0       3      0   28  3101277            7.9250 S        0    \n",
       "17  403         0       3      1   21  4137               9.8250 S        1    \n",
       "18  418         1       2      1   18  250652            13.0000 S        1    \n",
       "19  443         0       3      0   25  347076             7.7750 S        0    \n",
       "20  452         0       3      0   NA  65303             19.9667 S        0    \n",
       "21  478         0       3      0   29  3460               7.0458 S        0    \n",
       "22  491         0       3      0   NA  65304             19.9667 S        0    \n",
       "23  530         0       2      0   23  29104             11.5000 S        0    \n",
       "24  533         0       3      0   17  2690               7.2292 C        0    \n",
       "25  540         1       1      1   22  13568             49.5000 C        1    \n",
       "26  557         1       1      1   48  11755             39.6000 C        3    \n",
       "27  594         0       3      1   NA  364848             7.7500 Q        1    \n",
       "28  665         1       3      0   20  STON/O 2. 3101285  7.9250 S        0    \n",
       "29  705         0       3      0   26  350025             7.8542 S        0    \n",
       "30  722         0       3      0   17  350048             7.0542 S        0    \n",
       "31  730         0       3      1   25  STON/O2. 3101271   7.9250 S        1    \n",
       "32  862         0       2      0   21  28134             11.5000 S        0    \n",
       "33  867         1       2      1   27  SC/PARIS 2149     13.8583 C        1    \n",
       "34  893        NA       3      1   47  363272             7.0000 S        2    \n",
       "35  910        NA       3      1   27  STON/O2. 3101270   7.9250 S        1    \n",
       "36  913        NA       3      0    9  C 17368            3.1708 S        3    \n",
       "37  969        NA       1      1   55  11770             25.7000 S        2    \n",
       "38 1013        NA       3      0   NA  367227             7.7500 Q        0    \n",
       "39 1025        NA       3      0   NA  2621               6.4375 C        0    \n",
       "40 1079        NA       3      0   17  A/4 48873          8.0500 S        0    \n",
       "41 1106        NA       3      1   38  347091             7.7750 S        1    \n",
       "42 1112        NA       2      1   30  SC/PARIS 2148     13.8583 C        1    \n",
       "43 1124        NA       3      0   21  3101266            6.4958 S        0    \n",
       "44 1130        NA       2      1   18  250650            13.0000 S        1    \n",
       "45 1197        NA       1      1   64  112901            26.5500 S        2    \n",
       "46 1229        NA       3      0   39  2675               7.2292 C        0    \n",
       "47 1262        NA       2      0   21  28133             11.5000 S        0    \n",
       "48 1268        NA       3      1   22  315152             8.6625 S        1    \n",
       "49 1296        NA       1      0   43  17765             27.7208 C        0    \n",
       "50 1298        NA       2      0   23  28666             10.5000 S        0    \n",
       "   Family Deck TravelGroup GroupSize\n",
       "1  small  NA     1         1        \n",
       "2  small  NA    40         1        \n",
       "3  large  NA    68         1        \n",
       "4  small  NA    69         1        \n",
       "5  small  NA   102         1        \n",
       "6  small  NA   111         1        \n",
       "7  small  D    128         1        \n",
       "8  small  NA   160         1        \n",
       "9  small  NA   175         1        \n",
       "10 small  NA   178         1        \n",
       "11 small  NA   193         1        \n",
       "12 small  NA   239         1        \n",
       "13 small  C    244         1        \n",
       "14 small  NA   307         1        \n",
       "15 small  NA   322         1        \n",
       "16 small  NA   337         1        \n",
       "17 small  NA   345         1        \n",
       "18 small  NA   356         1        \n",
       "19 small  NA   375         1        \n",
       "20 small  NA   382         1        \n",
       "21 small  NA   404         1        \n",
       "22 small  NA   412         1        \n",
       "23 small  NA   444         1        \n",
       "24 small  NA   446         1        \n",
       "25 small  B    451         1        \n",
       "26 small  A    461         1        \n",
       "27 small  NA   490         1        \n",
       "28 small  NA   534         1        \n",
       "29 small  NA   562         1        \n",
       "30 small  NA   573         1        \n",
       "31 small  NA   580         1        \n",
       "32 small  NA   661         1        \n",
       "33 small  NA   665         1        \n",
       "34 small  NA   683         1        \n",
       "35 small  NA   695         1        \n",
       "36 small  NA   697         1        \n",
       "37 small  C    730         1        \n",
       "38 small  NA   761         1        \n",
       "39 small  NA   769         1        \n",
       "40 small  NA   799         1        \n",
       "41 large  NA   814         1        \n",
       "42 small  NA   818         1        \n",
       "43 small  NA   827         1        \n",
       "44 small  NA   831         1        \n",
       "45 small  B    872         1        \n",
       "46 small  NA   891         1        \n",
       "47 small  NA   906         1        \n",
       "48 small  NA   908         1        \n",
       "49 small  D    921         1        \n",
       "50 small  NA   923         1        "
      ]
     },
     "metadata": {},
     "output_type": "display_data"
    }
   ],
   "source": [
    "full  %>% filter(GroupSize==1,Family!=\"single\") # 50개"
   ]
  },
  {
   "cell_type": "code",
   "execution_count": 350,
   "metadata": {},
   "outputs": [],
   "source": [
    "full$GroupSize=as.factor(full$GroupSize)"
   ]
  },
  {
   "cell_type": "markdown",
   "metadata": {},
   "source": [
    "# Missing Value"
   ]
  },
  {
   "cell_type": "code",
   "execution_count": 351,
   "metadata": {},
   "outputs": [
    {
     "data": {
      "text/html": [
       "<dl class=dl-horizontal>\n",
       "\t<dt>PassengerId</dt>\n",
       "\t\t<dd>0</dd>\n",
       "\t<dt>Survived</dt>\n",
       "\t\t<dd>418</dd>\n",
       "\t<dt>Pclass</dt>\n",
       "\t\t<dd>0</dd>\n",
       "\t<dt>Sex</dt>\n",
       "\t\t<dd>0</dd>\n",
       "\t<dt>Age</dt>\n",
       "\t\t<dd>263</dd>\n",
       "\t<dt>Ticket</dt>\n",
       "\t\t<dd>0</dd>\n",
       "\t<dt>Fare</dt>\n",
       "\t\t<dd>1</dd>\n",
       "\t<dt>Embarked</dt>\n",
       "\t\t<dd>0</dd>\n",
       "\t<dt>Title</dt>\n",
       "\t\t<dd>0</dd>\n",
       "\t<dt>Family</dt>\n",
       "\t\t<dd>0</dd>\n",
       "\t<dt>Deck</dt>\n",
       "\t\t<dd>1014</dd>\n",
       "\t<dt>TravelGroup</dt>\n",
       "\t\t<dd>0</dd>\n",
       "\t<dt>GroupSize</dt>\n",
       "\t\t<dd>0</dd>\n",
       "</dl>\n"
      ],
      "text/latex": [
       "\\begin{description*}\n",
       "\\item[PassengerId] 0\n",
       "\\item[Survived] 418\n",
       "\\item[Pclass] 0\n",
       "\\item[Sex] 0\n",
       "\\item[Age] 263\n",
       "\\item[Ticket] 0\n",
       "\\item[Fare] 1\n",
       "\\item[Embarked] 0\n",
       "\\item[Title] 0\n",
       "\\item[Family] 0\n",
       "\\item[Deck] 1014\n",
       "\\item[TravelGroup] 0\n",
       "\\item[GroupSize] 0\n",
       "\\end{description*}\n"
      ],
      "text/markdown": [
       "PassengerId\n",
       ":   0Survived\n",
       ":   418Pclass\n",
       ":   0Sex\n",
       ":   0Age\n",
       ":   263Ticket\n",
       ":   0Fare\n",
       ":   1Embarked\n",
       ":   0Title\n",
       ":   0Family\n",
       ":   0Deck\n",
       ":   1014TravelGroup\n",
       ":   0GroupSize\n",
       ":   0\n",
       "\n"
      ],
      "text/plain": [
       "PassengerId    Survived      Pclass         Sex         Age      Ticket \n",
       "          0         418           0           0         263           0 \n",
       "       Fare    Embarked       Title      Family        Deck TravelGroup \n",
       "          1           0           0           0        1014           0 \n",
       "  GroupSize \n",
       "          0 "
      ]
     },
     "metadata": {},
     "output_type": "display_data"
    }
   ],
   "source": [
    "colSums(is.na(full))"
   ]
  },
  {
   "cell_type": "markdown",
   "metadata": {},
   "source": [
    "Embarked(탑승항구) 결측치 처리"
   ]
  },
  {
   "cell_type": "code",
   "execution_count": 352,
   "metadata": {},
   "outputs": [
    {
     "data": {
      "text/html": [
       "<table>\n",
       "<thead><tr><th scope=col>PassengerId</th><th scope=col>Survived</th><th scope=col>Pclass</th><th scope=col>Sex</th><th scope=col>Age</th><th scope=col>Ticket</th><th scope=col>Fare</th><th scope=col>Embarked</th><th scope=col>Title</th><th scope=col>Family</th><th scope=col>Deck</th><th scope=col>TravelGroup</th><th scope=col>GroupSize</th></tr></thead>\n",
       "<tbody>\n",
       "\t<tr><td> 62   </td><td>1     </td><td>1     </td><td>1     </td><td>38    </td><td>113572</td><td>80    </td><td>      </td><td>1     </td><td>single</td><td>B     </td><td>61    </td><td>2     </td></tr>\n",
       "\t<tr><td>830   </td><td>1     </td><td>1     </td><td>1     </td><td>62    </td><td>113572</td><td>80    </td><td>      </td><td>2     </td><td>single</td><td>B     </td><td>61    </td><td>2     </td></tr>\n",
       "</tbody>\n",
       "</table>\n"
      ],
      "text/latex": [
       "\\begin{tabular}{r|lllllllllllll}\n",
       " PassengerId & Survived & Pclass & Sex & Age & Ticket & Fare & Embarked & Title & Family & Deck & TravelGroup & GroupSize\\\\\n",
       "\\hline\n",
       "\t  62    & 1      & 1      & 1      & 38     & 113572 & 80     &        & 1      & single & B      & 61     & 2     \\\\\n",
       "\t 830    & 1      & 1      & 1      & 62     & 113572 & 80     &        & 2      & single & B      & 61     & 2     \\\\\n",
       "\\end{tabular}\n"
      ],
      "text/markdown": [
       "\n",
       "PassengerId | Survived | Pclass | Sex | Age | Ticket | Fare | Embarked | Title | Family | Deck | TravelGroup | GroupSize | \n",
       "|---|---|\n",
       "|  62    | 1      | 1      | 1      | 38     | 113572 | 80     |        | 1      | single | B      | 61     | 2      | \n",
       "| 830    | 1      | 1      | 1      | 62     | 113572 | 80     |        | 2      | single | B      | 61     | 2      | \n",
       "\n",
       "\n"
      ],
      "text/plain": [
       "  PassengerId Survived Pclass Sex Age Ticket Fare Embarked Title Family Deck\n",
       "1  62         1        1      1   38  113572 80            1     single B   \n",
       "2 830         1        1      1   62  113572 80            2     single B   \n",
       "  TravelGroup GroupSize\n",
       "1 61          2        \n",
       "2 61          2        "
      ]
     },
     "metadata": {},
     "output_type": "display_data"
    }
   ],
   "source": [
    "full  %>% filter(Embarked==\"\") #두개의 관측치 모두 Fare가 80이고, Pclass가 1임"
   ]
  },
  {
   "cell_type": "code",
   "execution_count": 353,
   "metadata": {},
   "outputs": [],
   "source": [
    "embark_fare= full  %>% filter(Embarked!=\"\")"
   ]
  },
  {
   "cell_type": "code",
   "execution_count": 354,
   "metadata": {},
   "outputs": [
    {
     "name": "stderr",
     "output_type": "stream",
     "text": [
      "Warning message:\n",
      "\"Removed 1 rows containing non-finite values (stat_boxplot).\""
     ]
    },
    {
     "data": {},
     "metadata": {},
     "output_type": "display_data"
    },
    {
     "data": {
      "image/png": "[encoded data removed]",
      "text/plain": [
       "plot without title"
      ]
     },
     "metadata": {},
     "output_type": "display_data"
    }
   ],
   "source": [
    "ggplot(embark_fare, aes(x = Embarked, y = Fare, fill = factor(Pclass))) +\n",
    "  geom_boxplot() +\n",
    "  geom_hline(aes(yintercept=80), \n",
    "    colour='red', linetype='dashed', lwd=2) +\n",
    "  scale_y_continuous()\n",
    "\n",
    "#fare가 80달러이면서 Pclass가 1인 승객들의 Embark는 C임"
   ]
  },
  {
   "cell_type": "code",
   "execution_count": 355,
   "metadata": {},
   "outputs": [
    {
     "data": {
      "text/html": [
       "<table>\n",
       "<thead><tr><th scope=col>PassengerId</th><th scope=col>Survived</th><th scope=col>Pclass</th><th scope=col>Sex</th><th scope=col>Age</th><th scope=col>Ticket</th><th scope=col>Fare</th><th scope=col>Embarked</th><th scope=col>Title</th><th scope=col>Family</th><th scope=col>Deck</th><th scope=col>TravelGroup</th><th scope=col>GroupSize</th></tr></thead>\n",
       "<tbody>\n",
       "\t<tr><td> 62   </td><td>1     </td><td>1     </td><td>1     </td><td>38    </td><td>113572</td><td>80    </td><td>C     </td><td>1     </td><td>single</td><td>B     </td><td>61    </td><td>2     </td></tr>\n",
       "\t<tr><td>830   </td><td>1     </td><td>1     </td><td>1     </td><td>62    </td><td>113572</td><td>80    </td><td>C     </td><td>2     </td><td>single</td><td>B     </td><td>61    </td><td>2     </td></tr>\n",
       "</tbody>\n",
       "</table>\n"
      ],
      "text/latex": [
       "\\begin{tabular}{r|lllllllllllll}\n",
       " PassengerId & Survived & Pclass & Sex & Age & Ticket & Fare & Embarked & Title & Family & Deck & TravelGroup & GroupSize\\\\\n",
       "\\hline\n",
       "\t  62    & 1      & 1      & 1      & 38     & 113572 & 80     & C      & 1      & single & B      & 61     & 2     \\\\\n",
       "\t 830    & 1      & 1      & 1      & 62     & 113572 & 80     & C      & 2      & single & B      & 61     & 2     \\\\\n",
       "\\end{tabular}\n"
      ],
      "text/markdown": [
       "\n",
       "PassengerId | Survived | Pclass | Sex | Age | Ticket | Fare | Embarked | Title | Family | Deck | TravelGroup | GroupSize | \n",
       "|---|---|\n",
       "|  62    | 1      | 1      | 1      | 38     | 113572 | 80     | C      | 1      | single | B      | 61     | 2      | \n",
       "| 830    | 1      | 1      | 1      | 62     | 113572 | 80     | C      | 2      | single | B      | 61     | 2      | \n",
       "\n",
       "\n"
      ],
      "text/plain": [
       "  PassengerId Survived Pclass Sex Age Ticket Fare Embarked Title Family Deck\n",
       "1  62         1        1      1   38  113572 80   C        1     single B   \n",
       "2 830         1        1      1   62  113572 80   C        2     single B   \n",
       "  TravelGroup GroupSize\n",
       "1 61          2        \n",
       "2 61          2        "
      ]
     },
     "metadata": {},
     "output_type": "display_data"
    }
   ],
   "source": [
    "full$Embarked[c(62, 830)] <- 'C'\n",
    "\n",
    "full[c(62, 830),] "
   ]
  },
  {
   "cell_type": "markdown",
   "metadata": {},
   "source": [
    "Fare(요금) 결측치 처리"
   ]
  },
  {
   "cell_type": "code",
   "execution_count": 356,
   "metadata": {},
   "outputs": [
    {
     "data": {
      "text/html": [
       "<table>\n",
       "<thead><tr><th scope=col>PassengerId</th><th scope=col>Survived</th><th scope=col>Pclass</th><th scope=col>Sex</th><th scope=col>Age</th><th scope=col>Ticket</th><th scope=col>Fare</th><th scope=col>Embarked</th><th scope=col>Title</th><th scope=col>Family</th><th scope=col>Deck</th><th scope=col>TravelGroup</th><th scope=col>GroupSize</th></tr></thead>\n",
       "<tbody>\n",
       "\t<tr><td>1044  </td><td>NA    </td><td>3     </td><td>0     </td><td>60.5  </td><td>3701  </td><td>NA    </td><td>S     </td><td>0     </td><td>single</td><td>NA    </td><td>779   </td><td>1     </td></tr>\n",
       "</tbody>\n",
       "</table>\n"
      ],
      "text/latex": [
       "\\begin{tabular}{r|lllllllllllll}\n",
       " PassengerId & Survived & Pclass & Sex & Age & Ticket & Fare & Embarked & Title & Family & Deck & TravelGroup & GroupSize\\\\\n",
       "\\hline\n",
       "\t 1044   & NA     & 3      & 0      & 60.5   & 3701   & NA     & S      & 0      & single & NA     & 779    & 1     \\\\\n",
       "\\end{tabular}\n"
      ],
      "text/markdown": [
       "\n",
       "PassengerId | Survived | Pclass | Sex | Age | Ticket | Fare | Embarked | Title | Family | Deck | TravelGroup | GroupSize | \n",
       "|---|\n",
       "| 1044   | NA     | 3      | 0      | 60.5   | 3701   | NA     | S      | 0      | single | NA     | 779    | 1      | \n",
       "\n",
       "\n"
      ],
      "text/plain": [
       "  PassengerId Survived Pclass Sex Age  Ticket Fare Embarked Title Family Deck\n",
       "1 1044        NA       3      0   60.5 3701   NA   S        0     single NA  \n",
       "  TravelGroup GroupSize\n",
       "1 779         1        "
      ]
     },
     "metadata": {},
     "output_type": "display_data"
    }
   ],
   "source": [
    "full  %>% filter(is.na(full$Fare)) #Pclasss가 3이고, Embarked는 S임"
   ]
  },
  {
   "cell_type": "code",
   "execution_count": 357,
   "metadata": {},
   "outputs": [],
   "source": [
    "full$Fare[1044] <- median(full[full$Pclass == '3' & full$Embarked == 'S', ]$Fare, na.rm = TRUE) #중앙값으로 결측치 처리"
   ]
  },
  {
   "cell_type": "code",
   "execution_count": 358,
   "metadata": {},
   "outputs": [
    {
     "data": {
      "text/html": [
       "<table>\n",
       "<thead><tr><th scope=col>PassengerId</th><th scope=col>Survived</th><th scope=col>Pclass</th><th scope=col>Sex</th><th scope=col>Age</th><th scope=col>Ticket</th><th scope=col>Fare</th><th scope=col>Embarked</th><th scope=col>Title</th><th scope=col>Family</th><th scope=col>Deck</th><th scope=col>TravelGroup</th><th scope=col>GroupSize</th></tr></thead>\n",
       "<tbody>\n",
       "\t<tr><td>1044  </td><td>NA    </td><td>3     </td><td>0     </td><td>60.5  </td><td>3701  </td><td>8.05  </td><td>S     </td><td>0     </td><td>single</td><td>NA    </td><td>779   </td><td>1     </td></tr>\n",
       "</tbody>\n",
       "</table>\n"
      ],
      "text/latex": [
       "\\begin{tabular}{r|lllllllllllll}\n",
       " PassengerId & Survived & Pclass & Sex & Age & Ticket & Fare & Embarked & Title & Family & Deck & TravelGroup & GroupSize\\\\\n",
       "\\hline\n",
       "\t 1044   & NA     & 3      & 0      & 60.5   & 3701   & 8.05   & S      & 0      & single & NA     & 779    & 1     \\\\\n",
       "\\end{tabular}\n"
      ],
      "text/markdown": [
       "\n",
       "PassengerId | Survived | Pclass | Sex | Age | Ticket | Fare | Embarked | Title | Family | Deck | TravelGroup | GroupSize | \n",
       "|---|\n",
       "| 1044   | NA     | 3      | 0      | 60.5   | 3701   | 8.05   | S      | 0      | single | NA     | 779    | 1      | \n",
       "\n",
       "\n"
      ],
      "text/plain": [
       "  PassengerId Survived Pclass Sex Age  Ticket Fare Embarked Title Family Deck\n",
       "1 1044        NA       3      0   60.5 3701   8.05 S        0     single NA  \n",
       "  TravelGroup GroupSize\n",
       "1 779         1        "
      ]
     },
     "metadata": {},
     "output_type": "display_data"
    }
   ],
   "source": [
    "full[1044,]"
   ]
  },
  {
   "cell_type": "code",
   "execution_count": 359,
   "metadata": {},
   "outputs": [
    {
     "name": "stderr",
     "output_type": "stream",
     "text": [
      "`stat_bin()` using `bins = 30`. Pick better value with `binwidth`.\n",
      "`stat_bin()` using `bins = 30`. Pick better value with `binwidth`.\n",
      "Warning message:\n",
      "\"Removed 17 rows containing non-finite values (stat_bin).\""
     ]
    },
    {
     "data": {
      "image/png": "[encoded data removed]",
      "text/plain": [
       "plot without title"
      ]
     },
     "metadata": {},
     "output_type": "display_data"
    }
   ],
   "source": [
    "Fare.p1 <- full %>%\n",
    "  ggplot(aes(Fare)) + \n",
    "  geom_histogram(col    = \"yellow\",\n",
    "                 fill   = \"blue\", \n",
    "                 alpha  = .5) +\n",
    "  ggtitle(\"Histogram of passengers Fare\") +\n",
    "  theme(plot.title = element_text(face = \"bold\", hjust = 0.5, size = 15))\n",
    "\n",
    "Fare.p2 <- full %>%\n",
    "  ggplot(aes(log(Fare))) + \n",
    "  geom_histogram(col    = \"yellow\",\n",
    "                 fill   = \"blue\", \n",
    "                 alpha  = .5) +\n",
    "  ggtitle(\"Histogram of passengers log Fare\") +\n",
    "  theme(plot.title = element_text(face = \"bold\", hjust = 0.5, size = 15))\n",
    "\n",
    "grid.arrange(Fare.p1,Fare.p2,ncol=2)"
   ]
  },
  {
   "cell_type": "markdown",
   "metadata": {},
   "source": [
    "Age(나이) 결측치 처리"
   ]
  },
  {
   "cell_type": "code",
   "execution_count": 360,
   "metadata": {},
   "outputs": [],
   "source": [
    "full=as.data.frame(full)"
   ]
  },
  {
   "cell_type": "code",
   "execution_count": 361,
   "metadata": {},
   "outputs": [
    {
     "data": {
      "text/html": [
       "<table>\n",
       "<thead><tr><th scope=col>Title</th><th scope=col>Age.mean</th><th scope=col>Age.sd</th><th scope=col>Age.median</th></tr></thead>\n",
       "<tbody>\n",
       "\t<tr><td>0       </td><td>32.25215</td><td>12.42209</td><td>29.0    </td></tr>\n",
       "\t<tr><td>1       </td><td>21.77424</td><td>12.24908</td><td>22.0    </td></tr>\n",
       "\t<tr><td>2       </td><td>36.99412</td><td>12.90177</td><td>35.5    </td></tr>\n",
       "\t<tr><td>3       </td><td>19.47741</td><td>19.89266</td><td> 9.0    </td></tr>\n",
       "</tbody>\n",
       "</table>\n"
      ],
      "text/latex": [
       "\\begin{tabular}{r|llll}\n",
       " Title & Age.mean & Age.sd & Age.median\\\\\n",
       "\\hline\n",
       "\t 0        & 32.25215 & 12.42209 & 29.0    \\\\\n",
       "\t 1        & 21.77424 & 12.24908 & 22.0    \\\\\n",
       "\t 2        & 36.99412 & 12.90177 & 35.5    \\\\\n",
       "\t 3        & 19.47741 & 19.89266 &  9.0    \\\\\n",
       "\\end{tabular}\n"
      ],
      "text/markdown": [
       "\n",
       "Title | Age.mean | Age.sd | Age.median | \n",
       "|---|---|---|---|\n",
       "| 0        | 32.25215 | 12.42209 | 29.0     | \n",
       "| 1        | 21.77424 | 12.24908 | 22.0     | \n",
       "| 2        | 36.99412 | 12.90177 | 35.5     | \n",
       "| 3        | 19.47741 | 19.89266 |  9.0     | \n",
       "\n",
       "\n"
      ],
      "text/plain": [
       "  Title Age.mean Age.sd   Age.median\n",
       "1 0     32.25215 12.42209 29.0      \n",
       "2 1     21.77424 12.24908 22.0      \n",
       "3 2     36.99412 12.90177 35.5      \n",
       "4 3     19.47741 19.89266  9.0      "
      ]
     },
     "metadata": {},
     "output_type": "display_data"
    }
   ],
   "source": [
    "summaryBy(Age ~ Title, data=full, FUN=c(mean, sd, median), na.rm=TRUE)"
   ]
  },
  {
   "cell_type": "code",
   "execution_count": 362,
   "metadata": {},
   "outputs": [],
   "source": [
    "# Title별 Median Age를 통한 결측값 처리\n",
    "full$Age <- ifelse((is.na(full$Age) & full$Title == 0), 29, full$Age)\n",
    "full$Age <- ifelse((is.na(full$Age) & full$Title == 1), 22, full$Age)\n",
    "full$Age <- ifelse((is.na(full$Age) & full$Title == 2), 35, full$Age)\n",
    "full$Age <- ifelse((is.na(full$Age) & full$Title == 3), 9, full$Age)"
   ]
  },
  {
   "cell_type": "code",
   "execution_count": 363,
   "metadata": {},
   "outputs": [
    {
     "data": {
      "image/png": "[encoded data removed]",
      "text/plain": [
       "Plot with title \"Age\""
      ]
     },
     "metadata": {},
     "output_type": "display_data"
    }
   ],
   "source": [
    "hist(full$Age, freq=F, main='Age',col='lightgreen', ylim=c(0,0.04))"
   ]
  },
  {
   "cell_type": "markdown",
   "metadata": {},
   "source": [
    "-child: 18세 이하\n",
    "\n",
    "-adult: 19세 이상 64세 이하\n",
    "\n",
    "-senior: 65세 이상"
   ]
  },
  {
   "cell_type": "code",
   "execution_count": 364,
   "metadata": {},
   "outputs": [],
   "source": [
    "full$Age <- ifelse(full$Age <= 18, \"child\",\n",
    "                    ifelse(full$Age > 18 & full$Age <= 64, \"adult\",\"senior\"))"
   ]
  },
  {
   "cell_type": "code",
   "execution_count": 365,
   "metadata": {},
   "outputs": [
    {
     "data": {
      "text/plain": [
       "\n",
       " adult  child senior \n",
       "  1093    203     13 "
      ]
     },
     "metadata": {},
     "output_type": "display_data"
    }
   ],
   "source": [
    "table(full$Age)"
   ]
  },
  {
   "cell_type": "markdown",
   "metadata": {},
   "source": [
    "# Predict"
   ]
  },
  {
   "cell_type": "code",
   "execution_count": 366,
   "metadata": {},
   "outputs": [],
   "source": [
    "factor_vars <- c('PassengerId','Survived','Pclass','Age','Embarked')\n",
    "\n",
    "full[factor_vars] <- lapply(full[factor_vars], function(x) as.factor(x))"
   ]
  },
  {
   "cell_type": "code",
   "execution_count": 367,
   "metadata": {},
   "outputs": [
    {
     "name": "stdout",
     "output_type": "stream",
     "text": [
      "'data.frame':\t891 obs. of  12 variables:\n",
      " $ PassengerId: int  1 2 3 4 5 6 7 8 9 10 ...\n",
      " $ Survived   : int  0 1 1 1 0 0 0 0 1 1 ...\n",
      " $ Pclass     : int  3 1 3 1 3 3 1 3 3 2 ...\n",
      " $ Name       : chr  \"Braund, Mr. Owen Harris\" \"Cumings, Mrs. John Bradley (Florence Briggs Thayer)\" \"Heikkinen, Miss. Laina\" \"Futrelle, Mrs. Jacques Heath (Lily May Peel)\" ...\n",
      " $ Sex        : chr  \"male\" \"female\" \"female\" \"female\" ...\n",
      " $ Age        : num  22 38 26 35 35 NA 54 2 27 14 ...\n",
      " $ SibSp      : int  1 1 0 1 0 0 0 3 0 1 ...\n",
      " $ Parch      : int  0 0 0 0 0 0 0 1 2 0 ...\n",
      " $ Ticket     : chr  \"A/5 21171\" \"PC 17599\" \"STON/O2. 3101282\" \"113803\" ...\n",
      " $ Fare       : num  7.25 71.28 7.92 53.1 8.05 ...\n",
      " $ Cabin      : chr  \"\" \"C85\" \"\" \"C123\" ...\n",
      " $ Embarked   : chr  \"S\" \"C\" \"S\" \"S\" ...\n"
     ]
    },
    {
     "data": {
      "text/html": [
       "<dl class=dl-horizontal>\n",
       "\t<dt>PassengerId</dt>\n",
       "\t\t<dd>0</dd>\n",
       "\t<dt>Survived</dt>\n",
       "\t\t<dd>0</dd>\n",
       "\t<dt>Pclass</dt>\n",
       "\t\t<dd>0</dd>\n",
       "\t<dt>Name</dt>\n",
       "\t\t<dd>0</dd>\n",
       "\t<dt>Sex</dt>\n",
       "\t\t<dd>0</dd>\n",
       "\t<dt>Age</dt>\n",
       "\t\t<dd>177</dd>\n",
       "\t<dt>SibSp</dt>\n",
       "\t\t<dd>0</dd>\n",
       "\t<dt>Parch</dt>\n",
       "\t\t<dd>0</dd>\n",
       "\t<dt>Ticket</dt>\n",
       "\t\t<dd>0</dd>\n",
       "\t<dt>Fare</dt>\n",
       "\t\t<dd>0</dd>\n",
       "\t<dt>Cabin</dt>\n",
       "\t\t<dd>0</dd>\n",
       "\t<dt>Embarked</dt>\n",
       "\t\t<dd>0</dd>\n",
       "</dl>\n"
      ],
      "text/latex": [
       "\\begin{description*}\n",
       "\\item[PassengerId] 0\n",
       "\\item[Survived] 0\n",
       "\\item[Pclass] 0\n",
       "\\item[Name] 0\n",
       "\\item[Sex] 0\n",
       "\\item[Age] 177\n",
       "\\item[SibSp] 0\n",
       "\\item[Parch] 0\n",
       "\\item[Ticket] 0\n",
       "\\item[Fare] 0\n",
       "\\item[Cabin] 0\n",
       "\\item[Embarked] 0\n",
       "\\end{description*}\n"
      ],
      "text/markdown": [
       "PassengerId\n",
       ":   0Survived\n",
       ":   0Pclass\n",
       ":   0Name\n",
       ":   0Sex\n",
       ":   0Age\n",
       ":   177SibSp\n",
       ":   0Parch\n",
       ":   0Ticket\n",
       ":   0Fare\n",
       ":   0Cabin\n",
       ":   0Embarked\n",
       ":   0\n",
       "\n"
      ],
      "text/plain": [
       "PassengerId    Survived      Pclass        Name         Sex         Age \n",
       "          0           0           0           0           0         177 \n",
       "      SibSp       Parch      Ticket        Fare       Cabin    Embarked \n",
       "          0           0           0           0           0           0 "
      ]
     },
     "metadata": {},
     "output_type": "display_data"
    },
    {
     "ename": "ERROR",
     "evalue": "Error in is.finite(train): 유형 'list'에 대한 기본메소드는 구현되지 않았습니다\n",
     "output_type": "error",
     "traceback": [
      "Error in is.finite(train): 유형 'list'에 대한 기본메소드는 구현되지 않았습니다\nTraceback:\n"
     ]
    }
   ],
   "source": [
    "str(train)\n",
    "colSums(is.na(train))\n",
    "sum(is.finite(train))"
   ]
  },
  {
   "cell_type": "code",
   "execution_count": 368,
   "metadata": {},
   "outputs": [],
   "source": [
    "train <- full[1:891,]\n",
    "test <- full[892:1309,]"
   ]
  },
  {
   "cell_type": "code",
   "execution_count": 369,
   "metadata": {},
   "outputs": [],
   "source": [
    "set.seed(123)\n",
    "\n",
    "rf_model <- randomForest(factor(Survived) ~ Pclass + Sex + Age + Fare+\n",
    "                                            Embarked + Title + \n",
    "                                            Family+GroupSize,\n",
    "                                            data = train)"
   ]
  },
  {
   "cell_type": "code",
   "execution_count": 370,
   "metadata": {},
   "outputs": [
    {
     "data": {
      "image/png": "[encoded data removed]",
      "text/plain": [
       "Plot with title \"rf_model\""
      ]
     },
     "metadata": {},
     "output_type": "display_data"
    }
   ],
   "source": [
    "plot(rf_model, ylim=c(0,0.36))\n",
    "legend('topright', colnames(rf_model$err.rate), col=1:3, fill=1:3)"
   ]
  },
  {
   "cell_type": "code",
   "execution_count": 371,
   "metadata": {},
   "outputs": [
    {
     "data": {},
     "metadata": {},
     "output_type": "display_data"
    },
    {
     "data": {
      "image/png": "[encoded data removed]",
      "text/plain": [
       "plot without title"
      ]
     },
     "metadata": {},
     "output_type": "display_data"
    }
   ],
   "source": [
    "#변수 중요도\n",
    "importance    <- importance(rf_model)\n",
    "varImportance <- data.frame(Variables = row.names(importance), \n",
    "                            Importance = round(importance[ ,'MeanDecreaseGini'],2))\n",
    "\n",
    "rankImportance <- varImportance %>%\n",
    "  mutate(Rank = paste0('#',dense_rank(desc(Importance))))\n",
    "\n",
    "ggplot(rankImportance, aes(x = reorder(Variables, Importance), \n",
    "    y = Importance, fill = Importance)) +\n",
    "  geom_bar(stat='identity') + \n",
    "  geom_text(aes(x = Variables, y = 0.5, label = Rank),\n",
    "    hjust=0, vjust=0.55, size = 4, colour = 'red') +\n",
    "  labs(x = 'Variables') +\n",
    "  coord_flip()"
   ]
  },
  {
   "cell_type": "code",
   "execution_count": 372,
   "metadata": {},
   "outputs": [],
   "source": [
    "prediction <- predict(rf_model, test)\n",
    "\n",
    "solution <- data.frame(PassengerID = test$PassengerId, Survived = prediction)\n",
    "\n",
    "write.csv(solution, file = 'rf_mod_Solution.csv', row.names = F)"
   ]
  },
  {
   "cell_type": "code",
   "execution_count": 373,
   "metadata": {},
   "outputs": [
    {
     "data": {
      "text/plain": [
       "\n",
       "Call:\n",
       " randomForest(formula = factor(Survived) ~ Pclass + Sex + Age +      Fare + Embarked + Title + Family + GroupSize, data = train) \n",
       "               Type of random forest: classification\n",
       "                     Number of trees: 500\n",
       "No. of variables tried at each split: 2\n",
       "\n",
       "        OOB estimate of  error rate: 16.5%\n",
       "Confusion matrix:\n",
       "    0   1 class.error\n",
       "0 497  52  0.09471767\n",
       "1  95 247  0.27777778"
      ]
     },
     "metadata": {},
     "output_type": "display_data"
    }
   ],
   "source": [
    "rf_model"
   ]
  },
  {
   "cell_type": "code",
   "execution_count": 374,
   "metadata": {},
   "outputs": [
    {
     "data": {
      "image/png": "[encoded data removed]",
      "text/plain": [
       "Plot with title \"rf_model\""
      ]
     },
     "metadata": {},
     "output_type": "display_data"
    }
   ],
   "source": [
    "opar <- par(mfrow=c(1,2))\n",
    "plot(rf_model)\n",
    "varImpPlot(rf_model)"
   ]
  }
 ],
 "metadata": {
  "kernelspec": {
   "display_name": "R",
   "language": "R",
   "name": "ir"
  },
  "language_info": {
   "codemirror_mode": "r",
   "file_extension": ".r",
   "mimetype": "text/x-r-source",
   "name": "R",
   "pygments_lexer": "r",
   "version": "3.5.1"
  }
 },
 "nbformat": 4,
 "nbformat_minor": 2
}
